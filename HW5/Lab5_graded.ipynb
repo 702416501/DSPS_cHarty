{
 "cells": [
  {
   "cell_type": "markdown",
   "metadata": {
    "colab_type": "text",
    "id": "view-in-github"
   },
   "source": [
    "<a href=\"https://colab.research.google.com/github/cath19/DSPS_cHarty/blob/master/HW5/interactingWDrive_cHarty.ipynb\" target=\"_parent\"><img src=\"https://colab.research.google.com/assets/colab-badge.svg\" alt=\"Open In Colab\"/></a>"
   ]
  },
  {
   "cell_type": "markdown",
   "metadata": {
    "colab_type": "text",
    "id": "nrn7kPcZRdjY"
   },
   "source": [
    "# Review the operations below to interact with your drive and complete the final task"
   ]
  },
  {
   "cell_type": "markdown",
   "metadata": {
    "colab_type": "text",
    "id": "2R3CZcH2CpDE"
   },
   "source": [
    "### Integrating Colaboratory with Google Drive"
   ]
  },
  {
   "cell_type": "markdown",
   "metadata": {
    "colab_type": "text",
    "id": "rx6E_qY6Cs42"
   },
   "source": [
    "If we are going to be grabbing data from the internet for use with colaboratory, we'll need to use our google drive"
   ]
  },
  {
   "cell_type": "code",
   "execution_count": 1,
   "metadata": {
    "colab": {
     "base_uri": "https://localhost:8080/",
     "height": 122
    },
    "colab_type": "code",
    "id": "4q6UFssL5jyx",
    "outputId": "067684a7-49a4-48b6-881b-e86e30215995"
   },
   "outputs": [
    {
     "name": "stdout",
     "output_type": "stream",
     "text": [
      "Go to this URL in a browser: https://accounts.google.com/o/oauth2/auth?client_id=947318989803-6bn6qk8qdgf4n4g3pfee6491hc0brc4i.apps.googleusercontent.com&redirect_uri=urn%3Aietf%3Awg%3Aoauth%3A2.0%3Aoob&scope=email%20https%3A%2F%2Fwww.googleapis.com%2Fauth%2Fdocs.test%20https%3A%2F%2Fwww.googleapis.com%2Fauth%2Fdrive%20https%3A%2F%2Fwww.googleapis.com%2Fauth%2Fdrive.photos.readonly%20https%3A%2F%2Fwww.googleapis.com%2Fauth%2Fpeopleapi.readonly&response_type=code\n",
      "\n",
      "Enter your authorization code:\n",
      "··········\n",
      "Mounted at /content/drive\n"
     ]
    }
   ],
   "source": [
    "from google.colab import drive\n",
    "drive.mount(\"/content/drive\")"
   ]
  },
  {
   "cell_type": "markdown",
   "metadata": {
    "colab_type": "text",
    "id": "9tHaFZxd6ghX"
   },
   "source": [
    "### The unix terminal\n",
    "\n",
    "Unix is one of the oldest and most barebones Operating Systems (OS), but it serves as the platform for more advanced OSs like Mac OS and some modes of Windows.\n",
    "\n",
    "Unix and unix-based OSs like Mac OS, have a powerful utility called the \"Terminal\", that allows for a \"command line interface\" for interacting with your computer (Windows has something similar, but the syntax is different).\n",
    "\n",
    "Jupyter allows us to run some of these commands **as if we were in a terminal**:"
   ]
  },
  {
   "cell_type": "markdown",
   "metadata": {
    "colab_type": "text",
    "id": "f1fFc1AJgJ16"
   },
   "source": [
    "```ls``` lists the content of the directory you are in"
   ]
  },
  {
   "cell_type": "code",
   "execution_count": 2,
   "metadata": {
    "colab": {
     "base_uri": "https://localhost:8080/",
     "height": 34
    },
    "colab_type": "code",
    "id": "tbtlTGcv64xI",
    "outputId": "070eb223-347d-452a-fe27-878b036bc53e"
   },
   "outputs": [
    {
     "name": "stdout",
     "output_type": "stream",
     "text": [
      "\u001b[0m\u001b[01;34mdrive\u001b[0m/  \u001b[01;34msample_data\u001b[0m/\n"
     ]
    }
   ],
   "source": [
    "ls"
   ]
  },
  {
   "cell_type": "markdown",
   "metadata": {
    "colab_type": "text",
    "id": "EcwyVKKhqxy6"
   },
   "source": [
    "```pwd```  stants for present working directory and telss you which dir. you are in"
   ]
  },
  {
   "cell_type": "code",
   "execution_count": 3,
   "metadata": {
    "colab": {
     "base_uri": "https://localhost:8080/",
     "height": 34
    },
    "colab_type": "code",
    "id": "sdXEW_i7GhoG",
    "outputId": "20d6dc3e-fbf5-4394-d64a-7ed271e96946"
   },
   "outputs": [
    {
     "data": {
      "text/plain": [
       "'/content'"
      ]
     },
     "execution_count": 3,
     "metadata": {
      "tags": []
     },
     "output_type": "execute_result"
    }
   ],
   "source": [
    "pwd"
   ]
  },
  {
   "cell_type": "markdown",
   "metadata": {
    "colab_type": "text",
    "id": "Mgnac-c6rIRr"
   },
   "source": [
    "```ls``` with an argument lists the content of the directory path indicated by the argument "
   ]
  },
  {
   "cell_type": "code",
   "execution_count": 4,
   "metadata": {
    "colab": {
     "base_uri": "https://localhost:8080/",
     "height": 1000
    },
    "colab_type": "code",
    "id": "-KAOhizC68Yv",
    "outputId": "8f94c16c-0b60-458b-9d59-1b8fc6bc72d9"
   },
   "outputs": [
    {
     "name": "stdout",
     "output_type": "stream",
     "text": [
      " 1_0200_723.zip\n",
      " 2_0200_723.zip\n",
      " 3_0200_723.zip\n",
      " 4_0200_723.zip\n",
      " 5_0200_723.zip\n",
      " 58672097021__8917F9C4-98C8-4E5E-8342-8829ED3BA7F8.JPG\n",
      " 6_0200_723.zip\n",
      " 7_0200_723.zip\n",
      " activity_instructions.xml\n",
      "'Cat'\\''s 21st Birthday!.gform'\n",
      " cics106.gdoc\n",
      "\u001b[0m\u001b[01;34m'Colab Notebooks'\u001b[0m/\n",
      " data.csv\n",
      " data.gsheet\n",
      " \u001b[01;34mdsps\u001b[0m/\n",
      " \u001b[01;34mdsps2018_dir\u001b[0m/\n",
      " DSPS_HW2_1.ipynb\n",
      " DSPS_HW2_2.ipynb\n",
      "'Europa Essay.gdoc'\n",
      " Europa.gdoc\n",
      "\u001b[01;34m'fash122 videos'\u001b[0m/\n",
      "'Fash213 Exam2.docx'\n",
      "'fash213 exam3 (1).docx'\n",
      "'fash213 exam3.docx'\n",
      "\u001b[01;34m'Fash221 patterns'\u001b[0m/\n",
      " Figure_1.png\n",
      "'Food for SPS meeting.gform'\n",
      "'Getting started.pdf'\n",
      "'HartyCatherine_ projectWinter2018-part3.pptx'\n",
      "'Haydn Symphony #6.gslides'\n",
      "'Hubble (1).zip'\n",
      " Hubble.zip\n",
      " IMG_0670.JPG\n",
      " IMG_0674.JPG\n",
      " IMG_0684.JPG\n",
      " IMG_0754.jpg\n",
      " IMG_4818.JPG\n",
      " IMG_4835.JPG\n",
      "'ISWC2019_Wearables_Abstract_Hall (1).docx'\n",
      " ISWC2019_Wearables_Abstract_Hall.docx\n",
      " KS_earthquakes.ipynb\n",
      "'lab 2.gdoc'\n",
      "'lab report.gdoc'\n",
      "'lulu meme.gdoc'\n",
      "\u001b[01;34m'M2 Band articles'\u001b[0m/\n",
      " mcao20160808m13sciv0001_MASTER_GREEN.fits\n",
      "'mccjjbv bnvhkvlk hk l nhk.; khki.xlsx'\n",
      "'Mt. Cuba data.gsheet'\n",
      "'Mt. Cuba Observatory: Take 2.gform'\n",
      "'Mt. Cube Observatory Trip.gform'\n",
      "'new doc 2019-08-12 21.44.11_3.jpg'\n",
      " partc.2_phys208.txt\n",
      "'PHYS208 4&5.gsheet'\n",
      "'Phys208 Lab 3.gdoc'\n",
      "'phys208 lab 3.gsheet'\n",
      "'phys208 Lab 6.gdoc'\n",
      "'phys208 Lab 7.gdoc'\n",
      "'Phys208 Lab 8.gdoc'\n",
      "'Phys208 Lab9.gdoc'\n",
      "'Phys208 Lab Report 2.gdoc'\n",
      "'PHYS208 - Labs 4&5.gdoc'\n",
      "'Phys211 Lab 1 (1).xlsx'\n",
      "'Phys211 Lab 1 (1).xlsx.gsheet'\n",
      "'Phys211 Lab 3.gsheet'\n",
      "'Phys211 Lab 6.gsheet'\n",
      " phys424_Presentation.pptx\n",
      "\u001b[01;34m'Phys469 '\u001b[0m/\n",
      "'Presentation1 (1).gslides'\n",
      " Presentation1.gslides\n",
      " Presentation1.pptx\n",
      " Scans.gsheet\n",
      " Scan.stl\n",
      " SeaBreezes.zip\n",
      " \u001b[01;34msps\u001b[0m/\n",
      "'SPS BBQ RSVP.gform'\n",
      "\u001b[01;34m'sps egg drop pics'\u001b[0m/\n",
      "'SPS End of the Semester BBQ!.gform'\n",
      " strings.xml\n",
      " TBoi.stl\n",
      " teddo.stl\n",
      " \u001b[01;34mtest_dir\u001b[0m/\n",
      " unnamed.jpg\n",
      "'Untitled document (1).gdoc'\n",
      "'Untitled document.gdoc'\n",
      "'Untitled spreadsheet (1).gsheet'\n",
      "'Untitled spreadsheet.gsheet'\n",
      "'Wearable Tech Health Devices paper.gdoc'\n",
      " WhirlpoolPowerpoint.pdf\n",
      " \u001b[01;34mzbp\u001b[0m/\n",
      "'Zeebooboo (1).stl'\n",
      " Zeebooboo.stl\n"
     ]
    }
   ],
   "source": [
    "ls \"drive/My Drive\""
   ]
  },
  {
   "cell_type": "markdown",
   "metadata": {
    "colab_type": "text",
    "id": "O4unVfVs6_2t"
   },
   "source": [
    "Some of the most common and useful are:\n",
    "* ls - list the files in the current directory\n",
    "* cp - copy one file to another\n",
    "* cd - change the directory\n",
    "* mv - rename (move) a file\n",
    "* mkdir - make a directory\n",
    "* rm - delete a file\n",
    "* rmdir - delete an empty directory\n",
    "\n",
    "Bear in mind **these are <u>not</u> python commands**, but jupyter understands them.  Here are some examples that\n",
    "\n",
    "1. list the files in your google drive\n",
    "2. make a directory, test_dir, in your Google Drive\n",
    "3. copy a file from google drive, renaming it\n",
    "4. moving that copy into test_dir\n",
    "5. deleting the file from test_dit\n",
    "6. deleting the test_dir directory\n",
    "7. changing directories to your google drive\n",
    "8. listing the files there\n",
    "9. identifying your current working directory\n",
    "10. getting back to your colaboratory home directory\n"
   ]
  },
  {
   "cell_type": "markdown",
   "metadata": {
    "colab_type": "text",
    "id": "ko2OLRhwreLc"
   },
   "source": [
    "Make a new directory (folder)"
   ]
  },
  {
   "cell_type": "code",
   "execution_count": 6,
   "metadata": {
    "colab": {
     "base_uri": "https://localhost:8080/",
     "height": 34
    },
    "colab_type": "code",
    "id": "nc3PxtkeQhhI",
    "outputId": "ad2c5e4c-b41a-451b-ff1c-a77e77f70e40"
   },
   "outputs": [
    {
     "name": "stdout",
     "output_type": "stream",
     "text": [
      "mkdir: cannot create directory ‘drive/My Drive/test_dir’: File exists\n"
     ]
    }
   ],
   "source": [
    "mkdir \"drive/My Drive/test_dir\""
   ]
  },
  {
   "cell_type": "code",
   "execution_count": 7,
   "metadata": {
    "colab": {
     "base_uri": "https://localhost:8080/",
     "height": 1000
    },
    "colab_type": "code",
    "id": "tGR3o3rTulg-",
    "outputId": "588bf64a-03c1-48b6-bc56-7baa30daf0a5"
   },
   "outputs": [
    {
     "name": "stdout",
     "output_type": "stream",
     "text": [
      "total 1707661\n",
      "-rw------- 1 root root    696774 Jun 28  2016 'Getting started.pdf'\n",
      "-rw------- 1 root root       151 Sep 19  2016 'lab report.gdoc'\n",
      "-rw------- 1 root root       151 Sep 28  2016 'lab 2.gdoc'\n",
      "-rw------- 1 root root   2008636 Nov 13  2016  IMG_4818.JPG\n",
      "-rw------- 1 root root     14588 Nov 14  2016 'mccjjbv bnvhkvlk hk l nhk.; khki.xlsx'\n",
      "-rw------- 1 root root   2105551 Nov 15  2016  IMG_4835.JPG\n",
      "-rw------- 1 root root       151 Dec  5  2016  Europa.gdoc\n",
      "-rw------- 1 root root       151 Dec 13  2016 'Europa Essay.gdoc'\n",
      "-rw------- 1 root root       151 Feb 23  2017 'Untitled document.gdoc'\n",
      "-rw------- 1 root root     17944 Feb 28  2017 'Phys211 Lab 1 (1).xlsx'\n",
      "-rw------- 1 root root       151 Feb 28  2017 'Phys211 Lab 1 (1).xlsx.gsheet'\n",
      "-rw------- 1 root root       151 Mar  9  2017 'Phys208 Lab Report 2.gdoc'\n",
      "-rw------- 1 root root       151 Mar 15  2017 'phys208 lab 3.gsheet'\n",
      "-rw------- 1 root root       151 Mar 16  2017 'Untitled spreadsheet.gsheet'\n",
      "-rw------- 1 root root       151 Mar 16  2017 'Phys208 Lab 3.gdoc'\n",
      "-rw------- 1 root root       151 Mar 22  2017 'Phys211 Lab 3.gsheet'\n",
      "-rw------- 1 root root       151 Apr  4  2017 'Untitled document (1).gdoc'\n",
      "-rw------- 1 root root       151 Apr  4  2017 'PHYS208 4&5.gsheet'\n",
      "-rw------- 1 root root       151 Apr  6  2017 'PHYS208 - Labs 4&5.gdoc'\n",
      "-rw------- 1 root root    195253 Apr 12  2017  partc.2_phys208.txt\n",
      "-rw------- 1 root root       151 Apr 13  2017 'phys208 Lab 6.gdoc'\n",
      "-rw------- 1 root root       151 Apr 16  2017  cics106.gdoc\n",
      "-rw------- 1 root root       151 May  4  2017 'Untitled spreadsheet (1).gsheet'\n",
      "-rw------- 1 root root       151 May 21  2017 'Phys211 Lab 6.gsheet'\n",
      "-rw------- 1 root root       181 Nov 25  2017  strings.xml\n",
      "-rw------- 1 root root       151 Nov 28  2017 'phys208 Lab 7.gdoc'\n",
      "-rw------- 1 root root       151 Nov 28  2017 'Phys208 Lab9.gdoc'\n",
      "-rw------- 1 root root      2212 Dec  3  2017  activity_instructions.xml\n",
      "-rw------- 1 root root       151 Dec  6  2017 'Phys208 Lab 8.gdoc'\n",
      "-rw------- 1 root root  39146913 Dec  7  2017  SeaBreezes.zip\n",
      "-rw------- 1 root root  94654800 Jul  5  2018  Hubble.zip\n",
      "-rw------- 1 root root  94654800 Jul  5  2018 'Hubble (1).zip'\n",
      "-rw------- 1 root root     35223 Sep  4  2018  unnamed.jpg\n",
      "-rw------- 1 root root  36884368 Sep 17  2018  WhirlpoolPowerpoint.pdf\n",
      "-rw------- 1 root root       151 Oct 12  2018 'Mt. Cube Observatory Trip.gform'\n",
      "-rw------- 1 root root       151 Oct 14  2018 'Mt. Cuba Observatory: Take 2.gform'\n",
      "-rw------- 1 root root       151 Oct 15  2018 'Mt. Cuba data.gsheet'\n",
      "-rw------- 1 root root    821402 Oct 25  2018  data.csv\n",
      "-rw------- 1 root root       151 Oct 26  2018  data.gsheet\n",
      "-rw------- 1 root root       151 Oct 30  2018 'Cat'\\''s 21st Birthday!.gform'\n",
      "-rw------- 1 root root  66709116 Nov 29  2018  phys424_Presentation.pptx\n",
      "-rw------- 1 root root       151 Dec  3  2018 'Haydn Symphony #6.gslides'\n",
      "-rw------- 1 root root       151 Feb 14  2019 'Food for SPS meeting.gform'\n",
      "-rw------- 1 root root   1507891 Mar  5  2019  IMG_0684.JPG\n",
      "-rw------- 1 root root   1517850 Mar  5  2019  IMG_0670.JPG\n",
      "-rw------- 1 root root   2001699 Mar  5  2019  IMG_0674.JPG\n",
      "drwx------ 2 root root      4096 Mar  5  2019 \u001b[0m\u001b[01;34m'sps egg drop pics'\u001b[0m/\n",
      "-rw------- 1 root root    487882 Apr  4 22:10  IMG_0754.jpg\n",
      "drwx------ 2 root root      4096 Apr 12 15:41 \u001b[01;34m'fash122 videos'\u001b[0m/\n",
      "-rw------- 1 root root       151 May  9 18:14 'SPS End of the Semester BBQ!.gform'\n",
      "-rw------- 1 root root       151 May 15 18:30 'SPS BBQ RSVP.gform'\n",
      "-rw------- 1 root root 166323150 Jun 13 17:43 'HartyCatherine_ projectWinter2018-part3.pptx'\n",
      "drwx------ 2 root root      4096 Jun 20 13:26 \u001b[01;34m'M2 Band articles'\u001b[0m/\n",
      "-rw------- 1 root root       151 Jun 25 15:49 'Wearable Tech Health Devices paper.gdoc'\n",
      "-rw------- 1 root root  26247269 Jun 26 23:38 'Fash213 Exam2.docx'\n",
      "-rw------- 1 root root  31563767 Jul  8 18:08 'fash213 exam3 (1).docx'\n",
      "-rw------- 1 root root       151 Jul  9 20:06 'lulu meme.gdoc'\n",
      "-rw------- 1 root root   6463077 Jul 10 17:51 'ISWC2019_Wearables_Abstract_Hall (1).docx'\n",
      "-rw------- 1 root root  35383594 Jul 11 02:37 'fash213 exam3.docx'\n",
      "-rw------- 1 root root  73557425 Jul 18 17:12  TBoi.stl\n",
      "-rw------- 1 root root  55860849 Jul 18 17:13  Scan.stl\n",
      "-rw------- 1 root root 148404998 Jul 19 17:21 'Zeebooboo (1).stl'\n",
      "drwx------ 2 root root      4096 Jul 22 02:10 \u001b[01;34m'Phys469 '\u001b[0m/\n",
      "-rw------- 1 root root 148404998 Jul 25 13:40  Zeebooboo.stl\n",
      "-rw------- 1 root root       151 Jul 25 18:23  Scans.gsheet\n",
      "drwx------ 2 root root      4096 Aug  1 21:32  \u001b[01;34msps\u001b[0m/\n",
      "-rw------- 1 root root    115902 Aug  5 18:58  58672097021__8917F9C4-98C8-4E5E-8342-8829ED3BA7F8.JPG\n",
      "-rw------- 1 root root 170597799 Aug  6 15:22  teddo.stl\n",
      "-rw------- 1 root root  44418351 Aug  7 14:35  1_0200_723.zip\n",
      "-rw------- 1 root root  76907954 Aug  7 14:35  2_0200_723.zip\n",
      "-rw------- 1 root root  75650765 Aug  7 14:35  3_0200_723.zip\n",
      "-rw------- 1 root root  69712614 Aug  7 14:35  4_0200_723.zip\n",
      "-rw------- 1 root root  80119289 Aug  7 14:35  5_0200_723.zip\n",
      "-rw------- 1 root root  80577332 Aug  7 14:35  6_0200_723.zip\n",
      "-rw------- 1 root root  75284897 Aug  7 14:36  7_0200_723.zip\n",
      "-rw------- 1 root root  30094351 Aug  8 19:39  ISWC2019_Wearables_Abstract_Hall.docx\n",
      "-rw------- 1 root root    597474 Aug  9 21:38  Presentation1.pptx\n",
      "-rw------- 1 root root       151 Aug  9 21:38 'Presentation1 (1).gslides'\n",
      "-rw------- 1 root root       151 Aug 10 22:27  Presentation1.gslides\n",
      "-rw------- 1 root root   8395200 Aug 12 18:04  mcao20160808m13sciv0001_MASTER_GREEN.fits\n",
      "-rw------- 1 root root     98041 Aug 13 01:50 'new doc 2019-08-12 21.44.11_3.jpg'\n",
      "-rw------- 1 root root     81842 Aug 14 01:43  Figure_1.png\n",
      "-rw------- 1 root root     21827 Sep  4 21:09  DSPS_HW2_1.ipynb\n",
      "-rw------- 1 root root     85396 Sep  4 21:09  DSPS_HW2_2.ipynb\n",
      "-rw------- 1 root root    140289 Sep 14 18:05  KS_earthquakes.ipynb\n",
      "drwx------ 2 root root      4096 Sep 25 17:43 \u001b[01;34m'Fash221 patterns'\u001b[0m/\n",
      "drwx------ 2 root root      4096 Sep 25 20:35  \u001b[01;34mdsps2018_dir\u001b[0m/\n",
      "drwx------ 2 root root      4096 Sep 29 20:42  \u001b[01;34mdsps\u001b[0m/\n",
      "drwx------ 2 root root      4096 Sep 30 18:27 \u001b[01;34m'Colab Notebooks'\u001b[0m/\n",
      "drwx------ 2 root root      4096 Oct  2 02:24  \u001b[01;34mzbp\u001b[0m/\n",
      "drwx------ 2 root root      4096 Oct  2 02:31  \u001b[01;34mtest_dir\u001b[0m/\n"
     ]
    }
   ],
   "source": [
    "ls -ltr \"drive/My Drive\" #-ltr prints the permissions on each file and sorts the files by date last opened/modified"
   ]
  },
  {
   "cell_type": "markdown",
   "metadata": {
    "colab_type": "text",
    "id": "4zyURwS-7l9f"
   },
   "source": [
    "These unix commands can also be combined with some python syntax using the os module (let's make a directory called \"data\" in your colaboratory home directory):"
   ]
  },
  {
   "cell_type": "markdown",
   "metadata": {
    "colab_type": "text",
    "id": "pwxjxtXqQ8Ax"
   },
   "source": [
    "download data from the web "
   ]
  },
  {
   "cell_type": "markdown",
   "metadata": {
    "colab_type": "text",
    "id": "tDGHVey4rnZX"
   },
   "source": [
    "to do that you can use wget, but that command is not \"included\" in the ```colab``` jupyter notebook. the are unix commands. you can use them if you start the command with ```!```"
   ]
  },
  {
   "cell_type": "code",
   "execution_count": 8,
   "metadata": {
    "colab": {
     "base_uri": "https://localhost:8080/",
     "height": 204
    },
    "colab_type": "code",
    "id": "1MT_cagq5YId",
    "outputId": "44685ee6-8833-4d62-8954-21cf559daa43"
   },
   "outputs": [
    {
     "name": "stdout",
     "output_type": "stream",
     "text": [
      "--2019-10-02 02:40:22--  https://www2.census.gov/programs-surveys/cbp/datasets/2016/zbp16totals.zip\n",
      "Resolving www2.census.gov (www2.census.gov)... 23.46.60.98, 2600:1402:3800:29f::208c, 2600:1402:3800:29d::208c\n",
      "Connecting to www2.census.gov (www2.census.gov)|23.46.60.98|:443... connected.\n",
      "HTTP request sent, awaiting response... 200 OK\n",
      "Length: unspecified [application/zip]\n",
      "Saving to: ‘zbp16totals.zip’\n",
      "\n",
      "zbp16totals.zip         [   <=>              ] 750.30K  1.48MB/s    in 0.5s    \n",
      "\n",
      "2019-10-02 02:40:23 (1.48 MB/s) - ‘zbp16totals.zip’ saved [768303]\n",
      "\n"
     ]
    }
   ],
   "source": [
    "!wget  https://www2.census.gov/programs-surveys/cbp/datasets/2016/zbp16totals.zip"
   ]
  },
  {
   "cell_type": "code",
   "execution_count": 9,
   "metadata": {
    "colab": {
     "base_uri": "https://localhost:8080/",
     "height": 34
    },
    "colab_type": "code",
    "id": "fxyEIHb15jTS",
    "outputId": "8bf63d62-1104-4155-b44e-5f8ca60fa9bb"
   },
   "outputs": [
    {
     "name": "stdout",
     "output_type": "stream",
     "text": [
      "\u001b[0m\u001b[01;34mdrive\u001b[0m/  \u001b[01;34msample_data\u001b[0m/  zbp16totals.zip\n"
     ]
    }
   ],
   "source": [
    "ls "
   ]
  },
  {
   "cell_type": "markdown",
   "metadata": {
    "colab_type": "text",
    "id": "c_PcMBKesDk0"
   },
   "source": [
    "same with ```unzip``` to expand a compressed zip file. the argument ```-d <path> ```expands into \"path\""
   ]
  },
  {
   "cell_type": "code",
   "execution_count": 10,
   "metadata": {
    "colab": {
     "base_uri": "https://localhost:8080/",
     "height": 51
    },
    "colab_type": "code",
    "id": "s5v5BZJ3Xdur",
    "outputId": "5ec07bd6-10d5-4150-9ac8-de08a884f597"
   },
   "outputs": [
    {
     "name": "stdout",
     "output_type": "stream",
     "text": [
      "Archive:  zbp16totals.zip\n",
      "replace drive/My Drive/test_dir/zbp16totals.txt? [y]es, [n]o, [A]ll, [N]one, [r]ename: n\n"
     ]
    }
   ],
   "source": [
    "!unzip  zbp16totals.zip -d \"drive/My Drive/test_dir\""
   ]
  },
  {
   "cell_type": "code",
   "execution_count": 11,
   "metadata": {
    "colab": {
     "base_uri": "https://localhost:8080/",
     "height": 34
    },
    "colab_type": "code",
    "id": "u_Uh9bVGvqcN",
    "outputId": "3c8cd9f4-f058-4a4c-ba6a-d583f556b28a"
   },
   "outputs": [
    {
     "name": "stdout",
     "output_type": "stream",
     "text": [
      "zbp16detail.zip  zbp16totals.txt\n"
     ]
    }
   ],
   "source": [
    "ls \"drive/My Drive/test_dir\""
   ]
  },
  {
   "cell_type": "markdown",
   "metadata": {
    "colab_type": "text",
    "id": "qXRmtlnNs0Vj"
   },
   "source": [
    "Another way to access unix commands is to use the module ```os``` and specifically the function ```os.system()```.  This function performs operations and returns a success vs error state. So I cannot use it, for example, ro tun ```ls```"
   ]
  },
  {
   "cell_type": "code",
   "execution_count": 12,
   "metadata": {
    "colab": {
     "base_uri": "https://localhost:8080/",
     "height": 34
    },
    "colab_type": "code",
    "id": "a3SncaivAbiW",
    "outputId": "8836eea3-e517-4f4f-b96d-0584985bf74b"
   },
   "outputs": [
    {
     "data": {
      "text/plain": [
       "0"
      ]
     },
     "execution_count": 12,
     "metadata": {
      "tags": []
     },
     "output_type": "execute_result"
    }
   ],
   "source": [
    "# -- import the os module for operating system interaction\n",
    "import os\n",
    "cmd = \"ls drive/My\\ Drive/test_dir\"\n",
    "os.system(cmd)\n",
    "\n"
   ]
  },
  {
   "cell_type": "markdown",
   "metadata": {
    "colab_type": "text",
    "id": "3Va195cMvwIj"
   },
   "source": [
    "0 means no error: the command was executed without problem. Any other number will indicate an error (and you can google the meaning of the number.) But i do not see the output of the command. so use this if you want to know if the command worked, but you do not care to see its output. "
   ]
  },
  {
   "cell_type": "code",
   "execution_count": 13,
   "metadata": {
    "colab": {
     "base_uri": "https://localhost:8080/",
     "height": 34
    },
    "colab_type": "code",
    "id": "Fgc3es91t_2Q",
    "outputId": "a4d21708-1b68-4bd6-feba-9e2176b9f6ec"
   },
   "outputs": [
    {
     "name": "stdout",
     "output_type": "stream",
     "text": [
      "zbp16detail.zip  zbp16totals.txt\n"
     ]
    }
   ],
   "source": [
    "ls \"drive/My Drive/test_dir\""
   ]
  },
  {
   "cell_type": "code",
   "execution_count": 14,
   "metadata": {
    "colab": {
     "base_uri": "https://localhost:8080/",
     "height": 34
    },
    "colab_type": "code",
    "id": "4M8BlrZrT0XU",
    "outputId": "29a4d209-923a-4132-b19c-691df0558d15"
   },
   "outputs": [
    {
     "name": "stdout",
     "output_type": "stream",
     "text": [
      "/\n"
     ]
    }
   ],
   "source": [
    "cd .."
   ]
  },
  {
   "cell_type": "markdown",
   "metadata": {
    "colab_type": "text",
    "id": "6ag3Fl2ewT7Q"
   },
   "source": [
    "For example I can use it to remove files and directories: ```rm``` (```rm -r``` which means recursively, for a directory)"
   ]
  },
  {
   "cell_type": "markdown",
   "metadata": {
    "colab_type": "text",
    "id": "NDyuo78caaLr"
   },
   "source": [
    "Note the syntax: you need to parse the space with a \"\\ \" in front of it to be rendered correctly in the string when you use ```os.system()```\n"
   ]
  },
  {
   "cell_type": "code",
   "execution_count": 28,
   "metadata": {
    "colab": {
     "base_uri": "https://localhost:8080/",
     "height": 34
    },
    "colab_type": "code",
    "id": "zD8PLjlEAdqN",
    "outputId": "14a767a5-6e89-4c63-ddeb-c09eae998a8d"
   },
   "outputs": [
    {
     "data": {
      "text/plain": [
       "256"
      ]
     },
     "execution_count": 28,
     "metadata": {
      "tags": []
     },
     "output_type": "execute_result"
    }
   ],
   "source": [
    "# -- create a string that contains the command you want\n",
    "cmd = \"rm -r drive/My\\ Drive/test_dir\"\n",
    "# -- execute the command with os.system (notice the output)\n",
    "os.system(cmd)"
   ]
  },
  {
   "cell_type": "markdown",
   "metadata": {
    "colab_type": "text",
    "id": "-CjLcfI9wtSs"
   },
   "source": [
    "\n",
    "The directory is no longer there\n",
    "\n",
    "\n"
   ]
  },
  {
   "cell_type": "code",
   "execution_count": 29,
   "metadata": {
    "colab": {
     "base_uri": "https://localhost:8080/",
     "height": 34
    },
    "colab_type": "code",
    "id": "4dCwpj6oZaDY",
    "outputId": "f768530d-1bc8-47d5-d5dc-8e1079d053c1"
   },
   "outputs": [
    {
     "name": "stdout",
     "output_type": "stream",
     "text": [
      "ls: cannot access 'drive/My Drive/test_dir': No such file or directory\n"
     ]
    }
   ],
   "source": [
    "ls \"drive/My Drive/test_dir\""
   ]
  },
  {
   "cell_type": "markdown",
   "metadata": {
    "colab_type": "text",
    "id": "4NMfx1UcaiNT"
   },
   "source": [
    "You can string unix commands together with the semicolon ; (cd stands for \"change directory\" and it moves you around)"
   ]
  },
  {
   "cell_type": "code",
   "execution_count": 15,
   "metadata": {
    "colab": {
     "base_uri": "https://localhost:8080/",
     "height": 119
    },
    "colab_type": "code",
    "id": "Uf6J-Ir3ahB6",
    "outputId": "7e398322-ee2c-4177-a177-04ca844f039f"
   },
   "outputs": [
    {
     "name": "stdout",
     "output_type": "stream",
     "text": [
      "\u001b[0m\u001b[01;34mbin\u001b[0m/      \u001b[01;34mdev\u001b[0m/   \u001b[01;34mlib32\u001b[0m/  \u001b[01;34mopt\u001b[0m/   \u001b[01;34msbin\u001b[0m/   \u001b[01;34mtensorflow-2.0.0-rc2\u001b[0m/  \u001b[01;34mvar\u001b[0m/\n",
      "\u001b[01;34mboot\u001b[0m/     \u001b[01;34metc\u001b[0m/   \u001b[01;34mlib64\u001b[0m/  \u001b[01;34mproc\u001b[0m/  \u001b[01;34msrv\u001b[0m/    \u001b[30;42mtmp\u001b[0m/\n",
      "\u001b[01;34mcontent\u001b[0m/  \u001b[01;34mhome\u001b[0m/  \u001b[01;34mmedia\u001b[0m/  \u001b[01;34mroot\u001b[0m/  \u001b[01;34mswift\u001b[0m/  \u001b[01;34mtools\u001b[0m/\n",
      "\u001b[01;34mdatalab\u001b[0m/  \u001b[01;34mlib\u001b[0m/   \u001b[01;34mmnt\u001b[0m/    \u001b[01;34mrun\u001b[0m/   \u001b[01;34msys\u001b[0m/    \u001b[01;34musr\u001b[0m/\n",
      "/bin/bash: line 0: cd: drive: No such file or directory\n",
      "/\n"
     ]
    }
   ],
   "source": [
    "ls; cd drive; pwd"
   ]
  },
  {
   "cell_type": "markdown",
   "metadata": {
    "colab_type": "text",
    "id": "KhJgBEZMYrP6"
   },
   "source": [
    "But again, <u>**these are not python commands and can't be used as such on their own**</u>:"
   ]
  },
  {
   "cell_type": "markdown",
   "metadata": {
    "colab_type": "text",
    "id": "FL_G_W98AmNp"
   },
   "source": [
    "We'll see how combining unix commands with python via os.system can be put to good use below."
   ]
  },
  {
   "cell_type": "markdown",
   "metadata": {
    "colab_type": "text",
    "id": "B9Ku1bQQAp1z"
   },
   "source": [
    "### The wget command\n",
    "\n",
    "When dealing with data on the web, the wget command can be very useful for quickly grabbing data that you want.  Let's get the zipcode business patterns for 2016 (note the exclamation point before the wget command):"
   ]
  },
  {
   "cell_type": "code",
   "execution_count": 5,
   "metadata": {
    "colab": {
     "base_uri": "https://localhost:8080/",
     "height": 204
    },
    "colab_type": "code",
    "id": "XxMIc-ZUAws6",
    "outputId": "82fe1444-bd75-4268-b16d-c68d26cdf48f"
   },
   "outputs": [
    {
     "name": "stdout",
     "output_type": "stream",
     "text": [
      "--2019-10-02 02:42:40--  https://www2.census.gov/programs-surveys/cbp/datasets/2016/zbp16detail.zip\n",
      "Resolving www2.census.gov (www2.census.gov)... 23.44.160.119, 2600:1409:d000:582::208c, 2600:1409:d000:583::208c, ...\n",
      "Connecting to www2.census.gov (www2.census.gov)|23.44.160.119|:443... connected.\n",
      "HTTP request sent, awaiting response... 200 OK\n",
      "Length: unspecified [application/zip]\n",
      "Saving to: ‘zbp16detail.zip’\n",
      "\n",
      "zbp16detail.zip         [   <=>              ]  27.51M  55.0MB/s    in 0.5s    \n",
      "\n",
      "2019-10-02 02:42:48 (55.0 MB/s) - ‘zbp16detail.zip’ saved [28843251]\n",
      "\n"
     ]
    }
   ],
   "source": [
    "!wget https://www2.census.gov/programs-surveys/cbp/datasets/2016/zbp16detail.zip"
   ]
  },
  {
   "cell_type": "markdown",
   "metadata": {
    "colab_type": "text",
    "id": "KWY9T8TpBZAz"
   },
   "source": [
    "Now we can see the utility of combining unix commands with python to make our lives much easier:"
   ]
  },
  {
   "cell_type": "code",
   "execution_count": 6,
   "metadata": {
    "colab": {
     "base_uri": "https://localhost:8080/",
     "height": 34
    },
    "colab_type": "code",
    "id": "7MsRhdsMaFhi",
    "outputId": "ff9a0358-731c-41da-df0f-8294a1ba07c7"
   },
   "outputs": [
    {
     "name": "stdout",
     "output_type": "stream",
     "text": [
      "mkdir: cannot create directory ‘drive/My Drive/zbp’: File exists\n"
     ]
    }
   ],
   "source": [
    "# -- define a command to make a sub-directory in data called zbp\n",
    "\n",
    "# -- run that command\n",
    "\n",
    "# -- check if the command worked\n",
    "mkdir 'drive/My Drive/zbp'"
   ]
  },
  {
   "cell_type": "code",
   "execution_count": 8,
   "metadata": {
    "colab": {
     "base_uri": "https://localhost:8080/",
     "height": 34
    },
    "colab_type": "code",
    "id": "QU2FV2YrSMUg",
    "outputId": "5b2f4045-35d6-472b-a2d7-44893d2b96cd"
   },
   "outputs": [
    {
     "name": "stdout",
     "output_type": "stream",
     "text": [
      "/content/drive/My Drive/zbp\n"
     ]
    }
   ],
   "source": [
    "cd 'drive/My Drive/zbp' #To see if it was made"
   ]
  },
  {
   "cell_type": "code",
   "execution_count": 13,
   "metadata": {
    "colab": {
     "base_uri": "https://localhost:8080/",
     "height": 34
    },
    "colab_type": "code",
    "id": "cN4lWPZRWnqR",
    "outputId": "15ed6e02-582b-41b2-9dd0-73ba51f54be6"
   },
   "outputs": [
    {
     "name": "stdout",
     "output_type": "stream",
     "text": [
      "/content/drive/My Drive\n"
     ]
    }
   ],
   "source": [
    "cd .."
   ]
  },
  {
   "cell_type": "markdown",
   "metadata": {
    "colab_type": "text",
    "id": "C3NHu_rOxSMf"
   },
   "source": [
    "last package to discuss: ```glob``` looks at the content of a directory and returns it in a list. if the dir is empty the length of the string is...0!"
   ]
  },
  {
   "cell_type": "code",
   "execution_count": 0,
   "metadata": {
    "colab": {},
    "colab_type": "code",
    "id": "3t6wl3GcbbTU"
   },
   "outputs": [],
   "source": [
    "import os\n",
    "import glob\n",
    "if len(glob.glob(\"drive/My Drive/dsps2019\")) == 0:\n",
    "  os.system(\"mkdir drive/My\\ Drive/dsps2019\")\n"
   ]
  },
  {
   "cell_type": "code",
   "execution_count": 19,
   "metadata": {
    "colab": {
     "base_uri": "https://localhost:8080/",
     "height": 1000
    },
    "colab_type": "code",
    "id": "FXm1ut4jxv8U",
    "outputId": "a972c0d1-63c9-43da-b405-6d3ebf05fd70"
   },
   "outputs": [
    {
     "name": "stdout",
     "output_type": "stream",
     "text": [
      " 1_0200_723.zip\n",
      " 2_0200_723.zip\n",
      " 3_0200_723.zip\n",
      " 4_0200_723.zip\n",
      " 5_0200_723.zip\n",
      " 58672097021__8917F9C4-98C8-4E5E-8342-8829ED3BA7F8.JPG\n",
      " 6_0200_723.zip\n",
      " 7_0200_723.zip\n",
      " activity_instructions.xml\n",
      "'Cat'\\''s 21st Birthday!.gform'\n",
      " cics106.gdoc\n",
      "\u001b[0m\u001b[01;34m'Colab Notebooks'\u001b[0m/\n",
      " data.csv\n",
      " data.gsheet\n",
      " \u001b[01;34mdsps\u001b[0m/\n",
      " \u001b[01;34mdsps2018_dir\u001b[0m/\n",
      " \u001b[01;34mdsps2019\u001b[0m/\n",
      " DSPS_HW2_1.ipynb\n",
      " DSPS_HW2_2.ipynb\n",
      "'Europa Essay.gdoc'\n",
      " Europa.gdoc\n",
      "\u001b[01;34m'fash122 videos'\u001b[0m/\n",
      "'Fash213 Exam2.docx'\n",
      "'fash213 exam3 (1).docx'\n",
      "'fash213 exam3.docx'\n",
      "\u001b[01;34m'Fash221 patterns'\u001b[0m/\n",
      " Figure_1.png\n",
      "'Food for SPS meeting.gform'\n",
      "'Getting started.pdf'\n",
      "'HartyCatherine_ projectWinter2018-part3.pptx'\n",
      "'Haydn Symphony #6.gslides'\n",
      "'Hubble (1).zip'\n",
      " Hubble.zip\n",
      " IMG_0670.JPG\n",
      " IMG_0674.JPG\n",
      " IMG_0684.JPG\n",
      " IMG_0754.jpg\n",
      " IMG_4818.JPG\n",
      " IMG_4835.JPG\n",
      "'ISWC2019_Wearables_Abstract_Hall (1).docx'\n",
      " ISWC2019_Wearables_Abstract_Hall.docx\n",
      " KS_earthquakes.ipynb\n",
      "'lab 2.gdoc'\n",
      "'lab report.gdoc'\n",
      "'lulu meme.gdoc'\n",
      "\u001b[01;34m'M2 Band articles'\u001b[0m/\n",
      " mcao20160808m13sciv0001_MASTER_GREEN.fits\n",
      "'mccjjbv bnvhkvlk hk l nhk.; khki.xlsx'\n",
      "'Mt. Cuba data.gsheet'\n",
      "'Mt. Cuba Observatory: Take 2.gform'\n",
      "'Mt. Cube Observatory Trip.gform'\n",
      "'new doc 2019-08-12 21.44.11_3.jpg'\n",
      " partc.2_phys208.txt\n",
      "'PHYS208 4&5.gsheet'\n",
      "'Phys208 Lab 3.gdoc'\n",
      "'phys208 lab 3.gsheet'\n",
      "'phys208 Lab 6.gdoc'\n",
      "'phys208 Lab 7.gdoc'\n",
      "'Phys208 Lab 8.gdoc'\n",
      "'Phys208 Lab9.gdoc'\n",
      "'Phys208 Lab Report 2.gdoc'\n",
      "'PHYS208 - Labs 4&5.gdoc'\n",
      "'Phys211 Lab 1 (1).xlsx'\n",
      "'Phys211 Lab 1 (1).xlsx.gsheet'\n",
      "'Phys211 Lab 3.gsheet'\n",
      "'Phys211 Lab 6.gsheet'\n",
      " phys424_Presentation.pptx\n",
      "\u001b[01;34m'Phys469 '\u001b[0m/\n",
      "'Presentation1 (1).gslides'\n",
      " Presentation1.gslides\n",
      " Presentation1.pptx\n",
      " Scans.gsheet\n",
      " Scan.stl\n",
      " SeaBreezes.zip\n",
      " \u001b[01;34msps\u001b[0m/\n",
      "'SPS BBQ RSVP.gform'\n",
      "\u001b[01;34m'sps egg drop pics'\u001b[0m/\n",
      "'SPS End of the Semester BBQ!.gform'\n",
      " strings.xml\n",
      " TBoi.stl\n",
      " teddo.stl\n",
      " \u001b[01;34mtest_dir\u001b[0m/\n",
      " unnamed.jpg\n",
      "'Untitled document (1).gdoc'\n",
      "'Untitled document.gdoc'\n",
      "'Untitled spreadsheet (1).gsheet'\n",
      "'Untitled spreadsheet.gsheet'\n",
      "'Wearable Tech Health Devices paper.gdoc'\n",
      " WhirlpoolPowerpoint.pdf\n",
      " \u001b[01;34mzbp\u001b[0m/\n",
      "'Zeebooboo (1).stl'\n",
      " Zeebooboo.stl\n"
     ]
    }
   ],
   "source": [
    "ls"
   ]
  },
  {
   "cell_type": "code",
   "execution_count": 20,
   "metadata": {
    "colab": {
     "base_uri": "https://localhost:8080/",
     "height": 34
    },
    "colab_type": "code",
    "id": "2RMMe3upTNE5",
    "outputId": "95df80e4-7a68-4af6-c4c1-bc13f4866263"
   },
   "outputs": [
    {
     "data": {
      "text/plain": [
       "'/content/drive/My Drive'"
      ]
     },
     "execution_count": 20,
     "metadata": {
      "tags": []
     },
     "output_type": "execute_result"
    }
   ],
   "source": [
    "pwd"
   ]
  },
  {
   "cell_type": "markdown",
   "metadata": {
    "colab_type": "text",
    "id": "LveUbS1TRgAR"
   },
   "source": [
    "## TASK\n",
    "Create a for loop that reads in the ZIPCODE data zbp[year]detail.zip where [year] goes from 2010 through 2014 included. \n",
    "The for look should use the ```os``` module to: \n",
    "  - download the zipped file\n",
    "  - unzip the file in dsps2019 dir (create it if necessary)\n",
    "  - clean up after itself by removing the downloaded zip files\n",
    "  - print at every step of the loop which year the loop is working on and at each command which command is running. \n",
    "  - notify the user if an error occurs and where\n"
   ]
  },
  {
   "cell_type": "code",
   "execution_count": 23,
   "metadata": {
    "colab": {
     "base_uri": "https://localhost:8080/",
     "height": 527
    },
    "colab_type": "code",
    "id": "w6gyE5bAyVJ8",
    "outputId": "7e20e5df-8c82-4eec-ebb2-e7739a3599e7"
   },
   "outputs": [
    {
     "name": "stdout",
     "output_type": "stream",
     "text": [
      "downloading year 2010\n",
      "error  32512 with downloading 10\n",
      "moving file...\n",
      "error  32512 with unzipping 10\n",
      "deleting zip ... \n",
      "error  256 with removing file 10\n",
      "downloading year 2011\n",
      "error  32512 with downloading 11\n",
      "moving file...\n",
      "error  32512 with unzipping 11\n",
      "deleting zip ... \n",
      "error  256 with removing file 11\n",
      "downloading year 2012\n",
      "error  32512 with downloading 12\n",
      "moving file...\n",
      "error  32512 with unzipping 12\n",
      "deleting zip ... \n",
      "error  256 with removing file 12\n",
      "downloading year 2013\n",
      "error  32512 with downloading 13\n",
      "moving file...\n",
      "error  32512 with unzipping 13\n",
      "deleting zip ... \n",
      "error  256 with removing file 13\n",
      "downloading year 2014\n",
      "error  32512 with downloading 14\n",
      "moving file...\n",
      "error  32512 with unzipping 14\n",
      "deleting zip ... \n",
      "error  256 with removing file 14\n"
     ]
    }
   ],
   "source": [
    "import numpy as np\n",
    "\n",
    "# create the directory as above. \n",
    "# Use glob.glob to see if it is there and capture the output of os.system to see if you have an error\n",
    "path = 'drive/MyDrive/dsps2019' #<<<<----------------this is a relative path. \n",
    "\n",
    "# -- loop through the years for which we want the zbp data\n",
    "for ii in range(10,15): \n",
    "  \n",
    "  # -- convert year to string\n",
    "  snum = str(ii)\n",
    "\n",
    "  # -- build the wget command\n",
    "  cmd_wget = '!wget https://www2.census.gov/programs-surveys/cbp/datasets/20' + snum+ '/zbp16detail.zip'\n",
    "\n",
    "  # -- build the unzip command\n",
    "  cmd_unzip = '!unzip  zbp' + snum + 'detail.zip -d ' + path\n",
    "\n",
    "    # -- build the remove command\n",
    "  cmd_rm = 'rm - r zbp' + snum + 'detail.zip -d ' + path\n",
    "  \n",
    "  # -- alert on progress\n",
    "  print(\"downloading year 20{}\".format(snum))\n",
    "  \n",
    "  # -- execute the wget command and check\n",
    "  res = os.system(cmd_wget)\n",
    "  if res != 0:\n",
    "    print(\"error \", res, \"with downloading\", ii)\n",
    "  \n",
    "  # -- alert on progress\n",
    "  print(\"moving file...\")\n",
    "  \n",
    "  res = os.system(cmd_unzip)\n",
    "  \n",
    "  if res != 0:\n",
    "    print('error ', res, 'with unzipping', ii)\n",
    "  \n",
    "  # -- alert on progress\n",
    "  print('deleting zip ... ')\n",
    "  res = os.system(cmd_rm)\n",
    "  \n",
    "  if res != 0:\n",
    "    print('error ', res, 'with removing file', ii)\n"
   ]
  },
  {
   "cell_type": "markdown",
   "metadata": {},
   "source": [
    "<span style=\"color:red\">**-0.25 pt: Please remember before run the code above, you need to make sure you are in the right directory already, since the path you give is a relative path not an absolute path(absolute path start with /)**</span>"
   ]
  },
  {
   "cell_type": "code",
   "execution_count": 24,
   "metadata": {
    "colab": {
     "base_uri": "https://localhost:8080/",
     "height": 34
    },
    "colab_type": "code",
    "id": "c1yIEAGuTIrZ",
    "outputId": "ce51d0e7-a5ff-4e08-88eb-3251cbe0e02f",
    "scrolled": true
   },
   "outputs": [
    {
     "name": "stdout",
     "output_type": "stream",
     "text": [
      "ls: cannot access 'drive/My Drive/dsps2019': No such file or directory\n"
     ]
    }
   ],
   "source": [
    "ls  \"drive/My Drive/dsps2019\""
   ]
  },
  {
   "cell_type": "markdown",
   "metadata": {
    "colab_type": "text",
    "id": "qTN41cASemA0"
   },
   "source": [
    "The os system would not work for me. Everytime I ran the os part of the code, it would keep giving me error after error. It resulted from the prewritten code and I did not know how to fix it."
   ]
  }
 ],
 "metadata": {
  "colab": {
   "collapsed_sections": [],
   "include_colab_link": true,
   "name": "interactingWDrive_cHarty.ipynb",
   "provenance": []
  },
  "kernelspec": {
   "display_name": "Python 3",
   "language": "python",
   "name": "python3"
  },
  "language_info": {
   "codemirror_mode": {
    "name": "ipython",
    "version": 3
   },
   "file_extension": ".py",
   "mimetype": "text/x-python",
   "name": "python",
   "nbconvert_exporter": "python",
   "pygments_lexer": "ipython3",
   "version": "3.6.8"
  }
 },
 "nbformat": 4,
 "nbformat_minor": 1
}
