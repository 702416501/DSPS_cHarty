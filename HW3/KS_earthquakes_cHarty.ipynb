{
  "nbformat": 4,
  "nbformat_minor": 0,
  "metadata": {
    "kernelspec": {
      "display_name": "Python 3",
      "language": "python",
      "name": "python3"
    },
    "language_info": {
      "codemirror_mode": {
        "name": "ipython",
        "version": 3
      },
      "file_extension": ".py",
      "mimetype": "text/x-python",
      "name": "python",
      "nbconvert_exporter": "python",
      "pygments_lexer": "ipython3",
      "version": "3.7.3"
    },
    "latex_envs": {
      "LaTeX_envs_menu_present": true,
      "autoclose": false,
      "autocomplete": true,
      "bibliofile": "biblio.bib",
      "cite_by": "apalike",
      "current_citInitial": 1,
      "eqLabelWithNumbers": true,
      "eqNumInitial": 1,
      "hotkeys": {
        "equation": "Ctrl-E",
        "itemize": "Ctrl-I"
      },
      "labels_anchors": false,
      "latex_user_defs": false,
      "report_style_numbering": false,
      "user_envs_cfg": false
    },
    "nbTranslate": {
      "displayLangs": [
        "*"
      ],
      "hotkey": "alt-t",
      "langInMainMenu": true,
      "sourceLang": "en",
      "targetLang": "fr",
      "useGoogleTranslate": true
    },
    "toc": {
      "base_numbering": 1,
      "nav_menu": {},
      "number_sections": true,
      "sideBar": true,
      "skip_h1_title": false,
      "title_cell": "Table of Contents",
      "title_sidebar": "Contents",
      "toc_cell": false,
      "toc_position": {},
      "toc_section_display": true,
      "toc_window_display": false
    },
    "colab": {
      "name": "KS_earthquakes_cHarty.ipynb",
      "version": "0.3.2",
      "provenance": [],
      "collapsed_sections": [],
      "include_colab_link": true
    }
  },
  "cells": [
    {
      "cell_type": "markdown",
      "metadata": {
        "id": "view-in-github",
        "colab_type": "text"
      },
      "source": [
        "<a href=\"https://colab.research.google.com/github/cath19/DSPS_cHarty/blob/master/HW3/KS_earthquakes_cHarty.ipynb\" target=\"_parent\"><img src=\"https://colab.research.google.com/assets/colab-badge.svg\" alt=\"Open In Colab\"/></a>"
      ]
    },
    {
      "cell_type": "markdown",
      "metadata": {
        "id": "Uk3iBT7phXry",
        "colab_type": "text"
      },
      "source": [
        "Created by FedericaBBianco @fedhere September 2019 for UDel PHYS467/667\n",
        "# Kolmogorov Smirnoff test, application to earthquake data"
      ]
    },
    {
      "cell_type": "code",
      "metadata": {
        "ExecuteTime": {
          "end_time": "2019-09-09T01:40:01.895798Z",
          "start_time": "2019-09-09T01:40:01.890474Z"
        },
        "id": "LS78mdVthXrz",
        "colab_type": "code",
        "outputId": "9756f046-e6a3-46e5-f0e2-63708230125e",
        "colab": {
          "base_uri": "https://localhost:8080/",
          "height": 34
        }
      },
      "source": [
        "#all the imports I needed\n",
        "from __future__ import print_function, division\n",
        "import pandas as pd\n",
        "import pylab as pl\n",
        "import scipy as sp\n",
        "from scipy import stats\n",
        "%pylab inline\n",
        "pl.style.use(\"https://raw.githubusercontent.com/fedhere/DSPS/master/fbb.mplstyle\")"
      ],
      "execution_count": 277,
      "outputs": [
        {
          "output_type": "stream",
          "text": [
            "Populating the interactive namespace from numpy and matplotlib\n"
          ],
          "name": "stdout"
        }
      ]
    },
    {
      "cell_type": "markdown",
      "metadata": {
        "id": "SvIJHRyuhXr2",
        "colab_type": "text"
      },
      "source": [
        "This homework asks you to reproduce the work in [Corral 2018](https://arxiv.org/pdf/0910.0055.pdf) which is well described, but not \"reproducible\". \n",
        "Corral 2018 uses a K-S test to show that at different magnitude scales the time gaps between earthquakes follows the same distribution. If true, this indicates that there is a consistent scaling law. \n",
        "\n",
        "The argument is a little convoluted, but it is a somewhat innovative use of the test. Corall compares the time gap between earthquakes  greater than a certain magnitude threshold with the time gaps between earthquakes above a different threshold, and finds no differences.\n",
        "\n",
        "Remind yourself exactly what the K-S test is about :\n",
        "\n",
        "    1 What is the test's Null Hypothsis that the K-S test tests?\n",
        "    \n",
        "    \n"
      ]
    },
    {
      "cell_type": "markdown",
      "metadata": {
        "id": "y8DJjYrthXr3",
        "colab_type": "text"
      },
      "source": [
        "The Null Hypothesis of the K-S test tests if the two samples come from the same parent distribution.\n",
        "\n",
        "\n"
      ]
    },
    {
      "cell_type": "markdown",
      "metadata": {
        "id": "V8T9XH7nhXr3",
        "colab_type": "text"
      },
      "source": [
        "    2 What is the \"statistic\" or \"pivotal quantity\" that the test uses?\n",
        "    \n"
      ]
    },
    {
      "cell_type": "markdown",
      "metadata": {
        "ExecuteTime": {
          "end_time": "2019-09-08T21:14:09.757045Z",
          "start_time": "2019-09-08T21:14:09.753882Z"
        },
        "id": "jSSktfhAhXr4",
        "colab_type": "text"
      },
      "source": [
        "The pivotal quantity is d12 which is the absolute value of the difference of the two cumulative distributions.\n",
        "\n",
        "\n"
      ]
    },
    {
      "cell_type": "markdown",
      "metadata": {
        "ExecuteTime": {
          "end_time": "2019-09-08T21:14:43.709157Z",
          "start_time": "2019-09-08T21:14:43.704734Z"
        },
        "id": "IYoQgG1BhXr4",
        "colab_type": "text"
      },
      "source": [
        "    3 What does the probability distribution of this statistic depend on? \n",
        "    \n",
        "   \n"
      ]
    },
    {
      "cell_type": "markdown",
      "metadata": {
        "id": "ak74uTIrhXr5",
        "colab_type": "text"
      },
      "source": [
        "product of the occurance rate and inner event time....\n",
        "\n",
        "    "
      ]
    },
    {
      "cell_type": "markdown",
      "metadata": {
        "id": "M-h5uhgfhXr6",
        "colab_type": "text"
      },
      "source": [
        "# Data Retrival"
      ]
    },
    {
      "cell_type": "markdown",
      "metadata": {
        "id": "7TW_8XaNhXr6",
        "colab_type": "text"
      },
      "source": [
        "The first reason why the paper is not techincally _reproducible_ is that, while a link is provided to retrieve the data, the link is dead. This happens often. Services like [Zenodo](https://zenodo.org/) or journals that serve data provide some insurance against this but unfortunately the standards are not strict. "
      ]
    },
    {
      "cell_type": "markdown",
      "metadata": {
        "id": "Bt6gDmQJhXr7",
        "colab_type": "text"
      },
      "source": [
        "If you are taking this class as 667 retrieve the data yourself from [this website](http://service.scedc.caltech.edu/eq-catalogs/poly.php). Make sure the number of entries in your final dataset is similar to that of the authors. I got 70798, instead of 77000. 10% off, which I deem close enough. You should get something similar. Use the map in the paper to determine the region of interest. Call the file earthquakes_\\<firstinitialLastname\\>.csv and upload it to your github repository. Read it your file, instead of mine as instructed below. If you are getting weird results compare to what I got, go back and check how the files differ."
      ]
    },
    {
      "cell_type": "markdown",
      "metadata": {
        "id": "eCiLW1AuhXr7",
        "colab_type": "text"
      },
      "source": [
        "# Data Ingestion"
      ]
    },
    {
      "cell_type": "markdown",
      "metadata": {
        "id": "FH0X7d9_hXr8",
        "colab_type": "text"
      },
      "source": [
        "## read in data"
      ]
    },
    {
      "cell_type": "markdown",
      "metadata": {
        "id": "XbMPVaK-hXr9",
        "colab_type": "text"
      },
      "source": [
        "I saved the data in a file called \"earthquakes.csv\", where ```csv``` stands for \"comma separated file\". [This file format](https://www.howtogeek.com/348960/what-is-a-csv-file-and-how-do-i-open-it/) requires different entries in a row to be separated by commas alone (no space) and for commas to be used in quote if they are not intended to separate entries. \n",
        "\n",
        "```\n",
        "a,b,c\n",
        "d,e,f\n",
        "g,\"h,2\",i\n",
        "```\n",
        "The data is uploaded on the  github homework repository but to read it in you will need to get the link to the *raw file*: the link to the file https://github.com/fedhere/DSPS/blob/master/HW3/earthquakes.csv  takes you to an ```html``` page that includes the content of the file, but you want to isolate the content of the file itself: the _raw file_. Pay attention to this: from the next time I will not give you the exact link, I will just point you to the file and you will have to find the link to the raw data from there. \n",
        "https://raw.githubusercontent.com/fedhere/DSPS/master/HW3/earthquakes.csv\n",
        "\n",
        "The data can be read effectively using the _pandas_ python package as ```pandas.read_csv(<file name or URL>)```. \n",
        "\n",
        "However, I did not format the data correctly, according to the csv extension requirement. This happens all the time. Look at the file and use the pandas documentation to figure out how to read it with ```pd.read_csv()```"
      ]
    },
    {
      "cell_type": "code",
      "metadata": {
        "ExecuteTime": {
          "end_time": "2019-09-09T01:40:02.638703Z",
          "start_time": "2019-09-09T01:40:02.454643Z"
        },
        "id": "hOEZafxahXr9",
        "colab_type": "code",
        "colab": {}
      },
      "source": [
        "#your code here...\n",
        "eqdata = pd.read_csv('https://raw.githubusercontent.com/fedhere/DSPS/master/HW3/earthquakes.csv', delimiter=\" \")\n"
      ],
      "execution_count": 0,
      "outputs": []
    },
    {
      "cell_type": "markdown",
      "metadata": {
        "id": "r0IW9m4vhXr_",
        "colab_type": "text"
      },
      "source": [
        "running the following lines of code should give you the same result as mine if you used the file I provided (467 students), and qualitatively  similar if you are using your own data (667 students)"
      ]
    },
    {
      "cell_type": "code",
      "metadata": {
        "ExecuteTime": {
          "end_time": "2019-09-09T01:40:02.643428Z",
          "start_time": "2019-09-09T01:40:02.640847Z"
        },
        "id": "uphAqv5ZhXsA",
        "colab_type": "code",
        "outputId": "ff822b53-332c-47c4-ea7a-fee2d8191674",
        "colab": {
          "base_uri": "https://localhost:8080/",
          "height": 34
        }
      },
      "source": [
        "eqdata.shape"
      ],
      "execution_count": 279,
      "outputs": [
        {
          "output_type": "execute_result",
          "data": {
            "text/plain": [
              "(70798, 34)"
            ]
          },
          "metadata": {
            "tags": []
          },
          "execution_count": 279
        }
      ]
    },
    {
      "cell_type": "code",
      "metadata": {
        "ExecuteTime": {
          "end_time": "2019-09-09T01:40:02.661139Z",
          "start_time": "2019-09-09T01:40:02.644720Z"
        },
        "id": "9CHqm426hXsC",
        "colab_type": "code",
        "outputId": "07891504-76cb-4533-ebdf-130cc20091aa",
        "colab": {
          "base_uri": "https://localhost:8080/",
          "height": 241
        }
      },
      "source": [
        "eqdata.head()"
      ],
      "execution_count": 280,
      "outputs": [
        {
          "output_type": "execute_result",
          "data": {
            "text/html": [
              "<div>\n",
              "<style scoped>\n",
              "    .dataframe tbody tr th:only-of-type {\n",
              "        vertical-align: middle;\n",
              "    }\n",
              "\n",
              "    .dataframe tbody tr th {\n",
              "        vertical-align: top;\n",
              "    }\n",
              "\n",
              "    .dataframe thead th {\n",
              "        text-align: right;\n",
              "    }\n",
              "</style>\n",
              "<table border=\"1\" class=\"dataframe\">\n",
              "  <thead>\n",
              "    <tr style=\"text-align: right;\">\n",
              "      <th></th>\n",
              "      <th>#YYY/MM/DD</th>\n",
              "      <th>HH:mm:SS.ss</th>\n",
              "      <th>ET</th>\n",
              "      <th>GT</th>\n",
              "      <th>MAG</th>\n",
              "      <th>Unnamed: 5</th>\n",
              "      <th>M</th>\n",
              "      <th>Unnamed: 7</th>\n",
              "      <th>Unnamed: 8</th>\n",
              "      <th>Unnamed: 9</th>\n",
              "      <th>LAT</th>\n",
              "      <th>Unnamed: 11</th>\n",
              "      <th>Unnamed: 12</th>\n",
              "      <th>Unnamed: 13</th>\n",
              "      <th>Unnamed: 14</th>\n",
              "      <th>Unnamed: 15</th>\n",
              "      <th>Unnamed: 16</th>\n",
              "      <th>LON</th>\n",
              "      <th>Unnamed: 18</th>\n",
              "      <th>Unnamed: 19</th>\n",
              "      <th>Unnamed: 20</th>\n",
              "      <th>Unnamed: 21</th>\n",
              "      <th>Unnamed: 22</th>\n",
              "      <th>DEPTH</th>\n",
              "      <th>Q</th>\n",
              "      <th>Unnamed: 25</th>\n",
              "      <th>EVID</th>\n",
              "      <th>Unnamed: 27</th>\n",
              "      <th>Unnamed: 28</th>\n",
              "      <th>Unnamed: 29</th>\n",
              "      <th>Unnamed: 30</th>\n",
              "      <th>Unnamed: 31</th>\n",
              "      <th>NPH</th>\n",
              "      <th>NGRM</th>\n",
              "    </tr>\n",
              "  </thead>\n",
              "  <tbody>\n",
              "    <tr>\n",
              "      <th>0</th>\n",
              "      <td>1984/01/01</td>\n",
              "      <td>01:30:57.52</td>\n",
              "      <td>eq</td>\n",
              "      <td>NaN</td>\n",
              "      <td>l</td>\n",
              "      <td>2.02</td>\n",
              "      <td>c</td>\n",
              "      <td>NaN</td>\n",
              "      <td>NaN</td>\n",
              "      <td>33.246</td>\n",
              "      <td>-116.433</td>\n",
              "      <td>NaN</td>\n",
              "      <td>NaN</td>\n",
              "      <td>1.6</td>\n",
              "      <td>C</td>\n",
              "      <td>NaN</td>\n",
              "      <td>NaN</td>\n",
              "      <td>NaN</td>\n",
              "      <td>28255.0</td>\n",
              "      <td>NaN</td>\n",
              "      <td>NaN</td>\n",
              "      <td>13.0</td>\n",
              "      <td>NaN</td>\n",
              "      <td>NaN</td>\n",
              "      <td>17.0</td>\n",
              "      <td>NaN</td>\n",
              "      <td>NaN</td>\n",
              "      <td>NaN</td>\n",
              "      <td>NaN</td>\n",
              "      <td>NaN</td>\n",
              "      <td>NaN</td>\n",
              "      <td>NaN</td>\n",
              "      <td>NaN</td>\n",
              "      <td>NaN</td>\n",
              "    </tr>\n",
              "    <tr>\n",
              "      <th>1</th>\n",
              "      <td>1984/01/01</td>\n",
              "      <td>05:31:34.16</td>\n",
              "      <td>eq</td>\n",
              "      <td>NaN</td>\n",
              "      <td>l</td>\n",
              "      <td>2.12</td>\n",
              "      <td>c</td>\n",
              "      <td>NaN</td>\n",
              "      <td>NaN</td>\n",
              "      <td>32.945</td>\n",
              "      <td>-116.295</td>\n",
              "      <td>NaN</td>\n",
              "      <td>NaN</td>\n",
              "      <td>5.4</td>\n",
              "      <td>C</td>\n",
              "      <td>NaN</td>\n",
              "      <td>NaN</td>\n",
              "      <td>NaN</td>\n",
              "      <td>28259.0</td>\n",
              "      <td>NaN</td>\n",
              "      <td>NaN</td>\n",
              "      <td>18.0</td>\n",
              "      <td>NaN</td>\n",
              "      <td>NaN</td>\n",
              "      <td>42.0</td>\n",
              "      <td>NaN</td>\n",
              "      <td>NaN</td>\n",
              "      <td>NaN</td>\n",
              "      <td>NaN</td>\n",
              "      <td>NaN</td>\n",
              "      <td>NaN</td>\n",
              "      <td>NaN</td>\n",
              "      <td>NaN</td>\n",
              "      <td>NaN</td>\n",
              "    </tr>\n",
              "    <tr>\n",
              "      <th>2</th>\n",
              "      <td>1984/01/01</td>\n",
              "      <td>06:59:05.14</td>\n",
              "      <td>eq</td>\n",
              "      <td>NaN</td>\n",
              "      <td>l</td>\n",
              "      <td>2.43</td>\n",
              "      <td>c</td>\n",
              "      <td>NaN</td>\n",
              "      <td>NaN</td>\n",
              "      <td>33.343</td>\n",
              "      <td>-117.628</td>\n",
              "      <td>NaN</td>\n",
              "      <td>NaN</td>\n",
              "      <td>5.6</td>\n",
              "      <td>C</td>\n",
              "      <td>NaN</td>\n",
              "      <td>NaN</td>\n",
              "      <td>NaN</td>\n",
              "      <td>28260.0</td>\n",
              "      <td>NaN</td>\n",
              "      <td>NaN</td>\n",
              "      <td>13.0</td>\n",
              "      <td>NaN</td>\n",
              "      <td>NaN</td>\n",
              "      <td>30.0</td>\n",
              "      <td>NaN</td>\n",
              "      <td>NaN</td>\n",
              "      <td>NaN</td>\n",
              "      <td>NaN</td>\n",
              "      <td>NaN</td>\n",
              "      <td>NaN</td>\n",
              "      <td>NaN</td>\n",
              "      <td>NaN</td>\n",
              "      <td>NaN</td>\n",
              "    </tr>\n",
              "    <tr>\n",
              "      <th>3</th>\n",
              "      <td>1984/01/01</td>\n",
              "      <td>11:10:25.29</td>\n",
              "      <td>eq</td>\n",
              "      <td>NaN</td>\n",
              "      <td>l</td>\n",
              "      <td>2.07</td>\n",
              "      <td>c</td>\n",
              "      <td>NaN</td>\n",
              "      <td>NaN</td>\n",
              "      <td>33.668</td>\n",
              "      <td>-116.780</td>\n",
              "      <td>NaN</td>\n",
              "      <td>13.8</td>\n",
              "      <td>C</td>\n",
              "      <td>NaN</td>\n",
              "      <td>NaN</td>\n",
              "      <td>NaN</td>\n",
              "      <td>28270.0</td>\n",
              "      <td>NaN</td>\n",
              "      <td>NaN</td>\n",
              "      <td>19.0</td>\n",
              "      <td>NaN</td>\n",
              "      <td>NaN</td>\n",
              "      <td>40.0</td>\n",
              "      <td>NaN</td>\n",
              "      <td>NaN</td>\n",
              "      <td>NaN</td>\n",
              "      <td>NaN</td>\n",
              "      <td>NaN</td>\n",
              "      <td>NaN</td>\n",
              "      <td>NaN</td>\n",
              "      <td>NaN</td>\n",
              "      <td>NaN</td>\n",
              "      <td>NaN</td>\n",
              "    </tr>\n",
              "    <tr>\n",
              "      <th>4</th>\n",
              "      <td>1984/01/01</td>\n",
              "      <td>19:38:19.79</td>\n",
              "      <td>eq</td>\n",
              "      <td>NaN</td>\n",
              "      <td>l</td>\n",
              "      <td>2.13</td>\n",
              "      <td>c</td>\n",
              "      <td>NaN</td>\n",
              "      <td>NaN</td>\n",
              "      <td>33.963</td>\n",
              "      <td>-116.290</td>\n",
              "      <td>NaN</td>\n",
              "      <td>NaN</td>\n",
              "      <td>2.7</td>\n",
              "      <td>C</td>\n",
              "      <td>NaN</td>\n",
              "      <td>NaN</td>\n",
              "      <td>NaN</td>\n",
              "      <td>28553.0</td>\n",
              "      <td>NaN</td>\n",
              "      <td>NaN</td>\n",
              "      <td>40.0</td>\n",
              "      <td>NaN</td>\n",
              "      <td>NaN</td>\n",
              "      <td>49.0</td>\n",
              "      <td>NaN</td>\n",
              "      <td>NaN</td>\n",
              "      <td>NaN</td>\n",
              "      <td>NaN</td>\n",
              "      <td>NaN</td>\n",
              "      <td>NaN</td>\n",
              "      <td>NaN</td>\n",
              "      <td>NaN</td>\n",
              "      <td>NaN</td>\n",
              "    </tr>\n",
              "  </tbody>\n",
              "</table>\n",
              "</div>"
            ],
            "text/plain": [
              "   #YYY/MM/DD  HH:mm:SS.ss  ET  GT  ... Unnamed: 30  Unnamed: 31 NPH  NGRM\n",
              "0  1984/01/01  01:30:57.52  eq NaN  ...         NaN          NaN NaN   NaN\n",
              "1  1984/01/01  05:31:34.16  eq NaN  ...         NaN          NaN NaN   NaN\n",
              "2  1984/01/01  06:59:05.14  eq NaN  ...         NaN          NaN NaN   NaN\n",
              "3  1984/01/01  11:10:25.29  eq NaN  ...         NaN          NaN NaN   NaN\n",
              "4  1984/01/01  19:38:19.79  eq NaN  ...         NaN          NaN NaN   NaN\n",
              "\n",
              "[5 rows x 34 columns]"
            ]
          },
          "metadata": {
            "tags": []
          },
          "execution_count": 280
        }
      ]
    },
    {
      "cell_type": "code",
      "metadata": {
        "ExecuteTime": {
          "end_time": "2019-09-09T01:40:02.759957Z",
          "start_time": "2019-09-09T01:40:02.662327Z"
        },
        "id": "405C-Y8_hXsD",
        "colab_type": "code",
        "outputId": "ac7c6948-4b0e-4af8-e212-cb7270b78535",
        "colab": {
          "base_uri": "https://localhost:8080/",
          "height": 334
        }
      },
      "source": [
        "eqdata.describe()"
      ],
      "execution_count": 281,
      "outputs": [
        {
          "output_type": "execute_result",
          "data": {
            "text/html": [
              "<div>\n",
              "<style scoped>\n",
              "    .dataframe tbody tr th:only-of-type {\n",
              "        vertical-align: middle;\n",
              "    }\n",
              "\n",
              "    .dataframe tbody tr th {\n",
              "        vertical-align: top;\n",
              "    }\n",
              "\n",
              "    .dataframe thead th {\n",
              "        text-align: right;\n",
              "    }\n",
              "</style>\n",
              "<table border=\"1\" class=\"dataframe\">\n",
              "  <thead>\n",
              "    <tr style=\"text-align: right;\">\n",
              "      <th></th>\n",
              "      <th>GT</th>\n",
              "      <th>Unnamed: 5</th>\n",
              "      <th>Unnamed: 7</th>\n",
              "      <th>Unnamed: 8</th>\n",
              "      <th>Unnamed: 9</th>\n",
              "      <th>LAT</th>\n",
              "      <th>Unnamed: 11</th>\n",
              "      <th>Unnamed: 12</th>\n",
              "      <th>Unnamed: 15</th>\n",
              "      <th>Unnamed: 16</th>\n",
              "      <th>LON</th>\n",
              "      <th>Unnamed: 18</th>\n",
              "      <th>Unnamed: 19</th>\n",
              "      <th>Unnamed: 20</th>\n",
              "      <th>Unnamed: 21</th>\n",
              "      <th>Unnamed: 22</th>\n",
              "      <th>DEPTH</th>\n",
              "      <th>Q</th>\n",
              "      <th>Unnamed: 25</th>\n",
              "      <th>EVID</th>\n",
              "      <th>Unnamed: 27</th>\n",
              "      <th>Unnamed: 28</th>\n",
              "      <th>Unnamed: 29</th>\n",
              "      <th>Unnamed: 30</th>\n",
              "      <th>Unnamed: 31</th>\n",
              "      <th>NPH</th>\n",
              "      <th>NGRM</th>\n",
              "    </tr>\n",
              "  </thead>\n",
              "  <tbody>\n",
              "    <tr>\n",
              "      <th>count</th>\n",
              "      <td>0.0</td>\n",
              "      <td>70798.000000</td>\n",
              "      <td>0.0</td>\n",
              "      <td>0.0</td>\n",
              "      <td>70798.000000</td>\n",
              "      <td>70798.00000</td>\n",
              "      <td>0.0</td>\n",
              "      <td>9648.000000</td>\n",
              "      <td>7.359000e+03</td>\n",
              "      <td>4.628900e+04</td>\n",
              "      <td>14096.000000</td>\n",
              "      <td>10889.000000</td>\n",
              "      <td>43932.000000</td>\n",
              "      <td>21302.000000</td>\n",
              "      <td>33735.000000</td>\n",
              "      <td>18080.000000</td>\n",
              "      <td>12705.000000</td>\n",
              "      <td>3387.000000</td>\n",
              "      <td>469.000000</td>\n",
              "      <td>2.000000</td>\n",
              "      <td>0.0</td>\n",
              "      <td>0.0</td>\n",
              "      <td>0.0</td>\n",
              "      <td>0.0</td>\n",
              "      <td>0.0</td>\n",
              "      <td>0.0</td>\n",
              "      <td>0.0</td>\n",
              "    </tr>\n",
              "    <tr>\n",
              "      <th>mean</th>\n",
              "      <td>NaN</td>\n",
              "      <td>2.417826</td>\n",
              "      <td>NaN</td>\n",
              "      <td>NaN</td>\n",
              "      <td>33.977749</td>\n",
              "      <td>-116.88145</td>\n",
              "      <td>NaN</td>\n",
              "      <td>13.354343</td>\n",
              "      <td>6.097558e+06</td>\n",
              "      <td>4.482677e+06</td>\n",
              "      <td>524649.772205</td>\n",
              "      <td>16307.082193</td>\n",
              "      <td>43.634321</td>\n",
              "      <td>141.903530</td>\n",
              "      <td>203.562443</td>\n",
              "      <td>78.426383</td>\n",
              "      <td>55.085714</td>\n",
              "      <td>43.415412</td>\n",
              "      <td>14.746269</td>\n",
              "      <td>7.000000</td>\n",
              "      <td>NaN</td>\n",
              "      <td>NaN</td>\n",
              "      <td>NaN</td>\n",
              "      <td>NaN</td>\n",
              "      <td>NaN</td>\n",
              "      <td>NaN</td>\n",
              "      <td>NaN</td>\n",
              "    </tr>\n",
              "    <tr>\n",
              "      <th>std</th>\n",
              "      <td>NaN</td>\n",
              "      <td>0.407683</td>\n",
              "      <td>NaN</td>\n",
              "      <td>NaN</td>\n",
              "      <td>1.156586</td>\n",
              "      <td>1.07667</td>\n",
              "      <td>NaN</td>\n",
              "      <td>2.724517</td>\n",
              "      <td>4.441852e+06</td>\n",
              "      <td>3.130379e+06</td>\n",
              "      <td>281055.136911</td>\n",
              "      <td>25237.230734</td>\n",
              "      <td>121.795817</td>\n",
              "      <td>311.415589</td>\n",
              "      <td>155.337382</td>\n",
              "      <td>56.105321</td>\n",
              "      <td>30.519535</td>\n",
              "      <td>24.266088</td>\n",
              "      <td>17.013243</td>\n",
              "      <td>2.828427</td>\n",
              "      <td>NaN</td>\n",
              "      <td>NaN</td>\n",
              "      <td>NaN</td>\n",
              "      <td>NaN</td>\n",
              "      <td>NaN</td>\n",
              "      <td>NaN</td>\n",
              "      <td>NaN</td>\n",
              "    </tr>\n",
              "    <tr>\n",
              "      <th>min</th>\n",
              "      <td>NaN</td>\n",
              "      <td>2.000000</td>\n",
              "      <td>NaN</td>\n",
              "      <td>NaN</td>\n",
              "      <td>30.094830</td>\n",
              "      <td>-121.76000</td>\n",
              "      <td>NaN</td>\n",
              "      <td>10.000000</td>\n",
              "      <td>1.000432e+06</td>\n",
              "      <td>1.070000e+02</td>\n",
              "      <td>10.000000</td>\n",
              "      <td>0.000000</td>\n",
              "      <td>0.000000</td>\n",
              "      <td>0.000000</td>\n",
              "      <td>0.000000</td>\n",
              "      <td>0.000000</td>\n",
              "      <td>0.000000</td>\n",
              "      <td>0.000000</td>\n",
              "      <td>0.000000</td>\n",
              "      <td>5.000000</td>\n",
              "      <td>NaN</td>\n",
              "      <td>NaN</td>\n",
              "      <td>NaN</td>\n",
              "      <td>NaN</td>\n",
              "      <td>NaN</td>\n",
              "      <td>NaN</td>\n",
              "      <td>NaN</td>\n",
              "    </tr>\n",
              "    <tr>\n",
              "      <th>25%</th>\n",
              "      <td>NaN</td>\n",
              "      <td>2.120000</td>\n",
              "      <td>NaN</td>\n",
              "      <td>NaN</td>\n",
              "      <td>33.061000</td>\n",
              "      <td>-117.69200</td>\n",
              "      <td>NaN</td>\n",
              "      <td>11.200000</td>\n",
              "      <td>3.041641e+06</td>\n",
              "      <td>3.031237e+06</td>\n",
              "      <td>136998.250000</td>\n",
              "      <td>27.000000</td>\n",
              "      <td>18.000000</td>\n",
              "      <td>14.000000</td>\n",
              "      <td>113.000000</td>\n",
              "      <td>48.000000</td>\n",
              "      <td>33.000000</td>\n",
              "      <td>24.000000</td>\n",
              "      <td>0.000000</td>\n",
              "      <td>6.000000</td>\n",
              "      <td>NaN</td>\n",
              "      <td>NaN</td>\n",
              "      <td>NaN</td>\n",
              "      <td>NaN</td>\n",
              "      <td>NaN</td>\n",
              "      <td>NaN</td>\n",
              "      <td>NaN</td>\n",
              "    </tr>\n",
              "    <tr>\n",
              "      <th>50%</th>\n",
              "      <td>NaN</td>\n",
              "      <td>2.300000</td>\n",
              "      <td>NaN</td>\n",
              "      <td>NaN</td>\n",
              "      <td>34.056750</td>\n",
              "      <td>-116.59000</td>\n",
              "      <td>NaN</td>\n",
              "      <td>12.800000</td>\n",
              "      <td>3.229114e+06</td>\n",
              "      <td>3.110080e+06</td>\n",
              "      <td>703081.500000</td>\n",
              "      <td>57.000000</td>\n",
              "      <td>28.000000</td>\n",
              "      <td>23.000000</td>\n",
              "      <td>168.000000</td>\n",
              "      <td>70.000000</td>\n",
              "      <td>50.000000</td>\n",
              "      <td>38.000000</td>\n",
              "      <td>13.000000</td>\n",
              "      <td>7.000000</td>\n",
              "      <td>NaN</td>\n",
              "      <td>NaN</td>\n",
              "      <td>NaN</td>\n",
              "      <td>NaN</td>\n",
              "      <td>NaN</td>\n",
              "      <td>NaN</td>\n",
              "      <td>NaN</td>\n",
              "    </tr>\n",
              "    <tr>\n",
              "      <th>75%</th>\n",
              "      <td>NaN</td>\n",
              "      <td>2.590000</td>\n",
              "      <td>NaN</td>\n",
              "      <td>NaN</td>\n",
              "      <td>34.591000</td>\n",
              "      <td>-116.25100</td>\n",
              "      <td>NaN</td>\n",
              "      <td>14.900000</td>\n",
              "      <td>9.669999e+06</td>\n",
              "      <td>9.027968e+06</td>\n",
              "      <td>725926.500000</td>\n",
              "      <td>37764.000000</td>\n",
              "      <td>42.000000</td>\n",
              "      <td>137.000000</td>\n",
              "      <td>294.000000</td>\n",
              "      <td>92.000000</td>\n",
              "      <td>71.000000</td>\n",
              "      <td>61.000000</td>\n",
              "      <td>24.000000</td>\n",
              "      <td>8.000000</td>\n",
              "      <td>NaN</td>\n",
              "      <td>NaN</td>\n",
              "      <td>NaN</td>\n",
              "      <td>NaN</td>\n",
              "      <td>NaN</td>\n",
              "      <td>NaN</td>\n",
              "      <td>NaN</td>\n",
              "    </tr>\n",
              "    <tr>\n",
              "      <th>max</th>\n",
              "      <td>NaN</td>\n",
              "      <td>7.100000</td>\n",
              "      <td>NaN</td>\n",
              "      <td>NaN</td>\n",
              "      <td>37.985500</td>\n",
              "      <td>-113.71900</td>\n",
              "      <td>NaN</td>\n",
              "      <td>29.300000</td>\n",
              "      <td>3.736673e+07</td>\n",
              "      <td>9.875061e+06</td>\n",
              "      <td>754723.000000</td>\n",
              "      <td>71774.000000</td>\n",
              "      <td>3384.000000</td>\n",
              "      <td>3815.000000</td>\n",
              "      <td>1574.000000</td>\n",
              "      <td>996.000000</td>\n",
              "      <td>227.000000</td>\n",
              "      <td>145.000000</td>\n",
              "      <td>88.000000</td>\n",
              "      <td>9.000000</td>\n",
              "      <td>NaN</td>\n",
              "      <td>NaN</td>\n",
              "      <td>NaN</td>\n",
              "      <td>NaN</td>\n",
              "      <td>NaN</td>\n",
              "      <td>NaN</td>\n",
              "      <td>NaN</td>\n",
              "    </tr>\n",
              "  </tbody>\n",
              "</table>\n",
              "</div>"
            ],
            "text/plain": [
              "        GT    Unnamed: 5  Unnamed: 7  ...  Unnamed: 31  NPH  NGRM\n",
              "count  0.0  70798.000000         0.0  ...          0.0  0.0   0.0\n",
              "mean   NaN      2.417826         NaN  ...          NaN  NaN   NaN\n",
              "std    NaN      0.407683         NaN  ...          NaN  NaN   NaN\n",
              "min    NaN      2.000000         NaN  ...          NaN  NaN   NaN\n",
              "25%    NaN      2.120000         NaN  ...          NaN  NaN   NaN\n",
              "50%    NaN      2.300000         NaN  ...          NaN  NaN   NaN\n",
              "75%    NaN      2.590000         NaN  ...          NaN  NaN   NaN\n",
              "max    NaN      7.100000         NaN  ...          NaN  NaN   NaN\n",
              "\n",
              "[8 rows x 27 columns]"
            ]
          },
          "metadata": {
            "tags": []
          },
          "execution_count": 281
        }
      ]
    },
    {
      "cell_type": "markdown",
      "metadata": {
        "ExecuteTime": {
          "end_time": "2019-09-08T21:24:56.161634Z",
          "start_time": "2019-09-08T21:24:56.157793Z"
        },
        "id": "08Ty-hUOhXsG",
        "colab_type": "text"
      },
      "source": [
        "now that you have a dataframe object you can use methods of the object to modify it. Use the method ```eqdata.rename``` to change the names of the 3 columns that are the only three relevant to us: _date, time, magnitude_"
      ]
    },
    {
      "cell_type": "markdown",
      "metadata": {
        "id": "dYP53BzDhXsG",
        "colab_type": "text"
      },
      "source": [
        "## prepare date-time column"
      ]
    },
    {
      "cell_type": "code",
      "metadata": {
        "ExecuteTime": {
          "end_time": "2019-09-09T01:40:02.791776Z",
          "start_time": "2019-09-09T01:40:02.761489Z"
        },
        "id": "WFIPxVG_hXsH",
        "colab_type": "code",
        "colab": {}
      },
      "source": [
        "# your code here...\n",
        "\n",
        "#Re name the columns\n",
        "eqdata = eqdata.rename(columns = {\"Unnamed: 5\": \"magnitude\",\n",
        "                                 \"#YYY/MM/DD\": \"date\",\n",
        "                                 \"HH:mm:SS.ss\": \"time\"})\n",
        "#Keep the important data\n",
        "importantData = eqdata[['date','time','magnitude']]"
      ],
      "execution_count": 0,
      "outputs": []
    },
    {
      "cell_type": "code",
      "metadata": {
        "ExecuteTime": {
          "end_time": "2019-09-09T01:40:02.800191Z",
          "start_time": "2019-09-09T01:40:02.793424Z"
        },
        "id": "vZ-NJ-C2hXsJ",
        "colab_type": "code",
        "outputId": "ce7cb499-e338-42da-8254-f18fb3eb2c25",
        "colab": {
          "base_uri": "https://localhost:8080/",
          "height": 204
        }
      },
      "source": [
        "importantData.head()"
      ],
      "execution_count": 283,
      "outputs": [
        {
          "output_type": "execute_result",
          "data": {
            "text/html": [
              "<div>\n",
              "<style scoped>\n",
              "    .dataframe tbody tr th:only-of-type {\n",
              "        vertical-align: middle;\n",
              "    }\n",
              "\n",
              "    .dataframe tbody tr th {\n",
              "        vertical-align: top;\n",
              "    }\n",
              "\n",
              "    .dataframe thead th {\n",
              "        text-align: right;\n",
              "    }\n",
              "</style>\n",
              "<table border=\"1\" class=\"dataframe\">\n",
              "  <thead>\n",
              "    <tr style=\"text-align: right;\">\n",
              "      <th></th>\n",
              "      <th>date</th>\n",
              "      <th>time</th>\n",
              "      <th>magnitude</th>\n",
              "    </tr>\n",
              "  </thead>\n",
              "  <tbody>\n",
              "    <tr>\n",
              "      <th>0</th>\n",
              "      <td>1984/01/01</td>\n",
              "      <td>01:30:57.52</td>\n",
              "      <td>2.02</td>\n",
              "    </tr>\n",
              "    <tr>\n",
              "      <th>1</th>\n",
              "      <td>1984/01/01</td>\n",
              "      <td>05:31:34.16</td>\n",
              "      <td>2.12</td>\n",
              "    </tr>\n",
              "    <tr>\n",
              "      <th>2</th>\n",
              "      <td>1984/01/01</td>\n",
              "      <td>06:59:05.14</td>\n",
              "      <td>2.43</td>\n",
              "    </tr>\n",
              "    <tr>\n",
              "      <th>3</th>\n",
              "      <td>1984/01/01</td>\n",
              "      <td>11:10:25.29</td>\n",
              "      <td>2.07</td>\n",
              "    </tr>\n",
              "    <tr>\n",
              "      <th>4</th>\n",
              "      <td>1984/01/01</td>\n",
              "      <td>19:38:19.79</td>\n",
              "      <td>2.13</td>\n",
              "    </tr>\n",
              "  </tbody>\n",
              "</table>\n",
              "</div>"
            ],
            "text/plain": [
              "         date         time  magnitude\n",
              "0  1984/01/01  01:30:57.52       2.02\n",
              "1  1984/01/01  05:31:34.16       2.12\n",
              "2  1984/01/01  06:59:05.14       2.43\n",
              "3  1984/01/01  11:10:25.29       2.07\n",
              "4  1984/01/01  19:38:19.79       2.13"
            ]
          },
          "metadata": {
            "tags": []
          },
          "execution_count": 283
        }
      ]
    },
    {
      "cell_type": "code",
      "metadata": {
        "ExecuteTime": {
          "end_time": "2019-09-09T01:40:02.813328Z",
          "start_time": "2019-09-09T01:40:02.801494Z"
        },
        "id": "BQHplE_shXsL",
        "colab_type": "code",
        "outputId": "84c35e9c-bfce-4a16-c181-ea7d40187d3c",
        "colab": {
          "base_uri": "https://localhost:8080/",
          "height": 297
        }
      },
      "source": [
        "importantData.describe()"
      ],
      "execution_count": 284,
      "outputs": [
        {
          "output_type": "execute_result",
          "data": {
            "text/html": [
              "<div>\n",
              "<style scoped>\n",
              "    .dataframe tbody tr th:only-of-type {\n",
              "        vertical-align: middle;\n",
              "    }\n",
              "\n",
              "    .dataframe tbody tr th {\n",
              "        vertical-align: top;\n",
              "    }\n",
              "\n",
              "    .dataframe thead th {\n",
              "        text-align: right;\n",
              "    }\n",
              "</style>\n",
              "<table border=\"1\" class=\"dataframe\">\n",
              "  <thead>\n",
              "    <tr style=\"text-align: right;\">\n",
              "      <th></th>\n",
              "      <th>magnitude</th>\n",
              "    </tr>\n",
              "  </thead>\n",
              "  <tbody>\n",
              "    <tr>\n",
              "      <th>count</th>\n",
              "      <td>70798.000000</td>\n",
              "    </tr>\n",
              "    <tr>\n",
              "      <th>mean</th>\n",
              "      <td>2.417826</td>\n",
              "    </tr>\n",
              "    <tr>\n",
              "      <th>std</th>\n",
              "      <td>0.407683</td>\n",
              "    </tr>\n",
              "    <tr>\n",
              "      <th>min</th>\n",
              "      <td>2.000000</td>\n",
              "    </tr>\n",
              "    <tr>\n",
              "      <th>25%</th>\n",
              "      <td>2.120000</td>\n",
              "    </tr>\n",
              "    <tr>\n",
              "      <th>50%</th>\n",
              "      <td>2.300000</td>\n",
              "    </tr>\n",
              "    <tr>\n",
              "      <th>75%</th>\n",
              "      <td>2.590000</td>\n",
              "    </tr>\n",
              "    <tr>\n",
              "      <th>max</th>\n",
              "      <td>7.100000</td>\n",
              "    </tr>\n",
              "  </tbody>\n",
              "</table>\n",
              "</div>"
            ],
            "text/plain": [
              "          magnitude\n",
              "count  70798.000000\n",
              "mean       2.417826\n",
              "std        0.407683\n",
              "min        2.000000\n",
              "25%        2.120000\n",
              "50%        2.300000\n",
              "75%        2.590000\n",
              "max        7.100000"
            ]
          },
          "metadata": {
            "tags": []
          },
          "execution_count": 284
        }
      ]
    },
    {
      "cell_type": "markdown",
      "metadata": {
        "id": "EMiRblXihXsN",
        "colab_type": "text"
      },
      "source": [
        "Now you want to combine the columns containing date and time and convert them to a \"datetime\" kind of data object. \n"
      ]
    },
    {
      "cell_type": "markdown",
      "metadata": {
        "ExecuteTime": {
          "end_time": "2019-09-08T21:26:57.438903Z",
          "start_time": "2019-09-08T21:26:57.435133Z"
        },
        "id": "ZPOv1TJihXsN",
        "colab_type": "text"
      },
      "source": [
        "What data type are the _time_ and _date_ columns right now? What tyoe you want them to be to conver them to datetime with ```pd.datetime()```?"
      ]
    },
    {
      "cell_type": "code",
      "metadata": {
        "ExecuteTime": {
          "end_time": "2019-09-09T01:40:02.859962Z",
          "start_time": "2019-09-09T01:40:02.856654Z"
        },
        "id": "sqfVbxyYhXsO",
        "colab_type": "code",
        "outputId": "6016a7c5-5978-4941-b2e2-27fff937fea6",
        "colab": {
          "base_uri": "https://localhost:8080/",
          "height": 34
        }
      },
      "source": [
        "importantData.time.dtype, importantData.date.dtype"
      ],
      "execution_count": 285,
      "outputs": [
        {
          "output_type": "execute_result",
          "data": {
            "text/plain": [
              "(dtype('O'), dtype('O'))"
            ]
          },
          "metadata": {
            "tags": []
          },
          "execution_count": 285
        }
      ]
    },
    {
      "cell_type": "markdown",
      "metadata": {
        "id": "KFrFcH9cHFL_",
        "colab_type": "text"
      },
      "source": [
        "These are currently object types."
      ]
    },
    {
      "cell_type": "markdown",
      "metadata": {
        "ExecuteTime": {
          "end_time": "2019-09-08T21:28:58.082172Z",
          "start_time": "2019-09-08T21:28:58.078926Z"
        },
        "id": "O9qP9mRShXsP",
        "colab_type": "text"
      },
      "source": [
        "to do this conversion I \n",
        "\n",
        "   1 joined date and time into a single string for each row with a [\"list comprehension\"](https://www.pythonforbeginners.com/basics/list-comprehensions-in-python) (essentially a for loop but more efficient and compact). You do not have to do it with a list comprehension, you can use just a for loop.\n",
        "\n",
        "   2 used pd.datetime() to convert the resulting new dataframe column into a dataframe column containing _datetime_ objects (see lab)\n",
        "\n",
        "   3 but this did not work because of the formatting of some dates, so I had to go back and fix 5 entries. (you are on your own to figure out this one)"
      ]
    },
    {
      "cell_type": "code",
      "metadata": {
        "ExecuteTime": {
          "end_time": "2019-09-09T01:40:12.489690Z",
          "start_time": "2019-09-09T01:40:02.914845Z"
        },
        "id": "eOUTqBDOhXsQ",
        "colab_type": "code",
        "colab": {}
      },
      "source": [
        "# your code here\n",
        "#concatenate\n",
        "#importantData['datetime'] = importantData['date']  + ' ' + importantData['time']\n",
        "#change to datetime type\n",
        "dateTime = []  #create empty array\n",
        "for i in range(0,70798):\n",
        "  stringDateTime = importantData['date'][i] + \" \" + importantData['time'][i]\n",
        "  try:\n",
        "    dateTime.append(pd.to_datetime(stringDateTime, format = '%Y/%m/%d %H:%M:%S.%f'))\n",
        "  except:\n",
        "    dateTime.append(pd.to_datetime(stringDateTime, format = '%Y/%m/%d %H:%M:%S.00'))"
      ],
      "execution_count": 0,
      "outputs": []
    },
    {
      "cell_type": "code",
      "metadata": {
        "id": "BXww0xIISMUk",
        "colab_type": "code",
        "colab": {
          "base_uri": "https://localhost:8080/",
          "height": 119
        },
        "outputId": "99c864fa-ef36-4482-dd2a-7f2756527bce"
      },
      "source": [
        "importantData['datetime'] = dateTime"
      ],
      "execution_count": 287,
      "outputs": [
        {
          "output_type": "stream",
          "text": [
            "/usr/local/lib/python3.6/dist-packages/ipykernel_launcher.py:1: SettingWithCopyWarning: \n",
            "A value is trying to be set on a copy of a slice from a DataFrame.\n",
            "Try using .loc[row_indexer,col_indexer] = value instead\n",
            "\n",
            "See the caveats in the documentation: http://pandas.pydata.org/pandas-docs/stable/indexing.html#indexing-view-versus-copy\n",
            "  \"\"\"Entry point for launching an IPython kernel.\n"
          ],
          "name": "stderr"
        }
      ]
    },
    {
      "cell_type": "code",
      "metadata": {
        "id": "Cqhxmf_STUVV",
        "colab_type": "code",
        "colab": {
          "base_uri": "https://localhost:8080/",
          "height": 34
        },
        "outputId": "bb8a9989-ea2a-4907-c189-1d693b106fa5"
      },
      "source": [
        "importantData.datetime.dtype"
      ],
      "execution_count": 288,
      "outputs": [
        {
          "output_type": "execute_result",
          "data": {
            "text/plain": [
              "dtype('<M8[ns]')"
            ]
          },
          "metadata": {
            "tags": []
          },
          "execution_count": 288
        }
      ]
    },
    {
      "cell_type": "markdown",
      "metadata": {
        "id": "8Ok-MPLSTaDl",
        "colab_type": "text"
      },
      "source": [
        "This is now the correct data type."
      ]
    },
    {
      "cell_type": "code",
      "metadata": {
        "ExecuteTime": {
          "end_time": "2019-09-09T01:40:29.216627Z",
          "start_time": "2019-09-09T01:40:29.206374Z"
        },
        "id": "o9PeG5J5hXsU",
        "colab_type": "code",
        "outputId": "3858e466-493c-4358-cc68-32cdb437f7e8",
        "colab": {
          "base_uri": "https://localhost:8080/",
          "height": 204
        }
      },
      "source": [
        "importantData.head()"
      ],
      "execution_count": 289,
      "outputs": [
        {
          "output_type": "execute_result",
          "data": {
            "text/html": [
              "<div>\n",
              "<style scoped>\n",
              "    .dataframe tbody tr th:only-of-type {\n",
              "        vertical-align: middle;\n",
              "    }\n",
              "\n",
              "    .dataframe tbody tr th {\n",
              "        vertical-align: top;\n",
              "    }\n",
              "\n",
              "    .dataframe thead th {\n",
              "        text-align: right;\n",
              "    }\n",
              "</style>\n",
              "<table border=\"1\" class=\"dataframe\">\n",
              "  <thead>\n",
              "    <tr style=\"text-align: right;\">\n",
              "      <th></th>\n",
              "      <th>date</th>\n",
              "      <th>time</th>\n",
              "      <th>magnitude</th>\n",
              "      <th>datetime</th>\n",
              "    </tr>\n",
              "  </thead>\n",
              "  <tbody>\n",
              "    <tr>\n",
              "      <th>0</th>\n",
              "      <td>1984/01/01</td>\n",
              "      <td>01:30:57.52</td>\n",
              "      <td>2.02</td>\n",
              "      <td>1984-01-01 01:30:57.520</td>\n",
              "    </tr>\n",
              "    <tr>\n",
              "      <th>1</th>\n",
              "      <td>1984/01/01</td>\n",
              "      <td>05:31:34.16</td>\n",
              "      <td>2.12</td>\n",
              "      <td>1984-01-01 05:31:34.160</td>\n",
              "    </tr>\n",
              "    <tr>\n",
              "      <th>2</th>\n",
              "      <td>1984/01/01</td>\n",
              "      <td>06:59:05.14</td>\n",
              "      <td>2.43</td>\n",
              "      <td>1984-01-01 06:59:05.140</td>\n",
              "    </tr>\n",
              "    <tr>\n",
              "      <th>3</th>\n",
              "      <td>1984/01/01</td>\n",
              "      <td>11:10:25.29</td>\n",
              "      <td>2.07</td>\n",
              "      <td>1984-01-01 11:10:25.290</td>\n",
              "    </tr>\n",
              "    <tr>\n",
              "      <th>4</th>\n",
              "      <td>1984/01/01</td>\n",
              "      <td>19:38:19.79</td>\n",
              "      <td>2.13</td>\n",
              "      <td>1984-01-01 19:38:19.790</td>\n",
              "    </tr>\n",
              "  </tbody>\n",
              "</table>\n",
              "</div>"
            ],
            "text/plain": [
              "         date         time  magnitude                datetime\n",
              "0  1984/01/01  01:30:57.52       2.02 1984-01-01 01:30:57.520\n",
              "1  1984/01/01  05:31:34.16       2.12 1984-01-01 05:31:34.160\n",
              "2  1984/01/01  06:59:05.14       2.43 1984-01-01 06:59:05.140\n",
              "3  1984/01/01  11:10:25.29       2.07 1984-01-01 11:10:25.290\n",
              "4  1984/01/01  19:38:19.79       2.13 1984-01-01 19:38:19.790"
            ]
          },
          "metadata": {
            "tags": []
          },
          "execution_count": 289
        }
      ]
    },
    {
      "cell_type": "markdown",
      "metadata": {
        "id": "zAmaMzQIhXsW",
        "colab_type": "text"
      },
      "source": [
        "## select valuable data"
      ]
    },
    {
      "cell_type": "markdown",
      "metadata": {
        "id": "R3kga7VvhXsZ",
        "colab_type": "text"
      },
      "source": [
        "Following the description in Section 2  of Corral 2018 I removed all data that did not belong to a \"stationary\" period. Third paragraph section 2 of Corral 2018. You can see the cell of code I used to do this [here](https://github.com/fedhere/DSPS/blob/master/HW3/Corral2018_selectStationary.py) at no points cost, cause it was a bit tricky, but I encourage you to try and do it yourself. If you can do it in fewer lines than I did its automatically +5 points (just turning the loop into a list comprehension does not count. That is an obvious way to decrease the number of lines of code; I did not do it simply to enhance readability.)"
      ]
    },
    {
      "cell_type": "code",
      "metadata": {
        "ExecuteTime": {
          "end_time": "2019-09-09T01:40:29.230993Z",
          "start_time": "2019-09-09T01:40:29.219163Z"
        },
        "id": "tQRj4CAEhXsZ",
        "colab_type": "code",
        "colab": {
          "base_uri": "https://localhost:8080/",
          "height": 1000
        },
        "outputId": "975a3b6d-a040-4d08-b69f-32eccaf8aab4"
      },
      "source": [
        "# your code here\n",
        "\n",
        "# create empty container\n",
        "ss = []\n",
        "\n",
        "# loop through all year pairs as year and fraction of year\n",
        "for t in [(1984, 1986.5), \n",
        "          (1990.3, 1992.1), \n",
        "          (1994.6, 1995.6),\n",
        "          (1996.1,1996.5), \n",
        "          (1997,1997.6), \n",
        "          (1997.75,1998.15), \n",
        "          (1998.25,1999.35), \n",
        "          (2000.55,2000.8),\n",
        "          (2000.9 ,2001.25), \n",
        "          (2001.6 ,2002), \n",
        "          (2002.5 ,2003)]:\n",
        "    \n",
        "    # for each pair I convert the year to datetime (easy)\n",
        "    # then I convert the fraction of year and convert it to days and convert that to a delta-time\n",
        "    # finally I add that deltatime to the year datetime. \n",
        "    ss.append((pd.to_datetime(int(t[0]), format=\"%Y\") \n",
        "        + pd.Timedelta('%.f days'%((t[0] - int(t[0])) * 365.25)),\n",
        "               pd.to_datetime(int(t[1]), format=\"%Y\") \n",
        "        + pd.Timedelta('%.f days'%((t[1] - int(t[1])) * 365.25))))\n",
        "\n",
        "\n",
        "############\n",
        "\n",
        "print (\"the {} timestamp pairs that are the boundaries of good data periods are:\".format(len(ss)))\n",
        "\n",
        "\n",
        "############\n",
        "\n",
        "# data between start and end of first time period\n",
        "gooddates = (((importantData.datetime >= ss[0][0]) * (importantData.datetime <= ss[0][1])) +\\\n",
        "        # data between start and end of second time period\n",
        "        ((importantData.datetime >=ss [1][0]) * (importantData.datetime <= ss[1][1])) +\\\n",
        "        ((importantData.datetime >=ss [2][0]) * (importantData.datetime <= ss[2][1])) +\\\n",
        "        ((importantData.datetime >=ss [3][0]) * (importantData.datetime <= ss[3][1])) +\\\n",
        "        ((importantData.datetime >=ss [4][0]) * (importantData.datetime <= ss[4][1])) +\\\n",
        "        ((importantData.datetime >=ss [5][0]) * (importantData.datetime <= ss[5][1])) +\\\n",
        "        ((importantData.datetime >=ss [6][0]) * (importantData.datetime <= ss[6][1])) +\\\n",
        "        ((importantData.datetime >=ss [7][0]) * (importantData.datetime <= ss[7][1])) +\\\n",
        "        ((importantData.datetime >=ss [8][0]) * (importantData.datetime <= ss[8][1])) +\\\n",
        "        ((importantData.datetime >=ss [9][0]) * (importantData.datetime <= ss[9][1])) +\\\n",
        "        # data between start and end of last time period\n",
        "        ((importantData.datetime >=ss [10][0]) * (importantData.datetime <= ss[10][1])\\\n",
        "        ).values)\n",
        "gooddates"
      ],
      "execution_count": 290,
      "outputs": [
        {
          "output_type": "stream",
          "text": [
            "the 11 timestamp pairs that are the boundaries of good data periods are:\n"
          ],
          "name": "stdout"
        },
        {
          "output_type": "stream",
          "text": [
            "/usr/local/lib/python3.6/dist-packages/pandas/core/computation/expressions.py:183: UserWarning: evaluating in Python space because the '*' operator is not supported by numexpr for the bool dtype, use '&' instead\n",
            "  .format(op=op_str, alt_op=unsupported[op_str]))\n",
            "/usr/local/lib/python3.6/dist-packages/pandas/core/computation/expressions.py:183: UserWarning: evaluating in Python space because the '+' operator is not supported by numexpr for the bool dtype, use '|' instead\n",
            "  .format(op=op_str, alt_op=unsupported[op_str]))\n"
          ],
          "name": "stderr"
        },
        {
          "output_type": "execute_result",
          "data": {
            "text/plain": [
              "0        True\n",
              "1        True\n",
              "2        True\n",
              "3        True\n",
              "4        True\n",
              "5        True\n",
              "6        True\n",
              "7        True\n",
              "8        True\n",
              "9        True\n",
              "10       True\n",
              "11       True\n",
              "12       True\n",
              "13       True\n",
              "14       True\n",
              "15       True\n",
              "16       True\n",
              "17       True\n",
              "18       True\n",
              "19       True\n",
              "20       True\n",
              "21       True\n",
              "22       True\n",
              "23       True\n",
              "24       True\n",
              "25       True\n",
              "26       True\n",
              "27       True\n",
              "28       True\n",
              "29       True\n",
              "         ... \n",
              "70768    True\n",
              "70769    True\n",
              "70770    True\n",
              "70771    True\n",
              "70772    True\n",
              "70773    True\n",
              "70774    True\n",
              "70775    True\n",
              "70776    True\n",
              "70777    True\n",
              "70778    True\n",
              "70779    True\n",
              "70780    True\n",
              "70781    True\n",
              "70782    True\n",
              "70783    True\n",
              "70784    True\n",
              "70785    True\n",
              "70786    True\n",
              "70787    True\n",
              "70788    True\n",
              "70789    True\n",
              "70790    True\n",
              "70791    True\n",
              "70792    True\n",
              "70793    True\n",
              "70794    True\n",
              "70795    True\n",
              "70796    True\n",
              "70797    True\n",
              "Name: datetime, Length: 70798, dtype: bool"
            ]
          },
          "metadata": {
            "tags": []
          },
          "execution_count": 290
        }
      ]
    },
    {
      "cell_type": "code",
      "metadata": {
        "ExecuteTime": {
          "end_time": "2019-09-09T01:40:29.237879Z",
          "start_time": "2019-09-09T01:40:29.232647Z"
        },
        "id": "qPmYVGWbhXsb",
        "colab_type": "code",
        "outputId": "d4a7e200-f9d4-478c-b1af-482795e75594",
        "colab": {
          "base_uri": "https://localhost:8080/",
          "height": 34
        }
      },
      "source": [
        "print (\"the {} timestamp pairs that are the boundaries of good data periods are:\".format(len(ss)))\n"
      ],
      "execution_count": 291,
      "outputs": [
        {
          "output_type": "stream",
          "text": [
            "the 11 timestamp pairs that are the boundaries of good data periods are:\n"
          ],
          "name": "stdout"
        }
      ]
    },
    {
      "cell_type": "markdown",
      "metadata": {
        "id": "-470BeBahXsd",
        "colab_type": "text"
      },
      "source": [
        "The following cell of code shows you the array of bool values (True/False) which I create to use as an index to the input array: when used as an index, a technique called \"broadcasting\" in python, will select only elements of the original array where the index array value is True. something like \n",
        "Try:\n",
        "\n"
      ]
    },
    {
      "cell_type": "code",
      "metadata": {
        "ExecuteTime": {
          "end_time": "2019-09-09T01:40:29.244355Z",
          "start_time": "2019-09-09T01:40:29.239933Z"
        },
        "id": "9wCXH-gfhXsf",
        "colab_type": "code",
        "outputId": "2ac8f32d-9d40-445f-e1d1-f055a8a2568a",
        "colab": {
          "base_uri": "https://localhost:8080/",
          "height": 34
        }
      },
      "source": [
        "a = np.array([0, 1, 2])\n",
        "a, a[[True, False, True]]"
      ],
      "execution_count": 292,
      "outputs": [
        {
          "output_type": "execute_result",
          "data": {
            "text/plain": [
              "(array([0, 1, 2]), array([0, 2]))"
            ]
          },
          "metadata": {
            "tags": []
          },
          "execution_count": 292
        }
      ]
    },
    {
      "cell_type": "markdown",
      "metadata": {
        "ExecuteTime": {
          "end_time": "2019-09-09T01:05:50.836953Z",
          "start_time": "2019-09-09T01:05:50.833542Z"
        },
        "id": "jvZBr-_JhXsi",
        "colab_type": "text"
      },
      "source": [
        "For each of the 11 valid periods I create a condition \n",
        "``` datetime >= period_start AND datetime <= period_end ``` where AND is a product of booleans: True * False = False.\n",
        "\n",
        "I want to take all chinks of data that satisfy this condition for any of the 11 chunks of time so that is a logical OR operator, or a sum of Booleans: True + False = True \n",
        "\n",
        "This is because ```True``` really corresponds to \"not 0\" and False to \"0\". So ```\"not 0\" * 0 = 0``` and ```\"not 0\" + 0 = not 0```\n",
        "    "
      ]
    },
    {
      "cell_type": "code",
      "metadata": {
        "ExecuteTime": {
          "end_time": "2019-09-09T01:40:29.265629Z",
          "start_time": "2019-09-09T01:40:29.245537Z"
        },
        "id": "JGuY1EtzhXsj",
        "colab_type": "code",
        "colab": {
          "base_uri": "https://localhost:8080/",
          "height": 306
        },
        "outputId": "84888e6f-6012-46e6-ac62-0b5afa51d72d"
      },
      "source": [
        "# your code here\n",
        "importantData[\"good_dates\"] = gooddates\n",
        "importantData.head()"
      ],
      "execution_count": 293,
      "outputs": [
        {
          "output_type": "stream",
          "text": [
            "/usr/local/lib/python3.6/dist-packages/ipykernel_launcher.py:1: SettingWithCopyWarning: \n",
            "A value is trying to be set on a copy of a slice from a DataFrame.\n",
            "Try using .loc[row_indexer,col_indexer] = value instead\n",
            "\n",
            "See the caveats in the documentation: http://pandas.pydata.org/pandas-docs/stable/indexing.html#indexing-view-versus-copy\n",
            "  \"\"\"Entry point for launching an IPython kernel.\n"
          ],
          "name": "stderr"
        },
        {
          "output_type": "execute_result",
          "data": {
            "text/html": [
              "<div>\n",
              "<style scoped>\n",
              "    .dataframe tbody tr th:only-of-type {\n",
              "        vertical-align: middle;\n",
              "    }\n",
              "\n",
              "    .dataframe tbody tr th {\n",
              "        vertical-align: top;\n",
              "    }\n",
              "\n",
              "    .dataframe thead th {\n",
              "        text-align: right;\n",
              "    }\n",
              "</style>\n",
              "<table border=\"1\" class=\"dataframe\">\n",
              "  <thead>\n",
              "    <tr style=\"text-align: right;\">\n",
              "      <th></th>\n",
              "      <th>date</th>\n",
              "      <th>time</th>\n",
              "      <th>magnitude</th>\n",
              "      <th>datetime</th>\n",
              "      <th>good_dates</th>\n",
              "    </tr>\n",
              "  </thead>\n",
              "  <tbody>\n",
              "    <tr>\n",
              "      <th>0</th>\n",
              "      <td>1984/01/01</td>\n",
              "      <td>01:30:57.52</td>\n",
              "      <td>2.02</td>\n",
              "      <td>1984-01-01 01:30:57.520</td>\n",
              "      <td>True</td>\n",
              "    </tr>\n",
              "    <tr>\n",
              "      <th>1</th>\n",
              "      <td>1984/01/01</td>\n",
              "      <td>05:31:34.16</td>\n",
              "      <td>2.12</td>\n",
              "      <td>1984-01-01 05:31:34.160</td>\n",
              "      <td>True</td>\n",
              "    </tr>\n",
              "    <tr>\n",
              "      <th>2</th>\n",
              "      <td>1984/01/01</td>\n",
              "      <td>06:59:05.14</td>\n",
              "      <td>2.43</td>\n",
              "      <td>1984-01-01 06:59:05.140</td>\n",
              "      <td>True</td>\n",
              "    </tr>\n",
              "    <tr>\n",
              "      <th>3</th>\n",
              "      <td>1984/01/01</td>\n",
              "      <td>11:10:25.29</td>\n",
              "      <td>2.07</td>\n",
              "      <td>1984-01-01 11:10:25.290</td>\n",
              "      <td>True</td>\n",
              "    </tr>\n",
              "    <tr>\n",
              "      <th>4</th>\n",
              "      <td>1984/01/01</td>\n",
              "      <td>19:38:19.79</td>\n",
              "      <td>2.13</td>\n",
              "      <td>1984-01-01 19:38:19.790</td>\n",
              "      <td>True</td>\n",
              "    </tr>\n",
              "  </tbody>\n",
              "</table>\n",
              "</div>"
            ],
            "text/plain": [
              "         date         time  magnitude                datetime  good_dates\n",
              "0  1984/01/01  01:30:57.52       2.02 1984-01-01 01:30:57.520        True\n",
              "1  1984/01/01  05:31:34.16       2.12 1984-01-01 05:31:34.160        True\n",
              "2  1984/01/01  06:59:05.14       2.43 1984-01-01 06:59:05.140        True\n",
              "3  1984/01/01  11:10:25.29       2.07 1984-01-01 11:10:25.290        True\n",
              "4  1984/01/01  19:38:19.79       2.13 1984-01-01 19:38:19.790        True"
            ]
          },
          "metadata": {
            "tags": []
          },
          "execution_count": 293
        }
      ]
    },
    {
      "cell_type": "code",
      "metadata": {
        "ExecuteTime": {
          "end_time": "2019-09-09T01:40:29.270985Z",
          "start_time": "2019-09-09T01:40:29.267738Z"
        },
        "id": "WHyQm6CqhXsl",
        "colab_type": "code",
        "outputId": "bdf88812-dba9-4043-b03c-6d90664d0f3f",
        "colab": {
          "base_uri": "https://localhost:8080/",
          "height": 34
        }
      },
      "source": [
        "print (\"there are {} earthquakes falling in the selected stationary periods\".\n",
        "       format(gooddates.sum()))"
      ],
      "execution_count": 294,
      "outputs": [
        {
          "output_type": "stream",
          "text": [
            "there are 18852 earthquakes falling in the selected stationary periods\n"
          ],
          "name": "stdout"
        }
      ]
    },
    {
      "cell_type": "code",
      "metadata": {
        "id": "DZqekuQFn_cM",
        "colab_type": "code",
        "colab": {}
      },
      "source": [
        "# your code here: broadcasting to create a dataframe with the good dates only\n",
        "eqGoodData = importantData[importantData['good_dates']]"
      ],
      "execution_count": 0,
      "outputs": []
    },
    {
      "cell_type": "code",
      "metadata": {
        "ExecuteTime": {
          "end_time": "2019-09-09T01:40:29.277256Z",
          "start_time": "2019-09-09T01:40:29.272901Z"
        },
        "id": "K7iYLowuhXsm",
        "colab_type": "code",
        "outputId": "7de9423a-7e08-4a2d-c2b7-4001700d4fb5",
        "colab": {
          "base_uri": "https://localhost:8080/",
          "height": 34
        }
      },
      "source": [
        "eqGoodData.shape"
      ],
      "execution_count": 296,
      "outputs": [
        {
          "output_type": "execute_result",
          "data": {
            "text/plain": [
              "(18852, 5)"
            ]
          },
          "metadata": {
            "tags": []
          },
          "execution_count": 296
        }
      ]
    },
    {
      "cell_type": "code",
      "metadata": {
        "ExecuteTime": {
          "end_time": "2019-09-09T01:40:29.287000Z",
          "start_time": "2019-09-09T01:40:29.279430Z"
        },
        "id": "aMySvYb5hXso",
        "colab_type": "code",
        "outputId": "c77a3380-551c-489c-db0f-255a7ff716c1",
        "colab": {
          "base_uri": "https://localhost:8080/",
          "height": 204
        }
      },
      "source": [
        "eqGoodData.head()"
      ],
      "execution_count": 297,
      "outputs": [
        {
          "output_type": "execute_result",
          "data": {
            "text/html": [
              "<div>\n",
              "<style scoped>\n",
              "    .dataframe tbody tr th:only-of-type {\n",
              "        vertical-align: middle;\n",
              "    }\n",
              "\n",
              "    .dataframe tbody tr th {\n",
              "        vertical-align: top;\n",
              "    }\n",
              "\n",
              "    .dataframe thead th {\n",
              "        text-align: right;\n",
              "    }\n",
              "</style>\n",
              "<table border=\"1\" class=\"dataframe\">\n",
              "  <thead>\n",
              "    <tr style=\"text-align: right;\">\n",
              "      <th></th>\n",
              "      <th>date</th>\n",
              "      <th>time</th>\n",
              "      <th>magnitude</th>\n",
              "      <th>datetime</th>\n",
              "      <th>good_dates</th>\n",
              "    </tr>\n",
              "  </thead>\n",
              "  <tbody>\n",
              "    <tr>\n",
              "      <th>0</th>\n",
              "      <td>1984/01/01</td>\n",
              "      <td>01:30:57.52</td>\n",
              "      <td>2.02</td>\n",
              "      <td>1984-01-01 01:30:57.520</td>\n",
              "      <td>True</td>\n",
              "    </tr>\n",
              "    <tr>\n",
              "      <th>1</th>\n",
              "      <td>1984/01/01</td>\n",
              "      <td>05:31:34.16</td>\n",
              "      <td>2.12</td>\n",
              "      <td>1984-01-01 05:31:34.160</td>\n",
              "      <td>True</td>\n",
              "    </tr>\n",
              "    <tr>\n",
              "      <th>2</th>\n",
              "      <td>1984/01/01</td>\n",
              "      <td>06:59:05.14</td>\n",
              "      <td>2.43</td>\n",
              "      <td>1984-01-01 06:59:05.140</td>\n",
              "      <td>True</td>\n",
              "    </tr>\n",
              "    <tr>\n",
              "      <th>3</th>\n",
              "      <td>1984/01/01</td>\n",
              "      <td>11:10:25.29</td>\n",
              "      <td>2.07</td>\n",
              "      <td>1984-01-01 11:10:25.290</td>\n",
              "      <td>True</td>\n",
              "    </tr>\n",
              "    <tr>\n",
              "      <th>4</th>\n",
              "      <td>1984/01/01</td>\n",
              "      <td>19:38:19.79</td>\n",
              "      <td>2.13</td>\n",
              "      <td>1984-01-01 19:38:19.790</td>\n",
              "      <td>True</td>\n",
              "    </tr>\n",
              "  </tbody>\n",
              "</table>\n",
              "</div>"
            ],
            "text/plain": [
              "         date         time  magnitude                datetime  good_dates\n",
              "0  1984/01/01  01:30:57.52       2.02 1984-01-01 01:30:57.520        True\n",
              "1  1984/01/01  05:31:34.16       2.12 1984-01-01 05:31:34.160        True\n",
              "2  1984/01/01  06:59:05.14       2.43 1984-01-01 06:59:05.140        True\n",
              "3  1984/01/01  11:10:25.29       2.07 1984-01-01 11:10:25.290        True\n",
              "4  1984/01/01  19:38:19.79       2.13 1984-01-01 19:38:19.790        True"
            ]
          },
          "metadata": {
            "tags": []
          },
          "execution_count": 297
        }
      ]
    },
    {
      "cell_type": "markdown",
      "metadata": {
        "ExecuteTime": {
          "end_time": "2019-09-09T01:17:07.527314Z",
          "start_time": "2019-09-09T01:17:07.523165Z"
        },
        "id": "P3MKC5tyhXsp",
        "colab_type": "text"
      },
      "source": [
        "Now what you really want is the _time interval between earthquakes_ for all events greater than some magnitude m, while all you have are the date and time of the events.: \n",
        "\n",
        "You can remove earthquakes smaller than magnitude 2 by, again, broadcasting. How would that look like?"
      ]
    },
    {
      "cell_type": "code",
      "metadata": {
        "ExecuteTime": {
          "end_time": "2019-09-09T01:40:29.292220Z",
          "start_time": "2019-09-09T01:40:29.288359Z"
        },
        "id": "GF-7Xw9AhXsq",
        "colab_type": "code",
        "colab": {}
      },
      "source": [
        "# your code here\n",
        "importantData = importantData[importantData['good_dates']]\n",
        "eqGoodData = importantData[importantData['magnitude'] >= 2.0]"
      ],
      "execution_count": 0,
      "outputs": []
    },
    {
      "cell_type": "code",
      "metadata": {
        "ExecuteTime": {
          "end_time": "2019-09-09T01:40:29.296885Z",
          "start_time": "2019-09-09T01:40:29.293316Z"
        },
        "id": "nTmssr_xhXst",
        "colab_type": "code",
        "outputId": "129f37d4-0779-43a9-aa4a-7f22d4143a37",
        "colab": {
          "base_uri": "https://localhost:8080/",
          "height": 34
        }
      },
      "source": [
        "eqGoodData.shape #look like for my data it was not needed! that is because I chose M>2 when when I downloaded the data"
      ],
      "execution_count": 299,
      "outputs": [
        {
          "output_type": "execute_result",
          "data": {
            "text/plain": [
              "(18852, 5)"
            ]
          },
          "metadata": {
            "tags": []
          },
          "execution_count": 299
        }
      ]
    },
    {
      "cell_type": "markdown",
      "metadata": {
        "id": "Ah6LgDvVhXsu",
        "colab_type": "text"
      },
      "source": [
        "You can get the time between consecutive earthquakes with the method ```diff()``` of numpy arrays (in a pandas series you can get the data as a numpy array with the attribute .values: ```seried.values```). \n"
      ]
    },
    {
      "cell_type": "code",
      "metadata": {
        "ExecuteTime": {
          "end_time": "2019-09-09T01:40:29.303435Z",
          "start_time": "2019-09-09T01:40:29.298440Z"
        },
        "id": "RCJozUPPhXsu",
        "colab_type": "code",
        "colab": {}
      },
      "source": [
        "#your code here\n",
        "timeDifference = diff(eqGoodData['datetime'].values)\n",
        "eqGoodData = eqGoodData[:-1] \n",
        "eqGoodData['timeDifference'] = timeDifference.astype('int64')   #time difference is nanoseconds"
      ],
      "execution_count": 0,
      "outputs": []
    },
    {
      "cell_type": "code",
      "metadata": {
        "id": "a6f-j9ThoMUC",
        "colab_type": "code",
        "outputId": "2e520eb2-1592-46a1-dd5c-be63f8392d4e",
        "colab": {
          "base_uri": "https://localhost:8080/",
          "height": 34
        }
      },
      "source": [
        "eqGoodData.shape"
      ],
      "execution_count": 301,
      "outputs": [
        {
          "output_type": "execute_result",
          "data": {
            "text/plain": [
              "(18851, 6)"
            ]
          },
          "metadata": {
            "tags": []
          },
          "execution_count": 301
        }
      ]
    },
    {
      "cell_type": "code",
      "metadata": {
        "id": "BavypriTXcUV",
        "colab_type": "code",
        "outputId": "06bfa0d5-50eb-4268-e95f-908d94dbd69d",
        "colab": {
          "base_uri": "https://localhost:8080/",
          "height": 204
        }
      },
      "source": [
        "eqGoodData.head()"
      ],
      "execution_count": 302,
      "outputs": [
        {
          "output_type": "execute_result",
          "data": {
            "text/html": [
              "<div>\n",
              "<style scoped>\n",
              "    .dataframe tbody tr th:only-of-type {\n",
              "        vertical-align: middle;\n",
              "    }\n",
              "\n",
              "    .dataframe tbody tr th {\n",
              "        vertical-align: top;\n",
              "    }\n",
              "\n",
              "    .dataframe thead th {\n",
              "        text-align: right;\n",
              "    }\n",
              "</style>\n",
              "<table border=\"1\" class=\"dataframe\">\n",
              "  <thead>\n",
              "    <tr style=\"text-align: right;\">\n",
              "      <th></th>\n",
              "      <th>date</th>\n",
              "      <th>time</th>\n",
              "      <th>magnitude</th>\n",
              "      <th>datetime</th>\n",
              "      <th>good_dates</th>\n",
              "      <th>timeDifference</th>\n",
              "    </tr>\n",
              "  </thead>\n",
              "  <tbody>\n",
              "    <tr>\n",
              "      <th>0</th>\n",
              "      <td>1984/01/01</td>\n",
              "      <td>01:30:57.52</td>\n",
              "      <td>2.02</td>\n",
              "      <td>1984-01-01 01:30:57.520</td>\n",
              "      <td>True</td>\n",
              "      <td>14436640000000</td>\n",
              "    </tr>\n",
              "    <tr>\n",
              "      <th>1</th>\n",
              "      <td>1984/01/01</td>\n",
              "      <td>05:31:34.16</td>\n",
              "      <td>2.12</td>\n",
              "      <td>1984-01-01 05:31:34.160</td>\n",
              "      <td>True</td>\n",
              "      <td>5250980000000</td>\n",
              "    </tr>\n",
              "    <tr>\n",
              "      <th>2</th>\n",
              "      <td>1984/01/01</td>\n",
              "      <td>06:59:05.14</td>\n",
              "      <td>2.43</td>\n",
              "      <td>1984-01-01 06:59:05.140</td>\n",
              "      <td>True</td>\n",
              "      <td>15080150000000</td>\n",
              "    </tr>\n",
              "    <tr>\n",
              "      <th>3</th>\n",
              "      <td>1984/01/01</td>\n",
              "      <td>11:10:25.29</td>\n",
              "      <td>2.07</td>\n",
              "      <td>1984-01-01 11:10:25.290</td>\n",
              "      <td>True</td>\n",
              "      <td>30474500000000</td>\n",
              "    </tr>\n",
              "    <tr>\n",
              "      <th>4</th>\n",
              "      <td>1984/01/01</td>\n",
              "      <td>19:38:19.79</td>\n",
              "      <td>2.13</td>\n",
              "      <td>1984-01-01 19:38:19.790</td>\n",
              "      <td>True</td>\n",
              "      <td>59880000000</td>\n",
              "    </tr>\n",
              "  </tbody>\n",
              "</table>\n",
              "</div>"
            ],
            "text/plain": [
              "         date         time  ...  good_dates  timeDifference\n",
              "0  1984/01/01  01:30:57.52  ...        True  14436640000000\n",
              "1  1984/01/01  05:31:34.16  ...        True   5250980000000\n",
              "2  1984/01/01  06:59:05.14  ...        True  15080150000000\n",
              "3  1984/01/01  11:10:25.29  ...        True  30474500000000\n",
              "4  1984/01/01  19:38:19.79  ...        True     59880000000\n",
              "\n",
              "[5 rows x 6 columns]"
            ]
          },
          "metadata": {
            "tags": []
          },
          "execution_count": 302
        }
      ]
    },
    {
      "cell_type": "code",
      "metadata": {
        "id": "pC2aJCuVXfM3",
        "colab_type": "code",
        "outputId": "ce97ea30-a816-4e53-f850-c9d1f564f29e",
        "colab": {
          "base_uri": "https://localhost:8080/",
          "height": 297
        }
      },
      "source": [
        "eqGoodData.describe()"
      ],
      "execution_count": 303,
      "outputs": [
        {
          "output_type": "execute_result",
          "data": {
            "text/html": [
              "<div>\n",
              "<style scoped>\n",
              "    .dataframe tbody tr th:only-of-type {\n",
              "        vertical-align: middle;\n",
              "    }\n",
              "\n",
              "    .dataframe tbody tr th {\n",
              "        vertical-align: top;\n",
              "    }\n",
              "\n",
              "    .dataframe thead th {\n",
              "        text-align: right;\n",
              "    }\n",
              "</style>\n",
              "<table border=\"1\" class=\"dataframe\">\n",
              "  <thead>\n",
              "    <tr style=\"text-align: right;\">\n",
              "      <th></th>\n",
              "      <th>magnitude</th>\n",
              "      <th>timeDifference</th>\n",
              "    </tr>\n",
              "  </thead>\n",
              "  <tbody>\n",
              "    <tr>\n",
              "      <th>count</th>\n",
              "      <td>18851.000000</td>\n",
              "      <td>1.885100e+04</td>\n",
              "    </tr>\n",
              "    <tr>\n",
              "      <th>mean</th>\n",
              "      <td>2.399507</td>\n",
              "      <td>3.180324e+13</td>\n",
              "    </tr>\n",
              "    <tr>\n",
              "      <th>std</th>\n",
              "      <td>0.392439</td>\n",
              "      <td>1.103955e+15</td>\n",
              "    </tr>\n",
              "    <tr>\n",
              "      <th>min</th>\n",
              "      <td>2.000000</td>\n",
              "      <td>1.700000e+08</td>\n",
              "    </tr>\n",
              "    <tr>\n",
              "      <th>25%</th>\n",
              "      <td>2.110000</td>\n",
              "      <td>2.737220e+12</td>\n",
              "    </tr>\n",
              "    <tr>\n",
              "      <th>50%</th>\n",
              "      <td>2.290000</td>\n",
              "      <td>8.947620e+12</td>\n",
              "    </tr>\n",
              "    <tr>\n",
              "      <th>75%</th>\n",
              "      <td>2.570000</td>\n",
              "      <td>2.133972e+13</td>\n",
              "    </tr>\n",
              "    <tr>\n",
              "      <th>max</th>\n",
              "      <td>5.800000</td>\n",
              "      <td>1.199632e+17</td>\n",
              "    </tr>\n",
              "  </tbody>\n",
              "</table>\n",
              "</div>"
            ],
            "text/plain": [
              "          magnitude  timeDifference\n",
              "count  18851.000000    1.885100e+04\n",
              "mean       2.399507    3.180324e+13\n",
              "std        0.392439    1.103955e+15\n",
              "min        2.000000    1.700000e+08\n",
              "25%        2.110000    2.737220e+12\n",
              "50%        2.290000    8.947620e+12\n",
              "75%        2.570000    2.133972e+13\n",
              "max        5.800000    1.199632e+17"
            ]
          },
          "metadata": {
            "tags": []
          },
          "execution_count": 303
        }
      ]
    },
    {
      "cell_type": "markdown",
      "metadata": {
        "id": "wWmOXVyKhO9W",
        "colab_type": "text"
      },
      "source": [
        "Note that the first entry will be NaT which is Not a Time (corresponding to nan for numerical variables) or maybe a negative number (depends on your exact operations above). You should remove it"
      ]
    },
    {
      "cell_type": "code",
      "metadata": {
        "id": "zqOLrvyc0_dL",
        "colab_type": "code",
        "colab": {}
      },
      "source": [
        "# your code here\n",
        "\n",
        "#Already did that in the above code"
      ],
      "execution_count": 0,
      "outputs": []
    },
    {
      "cell_type": "code",
      "metadata": {
        "id": "kDvKNHD7X1M8",
        "colab_type": "code",
        "outputId": "2bc45041-7db4-4521-d8ea-8f039d808427",
        "colab": {
          "base_uri": "https://localhost:8080/",
          "height": 204
        }
      },
      "source": [
        "eqGoodData.head()"
      ],
      "execution_count": 305,
      "outputs": [
        {
          "output_type": "execute_result",
          "data": {
            "text/html": [
              "<div>\n",
              "<style scoped>\n",
              "    .dataframe tbody tr th:only-of-type {\n",
              "        vertical-align: middle;\n",
              "    }\n",
              "\n",
              "    .dataframe tbody tr th {\n",
              "        vertical-align: top;\n",
              "    }\n",
              "\n",
              "    .dataframe thead th {\n",
              "        text-align: right;\n",
              "    }\n",
              "</style>\n",
              "<table border=\"1\" class=\"dataframe\">\n",
              "  <thead>\n",
              "    <tr style=\"text-align: right;\">\n",
              "      <th></th>\n",
              "      <th>date</th>\n",
              "      <th>time</th>\n",
              "      <th>magnitude</th>\n",
              "      <th>datetime</th>\n",
              "      <th>good_dates</th>\n",
              "      <th>timeDifference</th>\n",
              "    </tr>\n",
              "  </thead>\n",
              "  <tbody>\n",
              "    <tr>\n",
              "      <th>0</th>\n",
              "      <td>1984/01/01</td>\n",
              "      <td>01:30:57.52</td>\n",
              "      <td>2.02</td>\n",
              "      <td>1984-01-01 01:30:57.520</td>\n",
              "      <td>True</td>\n",
              "      <td>14436640000000</td>\n",
              "    </tr>\n",
              "    <tr>\n",
              "      <th>1</th>\n",
              "      <td>1984/01/01</td>\n",
              "      <td>05:31:34.16</td>\n",
              "      <td>2.12</td>\n",
              "      <td>1984-01-01 05:31:34.160</td>\n",
              "      <td>True</td>\n",
              "      <td>5250980000000</td>\n",
              "    </tr>\n",
              "    <tr>\n",
              "      <th>2</th>\n",
              "      <td>1984/01/01</td>\n",
              "      <td>06:59:05.14</td>\n",
              "      <td>2.43</td>\n",
              "      <td>1984-01-01 06:59:05.140</td>\n",
              "      <td>True</td>\n",
              "      <td>15080150000000</td>\n",
              "    </tr>\n",
              "    <tr>\n",
              "      <th>3</th>\n",
              "      <td>1984/01/01</td>\n",
              "      <td>11:10:25.29</td>\n",
              "      <td>2.07</td>\n",
              "      <td>1984-01-01 11:10:25.290</td>\n",
              "      <td>True</td>\n",
              "      <td>30474500000000</td>\n",
              "    </tr>\n",
              "    <tr>\n",
              "      <th>4</th>\n",
              "      <td>1984/01/01</td>\n",
              "      <td>19:38:19.79</td>\n",
              "      <td>2.13</td>\n",
              "      <td>1984-01-01 19:38:19.790</td>\n",
              "      <td>True</td>\n",
              "      <td>59880000000</td>\n",
              "    </tr>\n",
              "  </tbody>\n",
              "</table>\n",
              "</div>"
            ],
            "text/plain": [
              "         date         time  ...  good_dates  timeDifference\n",
              "0  1984/01/01  01:30:57.52  ...        True  14436640000000\n",
              "1  1984/01/01  05:31:34.16  ...        True   5250980000000\n",
              "2  1984/01/01  06:59:05.14  ...        True  15080150000000\n",
              "3  1984/01/01  11:10:25.29  ...        True  30474500000000\n",
              "4  1984/01/01  19:38:19.79  ...        True     59880000000\n",
              "\n",
              "[5 rows x 6 columns]"
            ]
          },
          "metadata": {
            "tags": []
          },
          "execution_count": 305
        }
      ]
    },
    {
      "cell_type": "markdown",
      "metadata": {
        "id": "M2VH6Q4xhXsw",
        "colab_type": "text"
      },
      "source": [
        "# data exploration\n",
        "At this point you should wonder if this is the final dataset that you want to use and if anything is weird or suspicious about it. Visualize the distribution. A good way to visualize distributions is a histogram which you can prodice with pl.hist() or as a method of your dataframe series as ```df[SeriesName].plot(kind=\"hist\")```. Produce a plot like the one below (label the axis! and describe it with a caption!). To get the logarithmic y axis you can se ```logy=True```, for example. in your ```df[SeriesName].plot``` call."
      ]
    },
    {
      "cell_type": "code",
      "metadata": {
        "id": "iDiscxU4XDwg",
        "colab_type": "code",
        "outputId": "94d44c02-cbd1-45eb-e2b9-d8f027935be5",
        "colab": {
          "base_uri": "https://localhost:8080/",
          "height": 360
        }
      },
      "source": [
        "pl.hist(eqGoodData['timeDifference'], log = True)\n",
        "pl.xlabel('Time Gaps (nanoseconds)')\n",
        "pl.ylabel('Frequency')\n",
        "pl.title('Histogram of the Frequency of Time Gaps')"
      ],
      "execution_count": 314,
      "outputs": [
        {
          "output_type": "execute_result",
          "data": {
            "text/plain": [
              "Text(0.5, 1.0, 'Histogram of the Frequency of Time Gaps')"
            ]
          },
          "metadata": {
            "tags": []
          },
          "execution_count": 314
        },
        {
          "output_type": "stream",
          "text": [
            "/usr/local/lib/python3.6/dist-packages/matplotlib/font_manager.py:1241: UserWarning: findfont: Font family ['[\"sans-serif\"]'] not found. Falling back to DejaVu Sans.\n",
            "  (prop.get_family(), self.defaultFamily[fontext]))\n"
          ],
          "name": "stderr"
        },
        {
          "output_type": "display_data",
          "data": {
            "image/png": "[encoded data removed]",
            "text/plain": [
              "<Figure size 432x288 with 1 Axes>"
            ]
          },
          "metadata": {
            "tags": []
          }
        }
      ]
    },
    {
      "cell_type": "markdown",
      "metadata": {
        "id": "kFEF8hwF5WLI",
        "colab_type": "text"
      },
      "source": [
        "Figure 1: This a Histogram showing the frequencies of time gaps between earthquakes. Note the large gaps inbetween the bars."
      ]
    },
    {
      "cell_type": "markdown",
      "metadata": {
        "id": "nuPhJkrozh91",
        "colab_type": "text"
      },
      "source": [
        "The thing that worries me is that by removing some sections of the data to use only stationary periods we created some artificially large gaps: gaps of order ~month. How many nanoseconds in a month? remove all gaps that are larger than about a month and see how the distribution looks (make another histogram)."
      ]
    },
    {
      "cell_type": "code",
      "metadata": {
        "id": "0zuGOkWhzhDu",
        "colab_type": "code",
        "colab": {}
      },
      "source": [
        "# your code here \n",
        "monthTime = 2.628e+15 #number of nanoseconds in a month\n",
        "eqFinalData = eqGoodData[eqGoodData['timeDifference'] <= monthTime]"
      ],
      "execution_count": 0,
      "outputs": []
    },
    {
      "cell_type": "code",
      "metadata": {
        "id": "GOLdmrTB4HZ1",
        "colab_type": "code",
        "colab": {
          "base_uri": "https://localhost:8080/",
          "height": 34
        },
        "outputId": "c35b28f3-ecf2-422e-8893-0f4466d1fad4"
      },
      "source": [
        "eqFinalData.shape"
      ],
      "execution_count": 316,
      "outputs": [
        {
          "output_type": "execute_result",
          "data": {
            "text/plain": [
              "(18841, 6)"
            ]
          },
          "metadata": {
            "tags": []
          },
          "execution_count": 316
        }
      ]
    },
    {
      "cell_type": "code",
      "metadata": {
        "id": "uXe9a10D4QQ_",
        "colab_type": "code",
        "colab": {
          "base_uri": "https://localhost:8080/",
          "height": 323
        },
        "outputId": "9bc6604d-f6e5-4650-c3f0-3aea825026e0"
      },
      "source": [
        "pl.hist(eqFinalData['timeDifference'], log = True)\n",
        "pl.xlabel('Time Gaps (nanoseconds)')\n",
        "pl.ylabel('Frequency')\n",
        "pl.title('Histogram of the Frequency of Time Gaps after Data removal')"
      ],
      "execution_count": 318,
      "outputs": [
        {
          "output_type": "execute_result",
          "data": {
            "text/plain": [
              "Text(0.5, 1.0, 'Histogram of the Frequency of Time Gaps after Data removal')"
            ]
          },
          "metadata": {
            "tags": []
          },
          "execution_count": 318
        },
        {
          "output_type": "display_data",
          "data": {
            "image/png": "[encoded data removed]",
            "text/plain": [
              "<Figure size 432x288 with 1 Axes>"
            ]
          },
          "metadata": {
            "tags": []
          }
        }
      ]
    },
    {
      "cell_type": "markdown",
      "metadata": {
        "id": "UKQLTqxX5rs5",
        "colab_type": "text"
      },
      "source": [
        "Figure 2: This a Histogram showing the frequencies of time gaps between earthquakes after time gaps larger than a month have been removed. The large gaps inbetween the bars are now gone."
      ]
    },
    {
      "cell_type": "markdown",
      "metadata": {
        "id": "gn-HuVevYOo7",
        "colab_type": "text"
      },
      "source": [
        "# data analysis"
      ]
    },
    {
      "cell_type": "markdown",
      "metadata": {
        "id": "Q2xYwKRB2sx9",
        "colab_type": "text"
      },
      "source": [
        "### important: the paper does not do it but I want you to formally choose a threshold before you do this test. Choose a p-value (=$\\alpha$ thresold: call your variable ```alpha```) of 3-$\\sigma$."
      ]
    },
    {
      "cell_type": "markdown",
      "metadata": {
        "id": "pt5MAQEZhXsz",
        "colab_type": "text"
      },
      "source": [
        "Follow the instructions (algorithm) in **Section 3 paragraph 3** and compare your results with the results in table 1 with a threshold  of = 0.01 and 0.001\n",
        "\n",
        "Do it for all 5 magnitude thresholds as indicated in the paper (and in Table 1).\n",
        "\n",
        "Note that the x axis in plot Fig 1 is in _log space_. Use ```np.log10()``` to take the logarithm of the time gaps.\n",
        "\n",
        "The pseudocode for the algorithm is [here](https://github.com/fedhere/DSPS/blob/master/HW3/Corral2018_pseudocode.md).\n"
      ]
    },
    {
      "cell_type": "markdown",
      "metadata": {
        "id": "gXWK4x4FhXs1",
        "colab_type": "text"
      },
      "source": [
        "Reproduce the paper Fig 1 and Table 1. In the Table report the size of each dataset after cleaning the value of the statistic and the p-value, as done in Corral 2018. Use the scipy function for the 2 sample KS test. (resources [here](https://colab.research.google.com/notebooks/markdown_guide.ipynb#scrollTo=70pYkR9LiOV0) to learn about the table syntax in markdown)"
      ]
    },
    {
      "cell_type": "code",
      "metadata": {
        "ExecuteTime": {
          "end_time": "2019-09-09T01:51:40.043756Z",
          "start_time": "2019-09-09T01:51:39.866325Z"
        },
        "id": "BNtqqaXphXs2",
        "colab_type": "code",
        "outputId": "8463eaa5-c6c7-4160-a754-25df0bce97ca",
        "colab": {
          "base_uri": "https://localhost:8080/",
          "height": 1000
        }
      },
      "source": [
        "# your code here\n",
        "#Time gaps of the samples:\n",
        "#Mk sample 1\n",
        "#Ml sample 2\n",
        "\n",
        "for threshold in [0.001, 0.01]:\n",
        "  for Mk in [2.0, 2.5, 3.0, 3.5, 4.0]:\n",
        "    for Ml in [2.0, 2.5, 3.0, 3.5, 4.0]:\n",
        "      if (Mk >= Ml):\n",
        "        continue\n",
        "          \n",
        "      x_Mk = eqFinalData[eqFinalData['magnitude'] >= Mk]\n",
        "      x_Ml = eqFinalData[eqFinalData['magnitude'] >= Ml]\n",
        "    \n",
        "      for i in [1,2]:\n",
        "        Rk = 1 / (x_Mk['timeDifference'].mean()) #scaling factor for Mk\n",
        "        x_Mk = x_Mk[x_Mk['timeDifference'] * Rk > threshold]\n",
        "        x_Mk['timeDifference'] = x_Mk['timeDifference'] * Rk\n",
        "      \n",
        "        Rl = 1 / (x_Ml['timeDifference'].mean()) #scaling factor for Ml\n",
        "        x_Ml = x_Ml[x_Ml['timeDifference'] * Rl > threshold]\n",
        "        x_Ml['timeDifference'] = x_Ml['timeDifference'] * Rl\n",
        "      \n",
        "      #Check if they are around 1 \n",
        "      #print(Rk) \n",
        "      #print('--')\n",
        "      #print(Rl)\n",
        "    \n",
        "      D, p = sp.stats.ks_2samp(x_Mk['timeDifference'], x_Ml['timeDifference'])  \n",
        "      #D is the KS test statistic, p is the p-value\n",
        "      print('Threshold: ' , threshold)\n",
        "      print('For Ml = ' + str(Ml) + ' and Mk = ' + str(Mk) + ':')\n",
        "      print('KS test statistic: '+ str(D))\n",
        "      print('p-value: ' + str(p))\n",
        "      print('')\n",
        "  "
      ],
      "execution_count": 342,
      "outputs": [
        {
          "output_type": "stream",
          "text": [
            "Threshold:  0.001\n",
            "For Ml = 2.5 and Mk = 2.0:\n",
            "KS test statistic: 0.03451460146065774\n",
            "p-value: 6.14087920217194e-05\n",
            "\n",
            "Threshold:  0.001\n",
            "For Ml = 3.0 and Mk = 2.0:\n",
            "KS test statistic: 0.09817695652742489\n",
            "p-value: 9.3266914665764e-12\n",
            "\n",
            "Threshold:  0.001\n",
            "For Ml = 3.5 and Mk = 2.0:\n",
            "KS test statistic: 0.17979430001287924\n",
            "p-value: 3.795120979499433e-12\n",
            "\n",
            "Threshold:  0.001\n",
            "For Ml = 4.0 and Mk = 2.0:\n",
            "KS test statistic: 0.2844877344877345\n",
            "p-value: 8.29959517730918e-09\n",
            "\n",
            "Threshold:  0.001\n",
            "For Ml = 3.0 and Mk = 2.5:\n",
            "KS test statistic: 0.06480275047415839\n",
            "p-value: 1.0\n",
            "\n",
            "Threshold:  0.001\n",
            "For Ml = 3.5 and Mk = 2.5:\n",
            "KS test statistic: 0.14760975461105466\n",
            "p-value: 6.085275377233555e-08\n",
            "\n",
            "Threshold:  0.001\n",
            "For Ml = 4.0 and Mk = 2.5:\n",
            "KS test statistic: 0.2524793388429752\n",
            "p-value: 4.3413130668135125e-07\n",
            "\n",
            "Threshold:  0.001\n",
            "For Ml = 3.5 and Mk = 3.0:\n",
            "KS test statistic: 0.08998656485706902\n",
            "p-value: 0.008813618762499309\n",
            "\n",
            "Threshold:  0.001\n",
            "For Ml = 4.0 and Mk = 3.0:\n",
            "KS test statistic: 0.1942769019876628\n",
            "p-value: 0.0003838865894102428\n",
            "\n",
            "Threshold:  0.001\n",
            "For Ml = 4.0 and Mk = 3.5:\n",
            "KS test statistic: 0.11908665105386416\n",
            "p-value: 0.1276523996249056\n",
            "\n",
            "Threshold:  0.01\n",
            "For Ml = 2.5 and Mk = 2.0:\n",
            "KS test statistic: 0.028709896622105824\n",
            "p-value: 0.0021686479930388743\n",
            "\n",
            "Threshold:  0.01\n",
            "For Ml = 3.0 and Mk = 2.0:\n",
            "KS test statistic: 0.08074890917715186\n",
            "p-value: 1.5143987383371272e-07\n",
            "\n",
            "Threshold:  0.01\n",
            "For Ml = 3.5 and Mk = 2.0:\n",
            "KS test statistic: 0.16305781798146296\n",
            "p-value: 2.6276215577812e-09\n",
            "\n",
            "Threshold:  0.01\n",
            "For Ml = 4.0 and Mk = 2.0:\n",
            "KS test statistic: 0.30878781126399646\n",
            "p-value: 2.6831181265848877e-10\n",
            "\n",
            "Threshold:  0.01\n",
            "For Ml = 3.0 and Mk = 2.5:\n",
            "KS test statistic: 0.05583254646723687\n",
            "p-value: 1.0\n",
            "\n",
            "Threshold:  0.01\n",
            "For Ml = 3.5 and Mk = 2.5:\n",
            "KS test statistic: 0.13811646220147397\n",
            "p-value: 1.475699802244712e-06\n",
            "\n",
            "Threshold:  0.01\n",
            "For Ml = 4.0 and Mk = 2.5:\n",
            "KS test statistic: 0.28288903337667964\n",
            "p-value: 8.407020635203821e-09\n",
            "\n",
            "Threshold:  0.01\n",
            "For Ml = 3.5 and Mk = 3.0:\n",
            "KS test statistic: 0.09257419034283391\n",
            "p-value: 0.010017258998118006\n",
            "\n",
            "Threshold:  0.01\n",
            "For Ml = 4.0 and Mk = 3.0:\n",
            "KS test statistic: 0.2341715976331361\n",
            "p-value: 8.485008972547448e-06\n",
            "\n",
            "Threshold:  0.01\n",
            "For Ml = 4.0 and Mk = 3.5:\n",
            "KS test statistic: 0.16138676844783714\n",
            "p-value: 0.014485409353850898\n",
            "\n"
          ],
          "name": "stdout"
        }
      ]
    },
    {
      "cell_type": "markdown",
      "metadata": {
        "id": "O0A6oyp9jSos",
        "colab_type": "text"
      },
      "source": [
        "your table here"
      ]
    },
    {
      "cell_type": "markdown",
      "metadata": {
        "id": "6y4wb6lEZsGV",
        "colab_type": "text"
      },
      "source": [
        "Did you find any statistical significant differences between the distributions? What does it mean? Is your result identical to Correll's 2018? Why or why not? **Discuss!**"
      ]
    },
    {
      "cell_type": "markdown",
      "metadata": {
        "id": "8bQwtZi4Z0pi",
        "colab_type": "text"
      },
      "source": [
        "### 667 students ( or extra credits)\n",
        "\n",
        "Organize your result for different magnitude threshold in a numpy array (it should be a 5x5 array) for both cutoffs (0.01 and 0.001). Each of these arrays should contain the p-value for the pair of distributions i,j in cell \\[i\\]\\[j\\] and \\[j\\]\\[i\\]. Use ```imshow``` to visualize this 2D data. FIrst visualize the matrix itself as done below."
      ]
    },
    {
      "cell_type": "code",
      "metadata": {
        "ExecuteTime": {
          "end_time": "2019-09-09T02:02:18.672458Z",
          "start_time": "2019-09-09T02:02:18.553137Z"
        },
        "id": "mqQSdpVEhXs5",
        "colab_type": "code",
        "outputId": "f96c6ec6-fc87-4e8a-8021-f77ec5ce5060",
        "colab": {
          "base_uri": "https://localhost:8080/",
          "height": 232
        }
      },
      "source": [
        "# your code here\n",
        "        \n",
        "pl.imshow((ks_001));\n",
        "pl.axis('off')\n",
        "cb = pl.colorbar()\n",
        "cb.ax.set_ylabel(r'$p$-value')\n",
        "pl.title(\"KS test results\");\n",
        "#add a caption"
      ],
      "execution_count": 309,
      "outputs": [
        {
          "output_type": "error",
          "ename": "NameError",
          "evalue": "ignored",
          "traceback": [
            "\u001b[0;31m---------------------------------------------------------------------------\u001b[0m",
            "\u001b[0;31mNameError\u001b[0m                                 Traceback (most recent call last)",
            "\u001b[0;32m<ipython-input-309-dc48544d7f6d>\u001b[0m in \u001b[0;36m<module>\u001b[0;34m()\u001b[0m\n\u001b[1;32m      1\u001b[0m \u001b[0;34m\u001b[0m\u001b[0m\n\u001b[0;32m----> 2\u001b[0;31m \u001b[0mpl\u001b[0m\u001b[0;34m.\u001b[0m\u001b[0mimshow\u001b[0m\u001b[0;34m(\u001b[0m\u001b[0;34m(\u001b[0m\u001b[0mks_001\u001b[0m\u001b[0;34m)\u001b[0m\u001b[0;34m)\u001b[0m\u001b[0;34m;\u001b[0m\u001b[0;34m\u001b[0m\u001b[0;34m\u001b[0m\u001b[0m\n\u001b[0m\u001b[1;32m      3\u001b[0m \u001b[0mpl\u001b[0m\u001b[0;34m.\u001b[0m\u001b[0maxis\u001b[0m\u001b[0;34m(\u001b[0m\u001b[0;34m'off'\u001b[0m\u001b[0;34m)\u001b[0m\u001b[0;34m\u001b[0m\u001b[0;34m\u001b[0m\u001b[0m\n\u001b[1;32m      4\u001b[0m \u001b[0mcb\u001b[0m \u001b[0;34m=\u001b[0m \u001b[0mpl\u001b[0m\u001b[0;34m.\u001b[0m\u001b[0mcolorbar\u001b[0m\u001b[0;34m(\u001b[0m\u001b[0;34m)\u001b[0m\u001b[0;34m\u001b[0m\u001b[0;34m\u001b[0m\u001b[0m\n\u001b[1;32m      5\u001b[0m \u001b[0mcb\u001b[0m\u001b[0;34m.\u001b[0m\u001b[0max\u001b[0m\u001b[0;34m.\u001b[0m\u001b[0mset_ylabel\u001b[0m\u001b[0;34m(\u001b[0m\u001b[0;34mr'$p$-value'\u001b[0m\u001b[0;34m)\u001b[0m\u001b[0;34m\u001b[0m\u001b[0;34m\u001b[0m\u001b[0m\n",
            "\u001b[0;31mNameError\u001b[0m: name 'ks_001' is not defined"
          ]
        }
      ]
    },
    {
      "cell_type": "markdown",
      "metadata": {
        "id": "tSJmSMCmmA3w",
        "colab_type": "text"
      },
      "source": [
        "\n",
        "Now visualize the result as a matrix where the cells are white if the results is not statistically significant and red otherwise. \n",
        "After doing it fot the set alpha threshold, lower your alpha threshold so that at least one pair of distribution has a statistically significant difference. **Warning!! this is an unethocal horrifying practice! Once you chose your significance threshold you are never allowed to change it! Why? Discuss**"
      ]
    },
    {
      "cell_type": "markdown",
      "metadata": {
        "id": "txEYubwCcIXP",
        "colab_type": "text"
      },
      "source": [
        "Redoing it for threshold 0001"
      ]
    }
  ]
}