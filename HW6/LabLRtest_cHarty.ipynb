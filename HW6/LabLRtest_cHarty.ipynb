{
  "nbformat": 4,
  "nbformat_minor": 0,
  "metadata": {
    "kernelspec": {
      "display_name": "Python 3",
      "language": "python",
      "name": "python3"
    },
    "language_info": {
      "codemirror_mode": {
        "name": "ipython",
        "version": 3
      },
      "file_extension": ".py",
      "mimetype": "text/x-python",
      "name": "python",
      "nbconvert_exporter": "python",
      "pygments_lexer": "ipython3",
      "version": "3.7.3"
    },
    "latex_envs": {
      "LaTeX_envs_menu_present": true,
      "autoclose": false,
      "autocomplete": true,
      "bibliofile": "biblio.bib",
      "cite_by": "apalike",
      "current_citInitial": 1,
      "eqLabelWithNumbers": true,
      "eqNumInitial": 1,
      "hotkeys": {
        "equation": "Ctrl-E",
        "itemize": "Ctrl-I"
      },
      "labels_anchors": false,
      "latex_user_defs": false,
      "report_style_numbering": false,
      "user_envs_cfg": false
    },
    "nbTranslate": {
      "displayLangs": [
        "*"
      ],
      "hotkey": "alt-t",
      "langInMainMenu": true,
      "sourceLang": "en",
      "targetLang": "fr",
      "useGoogleTranslate": true
    },
    "toc": {
      "base_numbering": 1,
      "nav_menu": {},
      "number_sections": true,
      "sideBar": true,
      "skip_h1_title": false,
      "title_cell": "Table of Contents",
      "title_sidebar": "Contents",
      "toc_cell": false,
      "toc_position": {},
      "toc_section_display": true,
      "toc_window_display": false
    },
    "colab": {
      "name": "LabLRtest_cHarty.ipynb",
      "provenance": [],
      "collapsed_sections": [],
      "include_colab_link": true
    }
  },
  "cells": [
    {
      "cell_type": "markdown",
      "metadata": {
        "id": "view-in-github",
        "colab_type": "text"
      },
      "source": [
        "<a href=\"https://colab.research.google.com/github/cath19/DSPS_cHarty/blob/master/HW6/LabLRtest_cHarty.ipynb\" target=\"_parent\"><img src=\"https://colab.research.google.com/assets/colab-badge.svg\" alt=\"Open In Colab\"/></a>"
      ]
    },
    {
      "cell_type": "markdown",
      "metadata": {
        "id": "BWkwcpsoS69Q",
        "colab_type": "text"
      },
      "source": [
        "Catherine Harty\n",
        "\n",
        "PHYS467\n",
        "\n",
        "Lab 7"
      ]
    },
    {
      "cell_type": "code",
      "metadata": {
        "ExecuteTime": {
          "end_time": "2019-10-16T17:44:08.195190Z",
          "start_time": "2019-10-16T17:44:08.012595Z"
        },
        "id": "xPZFbwBKI1og",
        "colab_type": "code",
        "outputId": "f34090d6-566e-4280-80d3-ede2d34de470",
        "colab": {
          "base_uri": "https://localhost:8080/",
          "height": 34
        }
      },
      "source": [
        "from __future__ import division\n",
        "import pandas as pd\n",
        "import pylab as pl\n",
        "%pylab inline\n"
      ],
      "execution_count": 0,
      "outputs": [
        {
          "output_type": "stream",
          "text": [
            "Populating the interactive namespace from numpy and matplotlib\n"
          ],
          "name": "stdout"
        }
      ]
    },
    {
      "cell_type": "markdown",
      "metadata": {
        "id": "vYVTpz4II1ok",
        "colab_type": "text"
      },
      "source": [
        "###### read in the data\n"
      ]
    },
    {
      "cell_type": "code",
      "metadata": {
        "ExecuteTime": {
          "end_time": "2019-10-16T17:44:09.129439Z",
          "start_time": "2019-10-16T17:44:09.097750Z"
        },
        "id": "tcWazmbgI1ol",
        "colab_type": "code",
        "outputId": "ff3338f1-844e-4ec9-b8f0-b22cff793062",
        "colab": {
          "base_uri": "https://localhost:8080/",
          "height": 224
        }
      },
      "source": [
        "jla = pd.read_csv(\"https://raw.githubusercontent.com/fedhere/DSPS/master/HW6/jla_likelihood_v6/data/jla_lcparams.txt\", \n",
        "                  sep=\" \")\n",
        "jla.head()"
      ],
      "execution_count": 0,
      "outputs": [
        {
          "output_type": "execute_result",
          "data": {
            "text/html": [
              "<div>\n",
              "<style scoped>\n",
              "    .dataframe tbody tr th:only-of-type {\n",
              "        vertical-align: middle;\n",
              "    }\n",
              "\n",
              "    .dataframe tbody tr th {\n",
              "        vertical-align: top;\n",
              "    }\n",
              "\n",
              "    .dataframe thead th {\n",
              "        text-align: right;\n",
              "    }\n",
              "</style>\n",
              "<table border=\"1\" class=\"dataframe\">\n",
              "  <thead>\n",
              "    <tr style=\"text-align: right;\">\n",
              "      <th></th>\n",
              "      <th>#name</th>\n",
              "      <th>zcmb</th>\n",
              "      <th>zhel</th>\n",
              "      <th>dz</th>\n",
              "      <th>mb</th>\n",
              "      <th>dmb</th>\n",
              "      <th>x1</th>\n",
              "      <th>dx1</th>\n",
              "      <th>color</th>\n",
              "      <th>dcolor</th>\n",
              "      <th>3rdvar</th>\n",
              "      <th>d3rdvar</th>\n",
              "      <th>tmax</th>\n",
              "      <th>dtmax</th>\n",
              "      <th>cov_m_s</th>\n",
              "      <th>cov_m_c</th>\n",
              "      <th>cov_s_c</th>\n",
              "      <th>set</th>\n",
              "      <th>ra</th>\n",
              "      <th>dec</th>\n",
              "      <th>biascor</th>\n",
              "    </tr>\n",
              "  </thead>\n",
              "  <tbody>\n",
              "    <tr>\n",
              "      <th>0</th>\n",
              "      <td>03D1au</td>\n",
              "      <td>0.503084</td>\n",
              "      <td>0.5043</td>\n",
              "      <td>0</td>\n",
              "      <td>23.001698</td>\n",
              "      <td>0.088031</td>\n",
              "      <td>1.273191</td>\n",
              "      <td>0.150058</td>\n",
              "      <td>-0.012353</td>\n",
              "      <td>0.030011</td>\n",
              "      <td>9.517</td>\n",
              "      <td>0.1105</td>\n",
              "      <td>52909.745220</td>\n",
              "      <td>0.214332</td>\n",
              "      <td>0.000790</td>\n",
              "      <td>0.000440</td>\n",
              "      <td>-0.000030</td>\n",
              "      <td>1</td>\n",
              "      <td>36.043210</td>\n",
              "      <td>-4.037469</td>\n",
              "      <td>0.001697</td>\n",
              "    </tr>\n",
              "    <tr>\n",
              "      <th>1</th>\n",
              "      <td>03D1aw</td>\n",
              "      <td>0.580724</td>\n",
              "      <td>0.5820</td>\n",
              "      <td>0</td>\n",
              "      <td>23.573937</td>\n",
              "      <td>0.090132</td>\n",
              "      <td>0.974346</td>\n",
              "      <td>0.273823</td>\n",
              "      <td>-0.025076</td>\n",
              "      <td>0.036691</td>\n",
              "      <td>9.169</td>\n",
              "      <td>0.0880</td>\n",
              "      <td>52902.898002</td>\n",
              "      <td>0.352732</td>\n",
              "      <td>0.002823</td>\n",
              "      <td>0.000415</td>\n",
              "      <td>0.001574</td>\n",
              "      <td>1</td>\n",
              "      <td>36.061634</td>\n",
              "      <td>-4.517158</td>\n",
              "      <td>0.000843</td>\n",
              "    </tr>\n",
              "    <tr>\n",
              "      <th>2</th>\n",
              "      <td>03D1ax</td>\n",
              "      <td>0.494795</td>\n",
              "      <td>0.4960</td>\n",
              "      <td>0</td>\n",
              "      <td>22.960139</td>\n",
              "      <td>0.088110</td>\n",
              "      <td>-0.728837</td>\n",
              "      <td>0.102069</td>\n",
              "      <td>-0.099683</td>\n",
              "      <td>0.030305</td>\n",
              "      <td>11.580</td>\n",
              "      <td>0.1125</td>\n",
              "      <td>52915.923670</td>\n",
              "      <td>0.111634</td>\n",
              "      <td>0.000542</td>\n",
              "      <td>0.000475</td>\n",
              "      <td>-0.000024</td>\n",
              "      <td>1</td>\n",
              "      <td>36.097287</td>\n",
              "      <td>-4.720774</td>\n",
              "      <td>0.001692</td>\n",
              "    </tr>\n",
              "    <tr>\n",
              "      <th>3</th>\n",
              "      <td>03D1bp</td>\n",
              "      <td>0.345928</td>\n",
              "      <td>0.3470</td>\n",
              "      <td>0</td>\n",
              "      <td>22.398137</td>\n",
              "      <td>0.087263</td>\n",
              "      <td>-1.155110</td>\n",
              "      <td>0.112834</td>\n",
              "      <td>-0.040581</td>\n",
              "      <td>0.026679</td>\n",
              "      <td>10.821</td>\n",
              "      <td>0.1235</td>\n",
              "      <td>52920.249015</td>\n",
              "      <td>0.102828</td>\n",
              "      <td>0.001114</td>\n",
              "      <td>0.000616</td>\n",
              "      <td>0.000295</td>\n",
              "      <td>1</td>\n",
              "      <td>36.657235</td>\n",
              "      <td>-4.838779</td>\n",
              "      <td>-0.000270</td>\n",
              "    </tr>\n",
              "    <tr>\n",
              "      <th>4</th>\n",
              "      <td>03D1co</td>\n",
              "      <td>0.677662</td>\n",
              "      <td>0.6790</td>\n",
              "      <td>0</td>\n",
              "      <td>24.078115</td>\n",
              "      <td>0.098356</td>\n",
              "      <td>0.618820</td>\n",
              "      <td>0.404295</td>\n",
              "      <td>-0.039380</td>\n",
              "      <td>0.067403</td>\n",
              "      <td>8.647</td>\n",
              "      <td>0.2840</td>\n",
              "      <td>52954.458342</td>\n",
              "      <td>0.454715</td>\n",
              "      <td>0.011857</td>\n",
              "      <td>0.000780</td>\n",
              "      <td>0.005898</td>\n",
              "      <td>1</td>\n",
              "      <td>36.567748</td>\n",
              "      <td>-4.935050</td>\n",
              "      <td>-0.002855</td>\n",
              "    </tr>\n",
              "  </tbody>\n",
              "</table>\n",
              "</div>"
            ],
            "text/plain": [
              "    #name      zcmb    zhel  dz  ...  set         ra       dec   biascor\n",
              "0  03D1au  0.503084  0.5043   0  ...    1  36.043210 -4.037469  0.001697\n",
              "1  03D1aw  0.580724  0.5820   0  ...    1  36.061634 -4.517158  0.000843\n",
              "2  03D1ax  0.494795  0.4960   0  ...    1  36.097287 -4.720774  0.001692\n",
              "3  03D1bp  0.345928  0.3470   0  ...    1  36.657235 -4.838779 -0.000270\n",
              "4  03D1co  0.677662  0.6790   0  ...    1  36.567748 -4.935050 -0.002855\n",
              "\n",
              "[5 rows x 21 columns]"
            ]
          },
          "metadata": {
            "tags": []
          },
          "execution_count": 2
        }
      ]
    },
    {
      "cell_type": "markdown",
      "metadata": {
        "ExecuteTime": {
          "end_time": "2019-10-16T17:52:28.929026Z",
          "start_time": "2019-10-16T17:52:28.927150Z"
        },
        "id": "CEgFA2QBI1op",
        "colab_type": "text"
      },
      "source": [
        "###### plot the data: always look at your data!\n"
      ]
    },
    {
      "cell_type": "code",
      "metadata": {
        "ExecuteTime": {
          "end_time": "2019-10-16T17:44:31.241836Z",
          "start_time": "2019-10-16T17:44:30.656957Z"
        },
        "id": "hQCqkgfsI1oq",
        "colab_type": "code",
        "outputId": "44a62a88-183d-4a7a-fe7f-a12065597e59",
        "colab": {
          "base_uri": "https://localhost:8080/",
          "height": 287
        }
      },
      "source": [
        "jla.plot.scatter(x=\"zcmb\", y=\"mb\", logx=True, yerr=\"dmb\", s=10);\n"
      ],
      "execution_count": 0,
      "outputs": [
        {
          "output_type": "display_data",
          "data": {
            "image/png": "[encoded data removed]",
            "text/plain": [
              "<Figure size 432x288 with 1 Axes>"
            ]
          },
          "metadata": {
            "tags": []
          }
        }
      ]
    },
    {
      "cell_type": "code",
      "metadata": {
        "ExecuteTime": {
          "end_time": "2019-10-16T17:45:46.268183Z",
          "start_time": "2019-10-16T17:45:45.217429Z"
        },
        "id": "I4y2Bg-XI1os",
        "colab_type": "code",
        "colab": {}
      },
      "source": [
        "# the statsmodels packages you will need - remember that you should move all imports to the top at the end\n",
        "\n",
        "import statsmodels.api as sm\n",
        "from statsmodels import graphics\n",
        "from statsmodels.formula import api as smf"
      ],
      "execution_count": 0,
      "outputs": []
    },
    {
      "cell_type": "code",
      "metadata": {
        "ExecuteTime": {
          "end_time": "2019-10-16T17:45:59.427792Z",
          "start_time": "2019-10-16T17:45:59.423221Z"
        },
        "id": "HSg3y_pBI1oy",
        "colab_type": "code",
        "colab": {}
      },
      "source": [
        "#create a log-variable feature in your datase for convenience\n",
        "jla['log10zcmb'] = np.log10(jla.zcmb)"
      ],
      "execution_count": 0,
      "outputs": []
    },
    {
      "cell_type": "markdown",
      "metadata": {
        "id": "iCzXcPidI1o6",
        "colab_type": "text"
      },
      "source": [
        "###### this is how we fit a line to data using the statsmodels \"formula\" methods\n",
        "ols stands for ordinary least square fit, which means you obtain the fit by minimizing the residuals"
      ]
    },
    {
      "cell_type": "code",
      "metadata": {
        "ExecuteTime": {
          "end_time": "2019-10-16T17:46:07.219464Z",
          "start_time": "2019-10-16T17:46:07.158257Z"
        },
        "id": "i4Gh8l72I1o8",
        "colab_type": "code",
        "outputId": "a14d4151-88e7-436a-dada-e62ccd049d39",
        "colab": {
          "base_uri": "https://localhost:8080/",
          "height": 444
        }
      },
      "source": [
        "smmodel = smf.ols('mb ~ log10zcmb', data=jla).fit()\n",
        "smmodel.summary()"
      ],
      "execution_count": 0,
      "outputs": [
        {
          "output_type": "execute_result",
          "data": {
            "text/html": [
              "<table class=\"simpletable\">\n",
              "<caption>OLS Regression Results</caption>\n",
              "<tr>\n",
              "  <th>Dep. Variable:</th>           <td>mb</td>        <th>  R-squared:         </th> <td>   0.988</td> \n",
              "</tr>\n",
              "<tr>\n",
              "  <th>Model:</th>                   <td>OLS</td>       <th>  Adj. R-squared:    </th> <td>   0.987</td> \n",
              "</tr>\n",
              "<tr>\n",
              "  <th>Method:</th>             <td>Least Squares</td>  <th>  F-statistic:       </th> <td>5.831e+04</td>\n",
              "</tr>\n",
              "<tr>\n",
              "  <th>Date:</th>             <td>Wed, 16 Oct 2019</td> <th>  Prob (F-statistic):</th>  <td>  0.00</td>  \n",
              "</tr>\n",
              "<tr>\n",
              "  <th>Time:</th>                 <td>19:56:14</td>     <th>  Log-Likelihood:    </th> <td> -150.73</td> \n",
              "</tr>\n",
              "<tr>\n",
              "  <th>No. Observations:</th>      <td>   740</td>      <th>  AIC:               </th> <td>   305.5</td> \n",
              "</tr>\n",
              "<tr>\n",
              "  <th>Df Residuals:</th>          <td>   738</td>      <th>  BIC:               </th> <td>   314.7</td> \n",
              "</tr>\n",
              "<tr>\n",
              "  <th>Df Model:</th>              <td>     1</td>      <th>                     </th>     <td> </td>    \n",
              "</tr>\n",
              "<tr>\n",
              "  <th>Covariance Type:</th>      <td>nonrobust</td>    <th>                     </th>     <td> </td>    \n",
              "</tr>\n",
              "</table>\n",
              "<table class=\"simpletable\">\n",
              "<tr>\n",
              "      <td></td>         <th>coef</th>     <th>std err</th>      <th>t</th>      <th>P>|t|</th>  <th>[0.025</th>    <th>0.975]</th>  \n",
              "</tr>\n",
              "<tr>\n",
              "  <th>Intercept</th> <td>   24.6562</td> <td>    0.019</td> <td> 1298.480</td> <td> 0.000</td> <td>   24.619</td> <td>   24.694</td>\n",
              "</tr>\n",
              "<tr>\n",
              "  <th>log10zcmb</th> <td>    5.3721</td> <td>    0.022</td> <td>  241.474</td> <td> 0.000</td> <td>    5.328</td> <td>    5.416</td>\n",
              "</tr>\n",
              "</table>\n",
              "<table class=\"simpletable\">\n",
              "<tr>\n",
              "  <th>Omnibus:</th>       <td>24.872</td> <th>  Durbin-Watson:     </th> <td>   1.828</td>\n",
              "</tr>\n",
              "<tr>\n",
              "  <th>Prob(Omnibus):</th> <td> 0.000</td> <th>  Jarque-Bera (JB):  </th> <td>  26.694</td>\n",
              "</tr>\n",
              "<tr>\n",
              "  <th>Skew:</th>          <td> 0.433</td> <th>  Prob(JB):          </th> <td>1.60e-06</td>\n",
              "</tr>\n",
              "<tr>\n",
              "  <th>Kurtosis:</th>      <td> 3.343</td> <th>  Cond. No.          </th> <td>    3.21</td>\n",
              "</tr>\n",
              "</table><br/><br/>Warnings:<br/>[1] Standard Errors assume that the covariance matrix of the errors is correctly specified."
            ],
            "text/plain": [
              "<class 'statsmodels.iolib.summary.Summary'>\n",
              "\"\"\"\n",
              "                            OLS Regression Results                            \n",
              "==============================================================================\n",
              "Dep. Variable:                     mb   R-squared:                       0.988\n",
              "Model:                            OLS   Adj. R-squared:                  0.987\n",
              "Method:                 Least Squares   F-statistic:                 5.831e+04\n",
              "Date:                Wed, 16 Oct 2019   Prob (F-statistic):               0.00\n",
              "Time:                        19:56:14   Log-Likelihood:                -150.73\n",
              "No. Observations:                 740   AIC:                             305.5\n",
              "Df Residuals:                     738   BIC:                             314.7\n",
              "Df Model:                           1                                         \n",
              "Covariance Type:            nonrobust                                         \n",
              "==============================================================================\n",
              "                 coef    std err          t      P>|t|      [0.025      0.975]\n",
              "------------------------------------------------------------------------------\n",
              "Intercept     24.6562      0.019   1298.480      0.000      24.619      24.694\n",
              "log10zcmb      5.3721      0.022    241.474      0.000       5.328       5.416\n",
              "==============================================================================\n",
              "Omnibus:                       24.872   Durbin-Watson:                   1.828\n",
              "Prob(Omnibus):                  0.000   Jarque-Bera (JB):               26.694\n",
              "Skew:                           0.433   Prob(JB):                     1.60e-06\n",
              "Kurtosis:                       3.343   Cond. No.                         3.21\n",
              "==============================================================================\n",
              "\n",
              "Warnings:\n",
              "[1] Standard Errors assume that the covariance matrix of the errors is correctly specified.\n",
              "\"\"\""
            ]
          },
          "metadata": {
            "tags": []
          },
          "execution_count": 6
        }
      ]
    },
    {
      "cell_type": "code",
      "metadata": {
        "ExecuteTime": {
          "end_time": "2019-10-16T17:46:12.981563Z",
          "start_time": "2019-10-16T17:46:12.977716Z"
        },
        "id": "SoNBrsslI1pC",
        "colab_type": "code",
        "outputId": "77937877-e687-4782-e941-9f6d3387f00b",
        "colab": {
          "base_uri": "https://localhost:8080/",
          "height": 68
        }
      },
      "source": [
        "smmodel.params"
      ],
      "execution_count": 0,
      "outputs": [
        {
          "output_type": "execute_result",
          "data": {
            "text/plain": [
              "Intercept    24.656231\n",
              "log10zcmb     5.372055\n",
              "dtype: float64"
            ]
          },
          "metadata": {
            "tags": []
          },
          "execution_count": 7
        }
      ]
    },
    {
      "cell_type": "code",
      "metadata": {
        "ExecuteTime": {
          "end_time": "2019-10-16T17:46:18.069056Z",
          "start_time": "2019-10-16T17:46:18.064088Z"
        },
        "id": "FpR4Sr6BI1pI",
        "colab_type": "code",
        "outputId": "62e4ba60-7d10-46e3-c8b6-39e0fc1907e1",
        "colab": {
          "base_uri": "https://localhost:8080/",
          "height": 34
        }
      },
      "source": [
        "smmodel.llf"
      ],
      "execution_count": 0,
      "outputs": [
        {
          "output_type": "execute_result",
          "data": {
            "text/plain": [
              "-150.7263169128296"
            ]
          },
          "metadata": {
            "tags": []
          },
          "execution_count": 8
        }
      ]
    },
    {
      "cell_type": "markdown",
      "metadata": {
        "id": "_xnkeJJDI1pM",
        "colab_type": "text"
      },
      "source": [
        "###### this is simething you can use to visualize the model"
      ]
    },
    {
      "cell_type": "code",
      "metadata": {
        "ExecuteTime": {
          "end_time": "2019-10-16T17:46:25.238772Z",
          "start_time": "2019-10-16T17:46:25.112965Z"
        },
        "id": "NEsejjniI1pN",
        "colab_type": "code",
        "outputId": "28b08665-307c-41e2-a75e-a905f8b9d02a",
        "colab": {
          "base_uri": "https://localhost:8080/",
          "height": 296
        }
      },
      "source": [
        "sm.graphics.plot_partregress(\"log10zcmb\", \"mb\", exog_others=[], \n",
        "                             data=jla, obs_labels=False);\n"
      ],
      "execution_count": 0,
      "outputs": [
        {
          "output_type": "display_data",
          "data": {
            "image/png": "[encoded data removed]",
            "text/plain": [
              "<Figure size 432x288 with 1 Axes>"
            ]
          },
          "metadata": {
            "tags": []
          }
        }
      ]
    },
    {
      "cell_type": "markdown",
      "metadata": {
        "id": "5dLqsV5UI1pS",
        "colab_type": "text"
      },
      "source": [
        "###### now use the same function to fit a polynomial: ax**2 + bx + c to your data"
      ]
    },
    {
      "cell_type": "code",
      "metadata": {
        "ExecuteTime": {
          "end_time": "2019-10-16T17:47:00.499185Z",
          "start_time": "2019-10-16T17:47:00.414571Z"
        },
        "id": "-UAzn9xtI1pT",
        "colab_type": "code",
        "outputId": "d746f77d-a17f-4656-a637-13cc6a9f9fb0",
        "colab": {
          "base_uri": "https://localhost:8080/",
          "height": 465
        }
      },
      "source": [
        "smmodel2 = smf.ols('mb ~ pow(log10zcmb,2) + log10zcmb', data=jla).fit() #~means proportional\n",
        "smmodel2.summary()"
      ],
      "execution_count": 0,
      "outputs": [
        {
          "output_type": "execute_result",
          "data": {
            "text/html": [
              "<table class=\"simpletable\">\n",
              "<caption>OLS Regression Results</caption>\n",
              "<tr>\n",
              "  <th>Dep. Variable:</th>           <td>mb</td>        <th>  R-squared:         </th> <td>   0.989</td> \n",
              "</tr>\n",
              "<tr>\n",
              "  <th>Model:</th>                   <td>OLS</td>       <th>  Adj. R-squared:    </th> <td>   0.989</td> \n",
              "</tr>\n",
              "<tr>\n",
              "  <th>Method:</th>             <td>Least Squares</td>  <th>  F-statistic:       </th> <td>3.248e+04</td>\n",
              "</tr>\n",
              "<tr>\n",
              "  <th>Date:</th>             <td>Wed, 16 Oct 2019</td> <th>  Prob (F-statistic):</th>  <td>  0.00</td>  \n",
              "</tr>\n",
              "<tr>\n",
              "  <th>Time:</th>                 <td>20:25:08</td>     <th>  Log-Likelihood:    </th> <td> -110.79</td> \n",
              "</tr>\n",
              "<tr>\n",
              "  <th>No. Observations:</th>      <td>   740</td>      <th>  AIC:               </th> <td>   227.6</td> \n",
              "</tr>\n",
              "<tr>\n",
              "  <th>Df Residuals:</th>          <td>   737</td>      <th>  BIC:               </th> <td>   241.4</td> \n",
              "</tr>\n",
              "<tr>\n",
              "  <th>Df Model:</th>              <td>     2</td>      <th>                     </th>     <td> </td>    \n",
              "</tr>\n",
              "<tr>\n",
              "  <th>Covariance Type:</th>      <td>nonrobust</td>    <th>                     </th>     <td> </td>    \n",
              "</tr>\n",
              "</table>\n",
              "<table class=\"simpletable\">\n",
              "<tr>\n",
              "          <td></td>             <th>coef</th>     <th>std err</th>      <th>t</th>      <th>P>|t|</th>  <th>[0.025</th>    <th>0.975]</th>  \n",
              "</tr>\n",
              "<tr>\n",
              "  <th>Intercept</th>         <td>   24.8263</td> <td>    0.026</td> <td>  960.182</td> <td> 0.000</td> <td>   24.776</td> <td>   24.877</td>\n",
              "</tr>\n",
              "<tr>\n",
              "  <th>pow(log10zcmb, 2)</th> <td>    0.3417</td> <td>    0.037</td> <td>    9.165</td> <td> 0.000</td> <td>    0.269</td> <td>    0.415</td>\n",
              "</tr>\n",
              "<tr>\n",
              "  <th>log10zcmb</th>         <td>    5.9722</td> <td>    0.069</td> <td>   86.816</td> <td> 0.000</td> <td>    5.837</td> <td>    6.107</td>\n",
              "</tr>\n",
              "</table>\n",
              "<table class=\"simpletable\">\n",
              "<tr>\n",
              "  <th>Omnibus:</th>       <td>46.425</td> <th>  Durbin-Watson:     </th> <td>   2.020</td>\n",
              "</tr>\n",
              "<tr>\n",
              "  <th>Prob(Omnibus):</th> <td> 0.000</td> <th>  Jarque-Bera (JB):  </th> <td>  56.352</td>\n",
              "</tr>\n",
              "<tr>\n",
              "  <th>Skew:</th>          <td> 0.582</td> <th>  Prob(JB):          </th> <td>5.80e-13</td>\n",
              "</tr>\n",
              "<tr>\n",
              "  <th>Kurtosis:</th>      <td> 3.687</td> <th>  Cond. No.          </th> <td>    12.6</td>\n",
              "</tr>\n",
              "</table><br/><br/>Warnings:<br/>[1] Standard Errors assume that the covariance matrix of the errors is correctly specified."
            ],
            "text/plain": [
              "<class 'statsmodels.iolib.summary.Summary'>\n",
              "\"\"\"\n",
              "                            OLS Regression Results                            \n",
              "==============================================================================\n",
              "Dep. Variable:                     mb   R-squared:                       0.989\n",
              "Model:                            OLS   Adj. R-squared:                  0.989\n",
              "Method:                 Least Squares   F-statistic:                 3.248e+04\n",
              "Date:                Wed, 16 Oct 2019   Prob (F-statistic):               0.00\n",
              "Time:                        20:25:08   Log-Likelihood:                -110.79\n",
              "No. Observations:                 740   AIC:                             227.6\n",
              "Df Residuals:                     737   BIC:                             241.4\n",
              "Df Model:                           2                                         \n",
              "Covariance Type:            nonrobust                                         \n",
              "=====================================================================================\n",
              "                        coef    std err          t      P>|t|      [0.025      0.975]\n",
              "-------------------------------------------------------------------------------------\n",
              "Intercept            24.8263      0.026    960.182      0.000      24.776      24.877\n",
              "pow(log10zcmb, 2)     0.3417      0.037      9.165      0.000       0.269       0.415\n",
              "log10zcmb             5.9722      0.069     86.816      0.000       5.837       6.107\n",
              "==============================================================================\n",
              "Omnibus:                       46.425   Durbin-Watson:                   2.020\n",
              "Prob(Omnibus):                  0.000   Jarque-Bera (JB):               56.352\n",
              "Skew:                           0.582   Prob(JB):                     5.80e-13\n",
              "Kurtosis:                       3.687   Cond. No.                         12.6\n",
              "==============================================================================\n",
              "\n",
              "Warnings:\n",
              "[1] Standard Errors assume that the covariance matrix of the errors is correctly specified.\n",
              "\"\"\""
            ]
          },
          "metadata": {
            "tags": []
          },
          "execution_count": 30
        }
      ]
    },
    {
      "cell_type": "code",
      "metadata": {
        "id": "7jDQUXfgK9ae",
        "colab_type": "code",
        "outputId": "82fac731-6133-42bc-e5f2-db1f25972a1c",
        "colab": {
          "base_uri": "https://localhost:8080/",
          "height": 85
        }
      },
      "source": [
        "smmodel2.params"
      ],
      "execution_count": 0,
      "outputs": [
        {
          "output_type": "execute_result",
          "data": {
            "text/plain": [
              "Intercept            24.826319\n",
              "pow(log10zcmb, 2)     0.341737\n",
              "log10zcmb             5.972161\n",
              "dtype: float64"
            ]
          },
          "metadata": {
            "tags": []
          },
          "execution_count": 31
        }
      ]
    },
    {
      "cell_type": "code",
      "metadata": {
        "ExecuteTime": {
          "end_time": "2019-10-16T17:47:12.314966Z",
          "start_time": "2019-10-16T17:47:12.310949Z"
        },
        "id": "ML-q0d4II1pV",
        "colab_type": "code",
        "outputId": "8414549a-7c4b-4cc7-eee3-65555ef3c2e9",
        "colab": {
          "base_uri": "https://localhost:8080/",
          "height": 34
        }
      },
      "source": [
        "smmodel2.llf"
      ],
      "execution_count": 0,
      "outputs": [
        {
          "output_type": "execute_result",
          "data": {
            "text/plain": [
              "-110.79074199722538"
            ]
          },
          "metadata": {
            "tags": []
          },
          "execution_count": 32
        }
      ]
    },
    {
      "cell_type": "markdown",
      "metadata": {
        "id": "_vyyJaH0I1pZ",
        "colab_type": "text"
      },
      "source": [
        "###### use the sm.compare_lr_test() \n",
        "\n",
        "https://docs.w3cub.com/statsmodels/generated/statsmodels.regression.linear_model.olsresults.compare_lm_test/"
      ]
    },
    {
      "cell_type": "code",
      "metadata": {
        "ExecuteTime": {
          "end_time": "2019-10-16T17:47:19.195619Z",
          "start_time": "2019-10-16T17:47:19.191695Z"
        },
        "id": "We4RJ0eqI1pb",
        "colab_type": "code",
        "outputId": "1a1ccd95-3e21-41ae-bab5-40ecf96f41b3",
        "colab": {
          "base_uri": "https://localhost:8080/",
          "height": 34
        }
      },
      "source": [
        "smmodel2.compare_lr_test(smmodel) #most complex goes first"
      ],
      "execution_count": 0,
      "outputs": [
        {
          "output_type": "execute_result",
          "data": {
            "text/plain": [
              "(79.87114983120841, 3.9963946120024177e-19, 1.0)"
            ]
          },
          "metadata": {
            "tags": []
          },
          "execution_count": 33
        }
      ]
    },
    {
      "cell_type": "markdown",
      "metadata": {
        "id": "2bBDpMkNPAJt",
        "colab_type": "text"
      },
      "source": [
        "Returns the test statistic (chi distributed), p-value, and degrees of freedom of the restriction respectively. "
      ]
    },
    {
      "cell_type": "code",
      "metadata": {
        "ExecuteTime": {
          "end_time": "2019-09-28T22:07:35.390139Z",
          "start_time": "2019-09-28T22:07:35.058018Z"
        },
        "id": "vFvJ15xZI1pe",
        "colab_type": "code",
        "outputId": "230b7ec4-cdd3-4e44-d6e7-3214c146d6a4",
        "colab": {
          "base_uri": "https://localhost:8080/",
          "height": 692
        }
      },
      "source": [
        "fig, ax = pl.subplots(1, figsize=(10,10))\n",
        "jla.plot.scatter(\"log10zcmb\", \"mb\", yerr=\"dmb\", ax=ax,\n",
        "            color=jla.set/jla.set.max(), alpha=0.5, cmap=\"viridis\")\n",
        "graphics.regressionplots.abline_plot(model_results=smmodel, c= 'r', ax=ax);\n",
        "ax.plot(jla.sort_values(\"log10zcmb\").log10zcmb,\n",
        "        smmodel2.predict(jla.sort_values(\"log10zcmb\").log10zcmb), 'k-')\n",
        "ax.set_title('Relationship between log10zcmb and mb')"
      ],
      "execution_count": 0,
      "outputs": [
        {
          "output_type": "stream",
          "text": [
            "/usr/local/lib/python3.6/dist-packages/pandas/plotting/_core.py:202: UserWarning: 'color' and 'colormap' cannot be used simultaneously. Using 'color'\n",
            "  warnings.warn(\"'color' and 'colormap' cannot be used \"\n"
          ],
          "name": "stderr"
        },
        {
          "output_type": "execute_result",
          "data": {
            "text/plain": [
              "Text(0.5, 1.0, 'Relationship between log10zcmb and mb')"
            ]
          },
          "metadata": {
            "tags": []
          },
          "execution_count": 35
        },
        {
          "output_type": "display_data",
          "data": {
            "image/png": "[encoded data removed]",
            "text/plain": [
              "<Figure size 720x720 with 2 Axes>"
            ]
          },
          "metadata": {
            "tags": []
          }
        }
      ]
    },
    {
      "cell_type": "code",
      "metadata": {
        "id": "1BfMMVEZI1pi",
        "colab_type": "code",
        "colab": {}
      },
      "source": [
        ""
      ],
      "execution_count": 0,
      "outputs": []
    }
  ]
}