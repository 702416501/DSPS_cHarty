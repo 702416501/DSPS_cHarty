{
 "cells": [
  {
   "cell_type": "markdown",
   "metadata": {
    "colab_type": "text",
    "id": "view-in-github"
   },
   "source": [
    "<a href=\"https://colab.research.google.com/github/cath19/DSPS_cHarty/blob/master/HW4/MWrotCurve_cHarty.ipynb\" target=\"_parent\"><img src=\"https://colab.research.google.com/assets/colab-badge.svg\" alt=\"Open In Colab\"/></a>"
   ]
  },
  {
   "cell_type": "markdown",
   "metadata": {
    "colab_type": "text",
    "id": "rxa6Xa3jOdCI",
    "run_control": {
     "frozen": false,
     "read_only": false
    }
   },
   "source": [
    "prepared by federica b bianco @fedhere\n",
    "for UDel DSPS PHYS 467/667\n",
    "\n",
    "Catherine Harty\n",
    "\n",
    "PHYS467\n",
    "\n",
    "HW4\n",
    "\n",
    "Worked with:\n",
    "\n",
    "\n",
    "\n",
    "# testing the significance of Dark Matter"
   ]
  },
  {
   "cell_type": "code",
   "execution_count": 1,
   "metadata": {
    "ExecuteTime": {
     "end_time": "2019-09-16T17:54:57.244596Z",
     "start_time": "2019-09-16T17:54:57.231090Z"
    },
    "colab": {
     "base_uri": "https://localhost:8080/",
     "height": 34
    },
    "colab_type": "code",
    "id": "Ya2RaOGbOdCJ",
    "outputId": "314462b6-4750-499b-bb21-493c4dc4b8ba",
    "run_control": {
     "frozen": false,
     "read_only": false
    }
   },
   "outputs": [
    {
     "name": "stdout",
     "output_type": "stream",
     "text": [
      "Populating the interactive namespace from numpy and matplotlib\n"
     ]
    }
   ],
   "source": [
    "import pandas as pd\n",
    "import numpy as np\n",
    "import pylab as pl\n",
    "%pylab inline\n",
    "\n",
    "\n",
    "#package I will use for constants and units conversion \n",
    "import astropy\n",
    "\n"
   ]
  },
  {
   "cell_type": "markdown",
   "metadata": {
    "colab_type": "text",
    "id": "4qp8A2TG1Gwb"
   },
   "source": [
    "In 1970 Vera Rubin published a seminal paper: she measured the rotational speed of HII regions in several galaxies and how it changed as a function of distance to the center of the galaxy. If we believe Newtonian gravity (or GR) we expect that _once all of the mass is included_, i.e. at a radius distance from the center of the galaxy larger than the radius of the galaxy itself, the rotational speed will be proportional to $v\\propto\\frac{1}/{r}$"
   ]
  },
  {
   "cell_type": "markdown",
   "metadata": {
    "colab_type": "text",
    "id": "j-BDrNseOdCR",
    "run_control": {
     "frozen": false,
     "read_only": false
    }
   },
   "source": [
    "## Propagation of  uncertainties rules\n",
    "\n",
    "below are the basic rules for propagation of uncertainties - use [this as reference](https://github.com/fedhere/DSPS/blob/master/resources/Managing%20Errors%20and%20Uncertainty.pdf)"
   ]
  },
  {
   "cell_type": "markdown",
   "metadata": {
    "colab_type": "text",
    "id": "iCrFipBzOzqp"
   },
   "source": [
    "\n",
    "\n",
    "\n",
    "$$\n",
    "\\begin{eqnarray}\n",
    "z = x  \\pm y  ~| & ~  &dz = \\sqrt{dx^2 + dy^2} \n",
    "\\\\\n",
    "z = x * y  ~| & ~& dz = |xy|  \\sqrt{\\left(\\frac{dx}{x}\\right)^2 + \n",
    "                                \\left(\\frac{dy}{y}\\right)^2} \\\\\n",
    "z = x / y  ~| & ~& dz = \\left|\\frac{x}{y}\\right| \\sqrt{\\left(\\frac{dx}{x}\\right)^2 + \n",
    "                                                   \\left(\\frac{dy}{y}\\right)^2} \\\\\n",
    "z = x^n ~| & ~& dz = |n| ~ x^{n-1}  dx \\\\\n",
    "z = \\mathrm{c}x ~| & ~& dz = |\\mathrm{c}| ~dx \\\\\n",
    "z = f(x, y) ~| & ~& dz = \\sqrt{\\left(\\frac{\\partial f}{\\partial x}\\right)^2 dx^2 +\\left(\\frac{\\partial f}{\\partial y}\\right)^2 dy^2} \\\\\n",
    "\\end{eqnarray}\n",
    "$$\n"
   ]
  },
  {
   "cell_type": "markdown",
   "metadata": {
    "colab_type": "text",
    "id": "WcF0zlWCOdCX",
    "run_control": {
     "frozen": false,
     "read_only": false
    }
   },
   "source": [
    "# let's assume a Newtonian framework: \n",
    "the velocity of a body in orbit depends only on the gravitational field of the mass that attracts it, and we can assume that mass is concentrated in the center of mass of (the center for simplicity) the system\n",
    "\n",
    "with G the gravitational constant, $r$ the radius, and $m(r)$ the mass contained within that radius we have the orbital velocity $v$:\n"
   ]
  },
  {
   "cell_type": "markdown",
   "metadata": {
    "colab_type": "text",
    "id": "ZON0DKl5Qm2S"
   },
   "source": [
    "\n",
    "$v = \\sqrt{\\frac{G \\cdot m(r)}{r}}$\n"
   ]
  },
  {
   "cell_type": "markdown",
   "metadata": {
    "colab_type": "text",
    "id": "lVfy9lJ21xMT"
   },
   "source": [
    "Derive this $v\\propto\\frac{1}{\\sqrt{r}}$ from Newron's law $F~=~\\frac{GMm}{r^2}$. Write each formula and describe each step. You can use latex (you really just need to know ```\\frac{}``` and ```^```) and this reference\n",
    "https://www.physicsclassroom.com/calcpad/circgrav"
   ]
  },
  {
   "cell_type": "markdown",
   "metadata": {
    "colab_type": "text",
    "id": "HEB7hQojuAQt"
   },
   "source": [
    "$F$ = $\\frac{GMm}{r^2}$ Newton's law\n",
    "\n",
    "$F$ = $\\frac{Mv^2}{r}$  Centripetal force\n",
    "\n",
    "$\\frac{GMm}{r^2}$ = $\\frac{mv^2}{r}$ Set equal to one another\n",
    "\n",
    "${v^2}$ = $\\frac{GMmr}{Mr^2}$ Solve for ${v}$ \n",
    "\n",
    "${v^2}$ = $\\frac{Gm}{r}$\n",
    "\n",
    "${v}$ = $\\sqrt{\\frac{Gm}{r}}$\n",
    "\n",
    "Therefore, $v\\propto\\frac{1}{\\sqrt{r}}$"
   ]
  },
  {
   "cell_type": "markdown",
   "metadata": {
    "colab_type": "text",
    "id": "KQAEJtWuOdCb",
    "run_control": {
     "frozen": false,
     "read_only": false
    }
   },
   "source": [
    "## M31 rotational curve"
   ]
  },
  {
   "cell_type": "markdown",
   "metadata": {
    "ExecuteTime": {
     "end_time": "2019-08-02T01:34:15.029084Z",
     "start_time": "2019-08-02T01:34:15.026604Z"
    },
    "colab_type": "text",
    "id": "BTaXzFYeOdCc",
    "run_control": {
     "frozen": false,
     "read_only": false
    }
   },
   "source": [
    "### data ingestion\n",
    "( I store the original paper as a link on another computer now I have to find it again :-( - sorry I will updat the reference )\n",
    "\n",
    "Get the data from the github repository https://github.com/fedhere/DSPS/tree/master/HW4 : there are 2 files: mw.csv and m31.csv. Start with M31, the Andromeda galaxy, Vera Rubin's original target."
   ]
  },
  {
   "cell_type": "markdown",
   "metadata": {
    "colab_type": "text",
    "id": "_iFrkUYEV1SS"
   },
   "source": [
    "Note that the data contains 2 types of uncertainties: one significantly smaller than the other. The ```dv``` uncertainty is the propagation of the uncertainty in the location of the HII line. The uncertainty called ```err``` if the full error budget:  including _all_ sources of uncertainty and not just the uncertainty in measuring the location of the line. Retain both, you will test your hypothesis with each one to see if it matters which uncertainty you choose"
   ]
  },
  {
   "cell_type": "code",
   "execution_count": 2,
   "metadata": {
    "colab": {},
    "colab_type": "code",
    "id": "PFYBlhUjt8_e"
   },
   "outputs": [],
   "source": [
    "# your code here\n",
    "m31 = pd.read_csv('https://raw.githubusercontent.com/fedhere/DSPS/master/HW4/m31.csv', header = 1)"
   ]
  },
  {
   "cell_type": "code",
   "execution_count": 3,
   "metadata": {
    "colab": {
     "base_uri": "https://localhost:8080/",
     "height": 204
    },
    "colab_type": "code",
    "id": "luL5UrsNQ1M1",
    "outputId": "780590f6-5220-4cb8-a152-8ee1ad210689"
   },
   "outputs": [
    {
     "data": {
      "text/html": [
       "<div>\n",
       "<style scoped>\n",
       "    .dataframe tbody tr th:only-of-type {\n",
       "        vertical-align: middle;\n",
       "    }\n",
       "\n",
       "    .dataframe tbody tr th {\n",
       "        vertical-align: top;\n",
       "    }\n",
       "\n",
       "    .dataframe thead th {\n",
       "        text-align: right;\n",
       "    }\n",
       "</style>\n",
       "<table border=\"1\" class=\"dataframe\">\n",
       "  <thead>\n",
       "    <tr style=\"text-align: right;\">\n",
       "      <th></th>\n",
       "      <th>#R(kpc</th>\n",
       "      <th>V(km/s)</th>\n",
       "      <th>St.dev.</th>\n",
       "      <th>St.error</th>\n",
       "    </tr>\n",
       "  </thead>\n",
       "  <tbody>\n",
       "    <tr>\n",
       "      <td>0</td>\n",
       "      <td>0.100</td>\n",
       "      <td>183.939</td>\n",
       "      <td>0.000</td>\n",
       "      <td>0.000</td>\n",
       "    </tr>\n",
       "    <tr>\n",
       "      <td>1</td>\n",
       "      <td>0.120</td>\n",
       "      <td>190.710</td>\n",
       "      <td>10.265</td>\n",
       "      <td>12.191</td>\n",
       "    </tr>\n",
       "    <tr>\n",
       "      <td>2</td>\n",
       "      <td>0.144</td>\n",
       "      <td>204.141</td>\n",
       "      <td>22.634</td>\n",
       "      <td>21.808</td>\n",
       "    </tr>\n",
       "    <tr>\n",
       "      <td>3</td>\n",
       "      <td>0.173</td>\n",
       "      <td>207.601</td>\n",
       "      <td>4.573</td>\n",
       "      <td>4.200</td>\n",
       "    </tr>\n",
       "    <tr>\n",
       "      <td>4</td>\n",
       "      <td>0.207</td>\n",
       "      <td>210.188</td>\n",
       "      <td>3.943</td>\n",
       "      <td>3.258</td>\n",
       "    </tr>\n",
       "  </tbody>\n",
       "</table>\n",
       "</div>"
      ],
      "text/plain": [
       "   #R(kpc  V(km/s)  St.dev.  St.error\n",
       "0   0.100  183.939    0.000     0.000\n",
       "1   0.120  190.710   10.265    12.191\n",
       "2   0.144  204.141   22.634    21.808\n",
       "3   0.173  207.601    4.573     4.200\n",
       "4   0.207  210.188    3.943     3.258"
      ]
     },
     "execution_count": 3,
     "metadata": {},
     "output_type": "execute_result"
    }
   ],
   "source": [
    "m31.head()"
   ]
  },
  {
   "cell_type": "code",
   "execution_count": 4,
   "metadata": {
    "colab": {},
    "colab_type": "code",
    "id": "CioQ8XtyLtXu"
   },
   "outputs": [],
   "source": [
    "m31 = m31.rename(columns = {'#R(kpc': 'r',\n",
    "                            'V(km/s)': 'v',\n",
    "                            'St.dev.': 'dv',\n",
    "                            'St.error': 'err'})\n"
   ]
  },
  {
   "cell_type": "code",
   "execution_count": 5,
   "metadata": {
    "colab": {
     "base_uri": "https://localhost:8080/",
     "height": 204
    },
    "colab_type": "code",
    "id": "YReUDV9sLipU",
    "outputId": "3129275b-ef52-4b6e-ef0e-7a913e327548"
   },
   "outputs": [
    {
     "data": {
      "text/html": [
       "<div>\n",
       "<style scoped>\n",
       "    .dataframe tbody tr th:only-of-type {\n",
       "        vertical-align: middle;\n",
       "    }\n",
       "\n",
       "    .dataframe tbody tr th {\n",
       "        vertical-align: top;\n",
       "    }\n",
       "\n",
       "    .dataframe thead th {\n",
       "        text-align: right;\n",
       "    }\n",
       "</style>\n",
       "<table border=\"1\" class=\"dataframe\">\n",
       "  <thead>\n",
       "    <tr style=\"text-align: right;\">\n",
       "      <th></th>\n",
       "      <th>r</th>\n",
       "      <th>v</th>\n",
       "      <th>dv</th>\n",
       "      <th>err</th>\n",
       "    </tr>\n",
       "  </thead>\n",
       "  <tbody>\n",
       "    <tr>\n",
       "      <td>0</td>\n",
       "      <td>0.100</td>\n",
       "      <td>183.939</td>\n",
       "      <td>0.000</td>\n",
       "      <td>0.000</td>\n",
       "    </tr>\n",
       "    <tr>\n",
       "      <td>1</td>\n",
       "      <td>0.120</td>\n",
       "      <td>190.710</td>\n",
       "      <td>10.265</td>\n",
       "      <td>12.191</td>\n",
       "    </tr>\n",
       "    <tr>\n",
       "      <td>2</td>\n",
       "      <td>0.144</td>\n",
       "      <td>204.141</td>\n",
       "      <td>22.634</td>\n",
       "      <td>21.808</td>\n",
       "    </tr>\n",
       "    <tr>\n",
       "      <td>3</td>\n",
       "      <td>0.173</td>\n",
       "      <td>207.601</td>\n",
       "      <td>4.573</td>\n",
       "      <td>4.200</td>\n",
       "    </tr>\n",
       "    <tr>\n",
       "      <td>4</td>\n",
       "      <td>0.207</td>\n",
       "      <td>210.188</td>\n",
       "      <td>3.943</td>\n",
       "      <td>3.258</td>\n",
       "    </tr>\n",
       "  </tbody>\n",
       "</table>\n",
       "</div>"
      ],
      "text/plain": [
       "       r        v      dv     err\n",
       "0  0.100  183.939   0.000   0.000\n",
       "1  0.120  190.710  10.265  12.191\n",
       "2  0.144  204.141  22.634  21.808\n",
       "3  0.173  207.601   4.573   4.200\n",
       "4  0.207  210.188   3.943   3.258"
      ]
     },
     "execution_count": 5,
     "metadata": {},
     "output_type": "execute_result"
    }
   ],
   "source": [
    "m31.head()"
   ]
  },
  {
   "cell_type": "code",
   "execution_count": 6,
   "metadata": {
    "ExecuteTime": {
     "end_time": "2019-08-02T01:35:26.395158Z",
     "start_time": "2019-08-02T01:35:26.373338Z"
    },
    "colab": {
     "base_uri": "https://localhost:8080/",
     "height": 297
    },
    "colab_type": "code",
    "id": "QsNRokb1OdCh",
    "outputId": "99c3f695-6533-4a6b-cd2a-a0066516b0e1",
    "run_control": {
     "frozen": false,
     "read_only": false
    }
   },
   "outputs": [
    {
     "data": {
      "text/html": [
       "<div>\n",
       "<style scoped>\n",
       "    .dataframe tbody tr th:only-of-type {\n",
       "        vertical-align: middle;\n",
       "    }\n",
       "\n",
       "    .dataframe tbody tr th {\n",
       "        vertical-align: top;\n",
       "    }\n",
       "\n",
       "    .dataframe thead th {\n",
       "        text-align: right;\n",
       "    }\n",
       "</style>\n",
       "<table border=\"1\" class=\"dataframe\">\n",
       "  <thead>\n",
       "    <tr style=\"text-align: right;\">\n",
       "      <th></th>\n",
       "      <th>r</th>\n",
       "      <th>v</th>\n",
       "      <th>dv</th>\n",
       "      <th>err</th>\n",
       "    </tr>\n",
       "  </thead>\n",
       "  <tbody>\n",
       "    <tr>\n",
       "      <td>count</td>\n",
       "      <td>55.000000</td>\n",
       "      <td>55.000000</td>\n",
       "      <td>55.000000</td>\n",
       "      <td>55.000000</td>\n",
       "    </tr>\n",
       "    <tr>\n",
       "      <td>mean</td>\n",
       "      <td>205.853182</td>\n",
       "      <td>226.079255</td>\n",
       "      <td>55.034818</td>\n",
       "      <td>16.165855</td>\n",
       "    </tr>\n",
       "    <tr>\n",
       "      <td>std</td>\n",
       "      <td>415.523904</td>\n",
       "      <td>42.799892</td>\n",
       "      <td>49.254792</td>\n",
       "      <td>14.876951</td>\n",
       "    </tr>\n",
       "    <tr>\n",
       "      <td>min</td>\n",
       "      <td>0.100000</td>\n",
       "      <td>121.974000</td>\n",
       "      <td>0.000000</td>\n",
       "      <td>0.000000</td>\n",
       "    </tr>\n",
       "    <tr>\n",
       "      <td>25%</td>\n",
       "      <td>1.177000</td>\n",
       "      <td>208.894500</td>\n",
       "      <td>11.945500</td>\n",
       "      <td>3.224000</td>\n",
       "    </tr>\n",
       "    <tr>\n",
       "      <td>50%</td>\n",
       "      <td>13.737000</td>\n",
       "      <td>229.124000</td>\n",
       "      <td>30.697000</td>\n",
       "      <td>12.065000</td>\n",
       "    </tr>\n",
       "    <tr>\n",
       "      <td>75%</td>\n",
       "      <td>161.675000</td>\n",
       "      <td>244.102500</td>\n",
       "      <td>99.980000</td>\n",
       "      <td>23.641000</td>\n",
       "    </tr>\n",
       "    <tr>\n",
       "      <td>max</td>\n",
       "      <td>1887.071000</td>\n",
       "      <td>414.942000</td>\n",
       "      <td>147.835000</td>\n",
       "      <td>54.110000</td>\n",
       "    </tr>\n",
       "  </tbody>\n",
       "</table>\n",
       "</div>"
      ],
      "text/plain": [
       "                 r           v          dv        err\n",
       "count    55.000000   55.000000   55.000000  55.000000\n",
       "mean    205.853182  226.079255   55.034818  16.165855\n",
       "std     415.523904   42.799892   49.254792  14.876951\n",
       "min       0.100000  121.974000    0.000000   0.000000\n",
       "25%       1.177000  208.894500   11.945500   3.224000\n",
       "50%      13.737000  229.124000   30.697000  12.065000\n",
       "75%     161.675000  244.102500   99.980000  23.641000\n",
       "max    1887.071000  414.942000  147.835000  54.110000"
      ]
     },
     "execution_count": 6,
     "metadata": {},
     "output_type": "execute_result"
    }
   ],
   "source": [
    "m31.describe()"
   ]
  },
  {
   "cell_type": "markdown",
   "metadata": {
    "colab_type": "text",
    "id": "Vv0Ut6vOOdCk",
    "run_control": {
     "frozen": false,
     "read_only": false
    }
   },
   "source": [
    "from https://en.wikipedia.org/wiki/Andromeda_Galaxy get the extent of the luminous component of M31 (Andromeda). The distance of the Galaxy multiplied by the angular size will give you this information from basic trigonometry (make sure you convert the units properly, using astropy). Make sure you include the uncertainties! uncertainties in the distance will give you the uncertainty in the size\n",
    "   \n",
    " "
   ]
  },
  {
   "cell_type": "code",
   "execution_count": 7,
   "metadata": {
    "colab": {},
    "colab_type": "code",
    "id": "kvIFr6D778ri"
   },
   "outputs": [],
   "source": [
    "apparentSizeM31 = 3.167 #deg 3.167 / 2 \n",
    "distanceM31 = 778 #kpc\n",
    "distanceUncertainty = 33 #kpc\n"
   ]
  },
  {
   "cell_type": "markdown",
   "metadata": {},
   "source": [
    "<span style=\"color:red\">**-0.1 pt: for using diameter not radius**</span>"
   ]
  },
  {
   "cell_type": "code",
   "execution_count": 8,
   "metadata": {
    "ExecuteTime": {
     "end_time": "2019-08-02T01:35:41.413407Z",
     "start_time": "2019-08-02T01:35:41.408764Z"
    },
    "colab": {
     "base_uri": "https://localhost:8080/",
     "height": 34
    },
    "colab_type": "code",
    "id": "tzGNh98hOdCl",
    "outputId": "8575debe-8cb3-4da6-c2a4-ebfb1b425673",
    "run_control": {
     "frozen": false,
     "read_only": false
    }
   },
   "outputs": [
    {
     "name": "stdout",
     "output_type": "stream",
     "text": [
      "Angular Size of the visible component of Andromeda: 0.06 rad\n"
     ]
    }
   ],
   "source": [
    "# note : by PEP8 standards the import should be at the top, I leave it here for hyou to see that I am using astropy.units now\n",
    "from astropy import units as u\n",
    "m31angS = apparentSizeM31 * u.degree\n",
    "print(\"Angular Size of the visible component of Andromeda: {:.2f}\".format(m31angS.to(u.rad)  ))"
   ]
  },
  {
   "cell_type": "markdown",
   "metadata": {
    "colab_type": "text",
    "id": "cOw0Y4KNWTOZ"
   },
   "source": [
    "Please make sure you print a sensible number of decimal digits! you have a  number of significant digits set by the number of digit in the info you get from wikipedia"
   ]
  },
  {
   "cell_type": "markdown",
   "metadata": {
    "colab_type": "text",
    "id": "hF2wXZ988QgS"
   },
   "source": [
    "The distance, from Wikipedia, will have an uncertainty. Convert both to kiloparsecs Kpc"
   ]
  },
  {
   "cell_type": "code",
   "execution_count": 9,
   "metadata": {
    "ExecuteTime": {
     "end_time": "2019-08-02T01:35:42.257553Z",
     "start_time": "2019-08-02T01:35:42.254539Z"
    },
    "colab": {},
    "colab_type": "code",
    "id": "7-nEP6KrOdCo",
    "run_control": {
     "frozen": false,
     "read_only": false
    }
   },
   "outputs": [],
   "source": [
    "# your code here\n",
    "m31dist = distanceM31 * u.kiloparsec\n",
    "m31distUncert = distanceUncertainty * u.kiloparsec\n",
    "\n",
    "#find size\n",
    "m31size = (m31angS.to(u.rad) * m31dist)/ u.rad\n",
    "m31sizeUncert = (m31angS.to(u.rad) * m31distUncert)/ u.rad"
   ]
  },
  {
   "cell_type": "code",
   "execution_count": 10,
   "metadata": {
    "ExecuteTime": {
     "end_time": "2019-08-02T01:35:42.815232Z",
     "start_time": "2019-08-02T01:35:42.810316Z"
    },
    "colab": {
     "base_uri": "https://localhost:8080/",
     "height": 51
    },
    "colab_type": "code",
    "id": "0y_V9AuFOdCv",
    "outputId": "f5fc8d57-1085-4fb4-a152-9ec802144482",
    "run_control": {
     "frozen": false,
     "read_only": false
    }
   },
   "outputs": [
    {
     "name": "stdout",
     "output_type": "stream",
     "text": [
      "Physical size of the visible component of Andromeda: 43.0 kpc +/- 1.8 kpc\n",
      "Distance of the visible component of Andromeda: 778 kpc +/- 33 kpc\n"
     ]
    }
   ],
   "source": [
    "# your code here\n",
    "#print(\"First measurement outside of the visible radius:\")\n",
    "#round(m31[m31.r > m31size].r.values[0], 2) * u.kpc\n",
    "\n",
    "print('Physical size of the visible component of Andromeda: {:.1f}'.format(m31size), '+/- {:.1f}'.format(m31sizeUncert))\n",
    "print('Distance of the visible component of Andromeda: {:.0f}'.format(m31dist), '+/- {:.0f}'.format(m31distUncert))"
   ]
  },
  {
   "cell_type": "markdown",
   "metadata": {
    "colab_type": "text",
    "id": "_pTXgdTL8jv6"
   },
   "source": [
    "Print the distance like I printed the angular size. \n",
    "\n",
    "To get the physical size of the visible component of andtomeda you can use simple trigonometry: $y = r * sin(\\alpha) ~ \\sim ~ r \\alpha $ for small angles \n",
    "\n",
    "\n",
    "Print the physical size of the Andromeda galaxy (remember decimal digits, proper formatting etc etc). \n"
   ]
  },
  {
   "cell_type": "markdown",
   "metadata": {
    "colab_type": "text",
    "id": "97o52hRhOdCy",
    "run_control": {
     "frozen": false,
     "read_only": false
    }
   },
   "source": [
    "### find the first measurement  in your data table that includes all the luminous mass. \n",
    "\n",
    "What is the smallest radius in your data where the luminous mass is completely included and what is the veolcity at that radius?\n",
    "You can do it by broadcasting (see homework 3)"
   ]
  },
  {
   "cell_type": "markdown",
   "metadata": {},
   "source": [
    "<span style=\"color:red\">**-0.25 pt: for missing the code**</span>"
   ]
  },
  {
   "cell_type": "markdown",
   "metadata": {
    "colab_type": "text",
    "id": "TVWiU84XOdDA",
    "run_control": {
     "frozen": false,
     "read_only": false
    }
   },
   "source": [
    "We expect the velocity to decrease as $\\frac{1}{\\sqrt{r}}$ if all mass is included: the velocity at a radius twice as far as the radius that includes all the mass should be a factor 2 slower, three times as far a factor 3 slower. "
   ]
  },
  {
   "cell_type": "markdown",
   "metadata": {
    "colab_type": "text",
    "id": "b096Ax33SiXl"
   },
   "source": [
    "write a function that \n",
    "\n",
    "1. finds the smallest radius in the dataset that is at least N times the radius of the visible galaxy, \n",
    "\n",
    "2. takes as arguments:\n",
    "    - the data and \n",
    "    - N \n",
    "    - the size of the luminous component of the galaxy\n",
    " \n",
    "2. Returns the value of the radius and its uncertainty and the velocity and its uncertainty"
   ]
  },
  {
   "cell_type": "code",
   "execution_count": 11,
   "metadata": {
    "ExecuteTime": {
     "end_time": "2019-08-02T02:07:26.053511Z",
     "start_time": "2019-08-02T02:07:26.046677Z"
    },
    "colab": {
     "base_uri": "https://localhost:8080/",
     "height": 34
    },
    "colab_type": "code",
    "id": "-_O34Bb7OdC2",
    "outputId": "7169d9ee-56e1-42ad-cf23-079b6592e246",
    "run_control": {
     "frozen": false,
     "read_only": false
    }
   },
   "outputs": [
    {
     "data": {
      "text/plain": [
       "(70.88, 2.5379415575325324e-05, 218.489, 132.355, 24.656999999999996)"
      ]
     },
     "execution_count": 11,
     "metadata": {},
     "output_type": "execute_result"
    }
   ],
   "source": [
    "def getradii(gal, gsize, n):\n",
    "  #  Finds the smallest radius in the given data where the luminous mass is completely included.\n",
    "  #  It also finds the velocity at that radius\n",
    "   \n",
    "  #  Parameters: \n",
    "  #  gal (object): the galaxy's data \n",
    "  #  gsize (object): the size of the luminous component of the galaxy\n",
    "  #  n (int): number\n",
    "  \n",
    "  #  Returns: \n",
    "  #  radius (float): smallest radius \n",
    "  #  radiusUncert (object): uncertainty of the radius\n",
    "  #  velocity(float): the velocity at radiusSmall\n",
    "  #  velocityUncert (object): uncertainty of the velocity\n",
    "  #  stderror (pandas.core.series.Series): error bar location\n",
    "  \n",
    "  radius, velocity, velocityUncert, stderror = gal[gal['r'] >  n * gsize].iloc[0] #which data to keep\n",
    " \n",
    "  #using the uncertainty rules above\n",
    "  radiusUncert = abs(-2) * pow(velocity, -3) * velocityUncert\n",
    "  \n",
    "  \n",
    "  #new\n",
    "  #gsize = gsize/2\n",
    "  \n",
    "  return radius, radiusUncert, velocity, velocityUncert, stderror\n",
    "  \n",
    "getradii(m31, m31size/2, 3) # m31size should not divided by 2"
   ]
  },
  {
   "cell_type": "markdown",
   "metadata": {},
   "source": [
    "<span style=\"color:red\">**m31size should not divided by 2**</span>"
   ]
  },
  {
   "cell_type": "markdown",
   "metadata": {
    "ExecuteTime": {
     "end_time": "2019-08-01T18:13:58.231637Z",
     "start_time": "2019-08-01T18:13:58.229447Z"
    },
    "colab_type": "text",
    "id": "ogu_iquzOdC5",
    "run_control": {
     "frozen": false,
     "read_only": false
    }
   },
   "source": [
    "### data visualization"
   ]
  },
  {
   "cell_type": "markdown",
   "metadata": {
    "colab_type": "text",
    "id": "kJ6MujVJUyel"
   },
   "source": [
    "make a plot that shows\n",
    "\n",
    "1. the rotational curve of the galaxy (as a line)\n",
    "\n",
    "2. each velocity as an errorbar with error equal to err in the same color as the line in 1\n",
    "\n",
    "3. each velocity as an errorbar with error equal to dv in  the same color but a different line thickness\n",
    "\n",
    "\n",
    "4. the datapoint corresponding to N=1, 2, 3 each in a different color. \n",
    "\n",
    "5. add a legend that indicates the meaning of each color (```pl.legend()```)\n",
    "\n",
    "6. add a text that indicates the velocity and its uncertainty (dv and err) just below the largest errorbar (```pl.text()```)\n",
    "\n",
    "7. limit the x axis to the \"relevant\" portion of the data"
   ]
  },
  {
   "cell_type": "code",
   "execution_count": 12,
   "metadata": {
    "ExecuteTime": {
     "end_time": "2019-08-02T03:01:27.556063Z",
     "start_time": "2019-08-02T03:01:27.302184Z"
    },
    "colab": {
     "base_uri": "https://localhost:8080/",
     "height": 295
    },
    "colab_type": "code",
    "id": "7IMXYY8BOdC6",
    "outputId": "a3472f09-beb6-40a1-a174-097f31587344",
    "run_control": {
     "frozen": false,
     "read_only": false
    }
   },
   "outputs": [
    {
     "data": {
      "image/png": "[encoded data removed]",
      "text/plain": [
       "<Figure size 432x288 with 1 Axes>"
      ]
     },
     "metadata": {
      "needs_background": "light"
     },
     "output_type": "display_data"
    }
   ],
   "source": [
    "def plotGal(gal, rds):\n",
    "  #  Plots the rotational curve of the galaxy and the error bars\n",
    "  \n",
    "  #  Parameters: \n",
    "  #  gal (object): the galaxy's data \n",
    "  #  rds (object): given radius \n",
    "  \n",
    "  #  Returns: \n",
    "  #  None\n",
    "  \n",
    "  plt.errorbar(gal['r'], gal['v'], xerr=0, yerr=gal['err'], c='C0', linewidth=2.5, label=None)\n",
    "  plt.errorbar(gal['r'], gal['v'], xerr=0, yerr=gal['dv'], c='C0', linewidth=1.5, label='velocity')\n",
    "  \n",
    "  colors = ['C1', 'C2', 'C3']\n",
    "  for n in range(1, 4):\n",
    "    radius, radiusUncert, velocity, velocityUncert, stderror = getradii(gal, rds, n)\n",
    "    plt.errorbar(radius, velocity, yerr = velocityUncert, linewidth=2, c=colors[n-1], label=(str(n)+' x radius'))\n",
    "    plt.errorbar(radius, velocity, yerr = stderror, linewidth=2.5, c='k')\n",
    "    plt.text(radius - 10, velocity - velocityUncert - 25, '%.1f' % velocity)\n",
    "    plt.text(radius - 20, velocity - velocityUncert - 50, '(%.1f %.1f)' % (velocityUncert, stderror))\n",
    "    \n",
    "    plt.title('Plot of Radius vs Velocity for M31')\n",
    "    plt.xlabel('Radius (kpc)')\n",
    "    plt.ylabel('Velocity (km/s)')\n",
    "    \n",
    "    \n",
    "  plt.legend()\n",
    "  \n",
    "  plt.xlim(0, 100)\n",
    "  plt.ylim(0, 500)\n",
    "  \n",
    "  \n",
    "m31Radius = m31size/2\n",
    "plotGal(m31, m31Radius)\n",
    "  "
   ]
  },
  {
   "cell_type": "markdown",
   "metadata": {
    "colab_type": "text",
    "id": "94W21Y0GC_0o"
   },
   "source": [
    "**Figure 1:** This shows the velocity at given radii for M31. It also includes error bars. Note how the velocity does not decrease at a rate of $1/\\sqrt{r}$."
   ]
  },
  {
   "cell_type": "markdown",
   "metadata": {
    "colab_type": "text",
    "id": "bIbv3YrhTo0X"
   },
   "source": [
    "Write a function that for a given dataset and a given luminous radius and a given N \n",
    "  \n",
    "  1) uses the function above to find the radius at least as large as needed and the velocity at that radius, \n",
    "  \n",
    "  2) states the expected drop in rotational velocities according to Newton's law $v\\propto 1/\\sqrt{r}$\n",
    "  \n",
    "  3) calculates the ratio of radii and the ratio of velocities at N radii from the center N=1 and N=N (input, e.g. 2, 3 etc) with uncertainties, \n",
    "  \n",
    "  4) and stated whether that ratio is consistent within the uncertainties with Newton's law $v \\propto 1/\\sqrt{r}$\n",
    "  \n",
    "Your function should print \n",
    "\n",
    "     - the expected ratio based on the radii, \n",
    "     - the calculated ratio using ```dv```, and its uncertainty, - \n",
    "     - the 3-$\\sigma$ upper and lower limits of the calculated ratio\n",
    "     - whether the expected ratio is within the $3-\\sigma$ of the calculated ratio, \n",
    "  5) and the same using ```err```  instead of ```dv```"
   ]
  },
  {
   "cell_type": "code",
   "execution_count": 13,
   "metadata": {
    "ExecuteTime": {
     "end_time": "2019-08-02T02:22:18.485172Z",
     "start_time": "2019-08-02T02:22:18.477807Z"
    },
    "colab": {},
    "colab_type": "code",
    "id": "1hhTw8N4OdDB",
    "run_control": {
     "frozen": false,
     "read_only": false
    }
   },
   "outputs": [],
   "source": [
    "import scipy.constants as sp\n",
    "\n",
    "\n",
    "def vratios(gal, rds, n, err='velocityUncert'):\n",
    "  #  Uses the function getradii(gal, gsize, n) to find the radius needed and the velocity at that radius\n",
    "  #  It also states the expected drop in rotational velocities according to Newton's Law\n",
    "  #  It then calculates the ratio of the radii and the ratio of the velocities at N radii from the center, along with its uncertainties\n",
    "  #  It then states whether the ratio is consistent with the uncertainties with Newton's Law\n",
    "  \n",
    "  #  Parameters: \n",
    "  #  gal (object): the galaxy's data \n",
    "  #  rds (object): given radius \n",
    "  #  n (int): given number\n",
    "  #  err (string): standard error checker\n",
    "  \n",
    "  #  Returns: \n",
    "  #  None\n",
    "  \n",
    "  initialRadius, initialVelocity = gal.iloc[0][:2]\n",
    "  radius, radiusUncert, velocity, velocityUncert, stderror = getradii(gal, rds, n)\n",
    "  if err == 'stderror':\n",
    "    velocityUncert = stderror\n",
    "  \n",
    "  rRatio = radius / initialRadius\n",
    "  expectedVelocity = initialVelocity/(rRatio)**0.5\n",
    "  expectedRatio = initialVelocity / expectedVelocity\n",
    "    \n",
    "  #All bounds should be calculated based on ratio not on velocity itself\n",
    "  upperLimit = velocity + 2*velocityUncert\n",
    "  lowerLimit = velocity - 2*velocityUncert\n",
    "  \n",
    "  upperRatio =  initialVelocity / max(lowerLimit, 4)\n",
    "  lowerRatio =  initialVelocity / upperLimit\n",
    "  \n",
    "  #print('Initial: %.1f \\t Final: %.1f ' % (initialRadius, initialVelocity))\n",
    "  print(\"The expected velocity based on the radius is %.1f\" % expectedVelocity)\n",
    "  print(\"The actual velocity is %.1f \\u00B1 %.1f\" % (velocity, 2*velocityUncert))\n",
    "  print(\"The expected expected ratio based on the radius is %.1f\" % expectedRatio)  \n",
    "  print('The 2-\\u03C3 lower and upper limits for the calculated ratio are (%.1f, %.1f)' % (lowerRatio, upperRatio))\n",
    "  message = \"IS NOT\"\n",
    "  if (lowerRatio < expectedRatio < upperRatio):\n",
    "    message = \"IS\"\n",
    "  print(\"The expected ratio\", message, \"within 2-\\u03C3 of the calculated ratio\")\n",
    " "
   ]
  },
  {
   "cell_type": "code",
   "execution_count": 15,
   "metadata": {
    "colab": {
     "base_uri": "https://localhost:8080/",
     "height": 714
    },
    "colab_type": "code",
    "id": "2zmMxPfRrH2W",
    "outputId": "c778b311-8762-4f11-be42-e68b1fc2f31e"
   },
   "outputs": [
    {
     "name": "stdout",
     "output_type": "stream",
     "text": [
      "\u001b[1mUsing the Standard Deviation\u001b[0m\n",
      "\n",
      "The expected velocity based on the radius is 8.3\n",
      "The actual velocity is 237.1 ± 218.8\n",
      "The expected expected ratio based on the radius is 22.2\n",
      "The 2-σ lower and upper limits for the calculated ratio are (0.4, 10.0)\n",
      "The expected ratio IS NOT within 2-σ of the calculated ratio\n",
      "\n",
      "The expected velocity based on the radius is 5.8\n",
      "The actual velocity is 213.0 ± 264.9\n",
      "The expected expected ratio based on the radius is 31.9\n",
      "The 2-σ lower and upper limits for the calculated ratio are (0.4, 46.0)\n",
      "The expected ratio IS within 2-σ of the calculated ratio\n",
      "\n",
      "The expected velocity based on the radius is 4.8\n",
      "The actual velocity is 177.5 ± 163.5\n",
      "The expected expected ratio based on the radius is 38.3\n",
      "The 2-σ lower and upper limits for the calculated ratio are (0.5, 13.1)\n",
      "The expected ratio IS NOT within 2-σ of the calculated ratio\n",
      "\n",
      "---------------------------------------------------------------------------------------------------\n",
      "\u001b[1mUsing the Standard Error\u001b[0m\n",
      "\n",
      "The expected velocity based on the radius is 8.3\n",
      "The actual velocity is 237.1 ± 47.8\n",
      "The expected expected ratio based on the radius is 22.2\n",
      "The 2-σ lower and upper limits for the calculated ratio are (0.6, 1.0)\n",
      "The expected ratio IS NOT within 2-σ of the calculated ratio\n",
      "\n",
      "The expected velocity based on the radius is 5.8\n",
      "The actual velocity is 213.0 ± 58.6\n",
      "The expected expected ratio based on the radius is 31.9\n",
      "The 2-σ lower and upper limits for the calculated ratio are (0.7, 1.2)\n",
      "The expected ratio IS NOT within 2-σ of the calculated ratio\n",
      "\n",
      "The expected velocity based on the radius is 4.8\n",
      "The actual velocity is 177.5 ± 33.3\n",
      "The expected expected ratio based on the radius is 38.3\n",
      "The 2-σ lower and upper limits for the calculated ratio are (0.9, 1.3)\n",
      "The expected ratio IS NOT within 2-σ of the calculated ratio\n",
      "\n"
     ]
    }
   ],
   "source": [
    "def printer(gal, gsize, n):  \n",
    "  #  Prints velocities, expected and actual and their ratios\n",
    "  \n",
    "  #  Parameters: \n",
    "  #  gal (object): the galaxy's data \n",
    "  #  gsize (object): the size of the luminous component of the galaxy\n",
    "  #  n (int): number\n",
    "  \n",
    "  #  Returns: \n",
    "  #  None\n",
    "  \n",
    "  print(\"\\033[1mUsing the Standard Deviation\\033[0m\\n\")\n",
    "  for n in range(1, 4):\n",
    "    vratios(gal, gsize, n)\n",
    "    print()\n",
    "\n",
    "  print(\"---------------------------------------------------------------------------------------------------\")\n",
    "  print(\"\\033[1mUsing the Standard Error\\033[0m\\n\")\n",
    "  for n in range(1, 4):\n",
    "    vratios(gal, gsize, n, 'stderror')\n",
    "    print()\n",
    "  \n",
    "printer(m31, m31size, n) # <--------------- n should be 1,2 or 3"
   ]
  },
  {
   "cell_type": "markdown",
   "metadata": {},
   "source": [
    "<span style=\"color:red\">**-0.1 pt: wrong function calling code**</span>"
   ]
  },
  {
   "cell_type": "markdown",
   "metadata": {},
   "source": [
    "<span style=\"color:red\">**-0.25 pt: check your velocity and ratio computation code and code should use ratio of v not v itself**</span>"
   ]
  },
  {
   "cell_type": "markdown",
   "metadata": {
    "ExecuteTime": {
     "end_time": "2019-08-02T00:36:41.637045Z",
     "start_time": "2019-08-02T00:36:41.634825Z"
    },
    "colab_type": "text",
    "id": "6me5k4c1OdDY",
    "run_control": {
     "frozen": false,
     "read_only": false
    }
   },
   "source": [
    "### Discuss!"
   ]
  },
  {
   "cell_type": "markdown",
   "metadata": {
    "colab_type": "text",
    "id": "A0UEyBK0QWy9"
   },
   "source": [
    "The points tested were not within 2σ of the calculated ratio, which means our understanding of galaxy velocities is not correct. This helps to prove that velocity does NOT scale as $1/\\sqrt{r}$ as it should according to Newton's Law. The reason for this is because there is mass that we cannot detect and is therefore not being accounted for."
   ]
  },
  {
   "cell_type": "markdown",
   "metadata": {
    "colab_type": "text",
    "id": "QIHRn8UlOdDZ",
    "run_control": {
     "frozen": false,
     "read_only": false
    }
   },
   "source": [
    "## do the same for the Milky Way. If your functions were create properly you should be able to reuse them seamlessly"
   ]
  },
  {
   "cell_type": "code",
   "execution_count": null,
   "metadata": {
    "colab": {
     "base_uri": "https://localhost:8080/",
     "height": 204
    },
    "colab_type": "code",
    "id": "GBdQHf3yMspP",
    "outputId": "187edc31-c704-4d60-d317-82177185b1da"
   },
   "outputs": [],
   "source": [
    "mw = (pd.read_csv('https://raw.githubusercontent.com/fedhere/DSPS/master/HW4/mw.csv', header = 1))\n",
    "mw.head()"
   ]
  },
  {
   "cell_type": "code",
   "execution_count": null,
   "metadata": {
    "colab": {},
    "colab_type": "code",
    "id": "XrT63FXfNElP"
   },
   "outputs": [],
   "source": [
    "mw = mw.rename(columns = {'R(kpc)': 'r',\n",
    "                            'V(km/s)': 'v',\n",
    "                            'St.dev.': 'dv',\n",
    "                            'St.error': 'err'})\n"
   ]
  },
  {
   "cell_type": "code",
   "execution_count": null,
   "metadata": {
    "colab": {
     "base_uri": "https://localhost:8080/",
     "height": 204
    },
    "colab_type": "code",
    "id": "0nve-xGYNNvJ",
    "outputId": "0d28744a-1665-4db5-cb98-bd0b6ffbc363"
   },
   "outputs": [],
   "source": [
    "mw.head()"
   ]
  },
  {
   "cell_type": "code",
   "execution_count": null,
   "metadata": {
    "colab": {
     "base_uri": "https://localhost:8080/",
     "height": 297
    },
    "colab_type": "code",
    "id": "a6GimTU5NTwP",
    "outputId": "3ca897d2-46fb-4406-de79-cfd47fc666c0"
   },
   "outputs": [],
   "source": [
    "mw.describe()"
   ]
  },
  {
   "cell_type": "code",
   "execution_count": null,
   "metadata": {
    "colab": {
     "base_uri": "https://localhost:8080/",
     "height": 34
    },
    "colab_type": "code",
    "id": "NVp9cJzv-Dic",
    "outputId": "9e13a3d6-8d01-4730-b548-9404ecedcaff"
   },
   "outputs": [],
   "source": [
    "mwsize = 53.5 * u.kiloparsec\n",
    "mwUncert = 12.5 * u.kiloparsec\n",
    "print('Physical size of the visible component of Andromeda: {:.1f}'.format(mwsize), '+/- {:.1f}'.format(mwUncert))"
   ]
  },
  {
   "cell_type": "code",
   "execution_count": null,
   "metadata": {
    "colab": {
     "base_uri": "https://localhost:8080/",
     "height": 34
    },
    "colab_type": "code",
    "id": "GEvxqNnTMImF",
    "outputId": "066bbbe5-f554-4294-9aae-c14a903d58d8"
   },
   "outputs": [],
   "source": [
    "getradii(mw, m31size/2, 3)"
   ]
  },
  {
   "cell_type": "code",
   "execution_count": null,
   "metadata": {
    "colab": {
     "base_uri": "https://localhost:8080/",
     "height": 295
    },
    "colab_type": "code",
    "id": "iLEmtjOsNiNb",
    "outputId": "cfc27e2b-8768-4f5f-ddbc-8e009e0cc413"
   },
   "outputs": [],
   "source": [
    "mwRadius = mwsize/2\n",
    "plotGal(mw, mwRadius)\n",
    "plt.title('Plot of Radius vs Velocity for Milky Way');"
   ]
  },
  {
   "cell_type": "markdown",
   "metadata": {
    "colab_type": "text",
    "id": "1ov3_6GDPvLn"
   },
   "source": [
    "**Figure 2:** This shows the velocity at given radii for the Milky Way. This also includes error bars. Just like what was seen with M31, the velocity does not decrease as it should according to Newton's law. This means there must be more matter than what we can see. "
   ]
  },
  {
   "cell_type": "code",
   "execution_count": null,
   "metadata": {
    "colab": {
     "base_uri": "https://localhost:8080/",
     "height": 714
    },
    "colab_type": "code",
    "id": "SvgAVuk1N6PJ",
    "outputId": "20455e9a-246f-429a-d4bc-cc9403227976"
   },
   "outputs": [],
   "source": [
    "printer(mw, mwsize, n)"
   ]
  },
  {
   "cell_type": "markdown",
   "metadata": {},
   "source": [
    "<span style=\"color:red\">**-0.1 pt: wrong function calling code**</span>"
   ]
  },
  {
   "cell_type": "markdown",
   "metadata": {},
   "source": [
    "<span style=\"color:red\">**Due to the code issue you cannot get the right conclusion**</span>"
   ]
  },
  {
   "cell_type": "markdown",
   "metadata": {
    "colab_type": "text",
    "id": "Wz-qo2QZw4lX"
   },
   "source": [
    "Just like M31, the results for the Milky Way show that the actual velocities are not the same as what is calculated with Newton's Law. This again has to do with mass that is not being accounted for -> Dark Matter!"
   ]
  }
 ],
 "metadata": {
  "colab": {
   "collapsed_sections": [],
   "include_colab_link": true,
   "name": "MWrotCurve_cHarty.ipynb",
   "provenance": []
  },
  "kernelspec": {
   "display_name": "Python 3",
   "language": "python",
   "name": "python3"
  },
  "language_info": {
   "codemirror_mode": {
    "name": "ipython",
    "version": 3
   },
   "file_extension": ".py",
   "mimetype": "text/x-python",
   "name": "python",
   "nbconvert_exporter": "python",
   "pygments_lexer": "ipython3",
   "version": "3.6.8"
  },
  "nbTranslate": {
   "displayLangs": [
    "*"
   ],
   "hotkey": "alt-t",
   "langInMainMenu": true,
   "sourceLang": "en",
   "targetLang": "fr",
   "useGoogleTranslate": true
  },
  "toc": {
   "base_numbering": 1,
   "colors": {
    "hover_highlight": "#DAA520",
    "running_highlight": "#FF0000",
    "selected_highlight": "#FFD700"
   },
   "moveMenuLeft": true,
   "nav_menu": {},
   "navigate_menu": true,
   "number_sections": true,
   "sideBar": true,
   "skip_h1_title": false,
   "threshold": 4,
   "title_cell": "Table of Contents",
   "title_sidebar": "Contents",
   "toc_cell": false,
   "toc_position": {
    "height": "calc(100% - 180px)",
    "left": "10px",
    "top": "150px",
    "width": "165px"
   },
   "toc_section_display": true,
   "toc_window_display": true
  }
 },
 "nbformat": 4,
 "nbformat_minor": 1
}
