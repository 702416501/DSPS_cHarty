{
  "nbformat": 4,
  "nbformat_minor": 0,
  "metadata": {
    "kernelspec": {
      "display_name": "Python 3",
      "language": "python",
      "name": "python3"
    },
    "language_info": {
      "codemirror_mode": {
        "name": "ipython",
        "version": 3
      },
      "file_extension": ".py",
      "mimetype": "text/x-python",
      "name": "python",
      "nbconvert_exporter": "python",
      "pygments_lexer": "ipython3",
      "version": "3.6.7"
    },
    "nbTranslate": {
      "displayLangs": [
        "*"
      ],
      "hotkey": "alt-t",
      "langInMainMenu": true,
      "sourceLang": "en",
      "targetLang": "fr",
      "useGoogleTranslate": true
    },
    "toc": {
      "base_numbering": 1,
      "colors": {
        "hover_highlight": "#DAA520",
        "running_highlight": "#FF0000",
        "selected_highlight": "#FFD700"
      },
      "moveMenuLeft": true,
      "nav_menu": {},
      "navigate_menu": true,
      "number_sections": true,
      "sideBar": true,
      "skip_h1_title": false,
      "threshold": 4,
      "title_cell": "Table of Contents",
      "title_sidebar": "Contents",
      "toc_cell": false,
      "toc_position": {
        "height": "calc(100% - 180px)",
        "left": "10px",
        "top": "150px",
        "width": "165px"
      },
      "toc_section_display": true,
      "toc_window_display": true
    },
    "colab": {
      "name": "MWrotCurve_cHarty.ipynb",
      "provenance": [],
      "collapsed_sections": [],
      "include_colab_link": true
    }
  },
  "cells": [
    {
      "cell_type": "markdown",
      "metadata": {
        "id": "view-in-github",
        "colab_type": "text"
      },
      "source": [
        "<a href=\"https://colab.research.google.com/github/cath19/DSPS_cHarty/blob/master/HW4/MWrotCurve_cHarty.ipynb\" target=\"_parent\"><img src=\"https://colab.research.google.com/assets/colab-badge.svg\" alt=\"Open In Colab\"/></a>"
      ]
    },
    {
      "cell_type": "markdown",
      "metadata": {
        "run_control": {
          "frozen": false,
          "read_only": false
        },
        "id": "rxa6Xa3jOdCI",
        "colab_type": "text"
      },
      "source": [
        "prepared by federica b bianco @fedhere\n",
        "for UDel DSPS PHYS 467/667\n",
        "\n",
        "Catherine Harty\n",
        "\n",
        "PHYS467\n",
        "\n",
        "HW4\n",
        "\n",
        "Worked with:\n",
        "\n",
        "\n",
        "\n",
        "# testing the significance of Dark Matter"
      ]
    },
    {
      "cell_type": "code",
      "metadata": {
        "ExecuteTime": {
          "end_time": "2019-09-16T17:54:57.244596Z",
          "start_time": "2019-09-16T17:54:57.231090Z"
        },
        "run_control": {
          "frozen": false,
          "read_only": false
        },
        "id": "Ya2RaOGbOdCJ",
        "colab_type": "code",
        "outputId": "24145f01-4d19-493b-8bf6-0b34b064e0ea",
        "colab": {
          "base_uri": "https://localhost:8080/",
          "height": 34
        }
      },
      "source": [
        "import pandas as pd\n",
        "import numpy as np\n",
        "import pylab as pl\n",
        "%pylab inline\n",
        "\n",
        "\n",
        "#package I will use for constants and units conversion \n",
        "import astropy\n",
        "\n"
      ],
      "execution_count": 2,
      "outputs": [
        {
          "output_type": "stream",
          "text": [
            "Populating the interactive namespace from numpy and matplotlib\n"
          ],
          "name": "stdout"
        }
      ]
    },
    {
      "cell_type": "markdown",
      "metadata": {
        "id": "4qp8A2TG1Gwb",
        "colab_type": "text"
      },
      "source": [
        "In 1970 Vera Rubin published a seminal paper: she measured the rotational speed of HII regions in several galaxies and how it changed as a function of distance to the center of the galaxy. If we believe Newtonian gravity (or GR) we expect that _once all of the mass is included_, i.e. at a radius distance from the center of the galaxy larger than the radius of the galaxy itself, the rotational speed will be proportional to $v\\propto\\frac{1}/{r}$"
      ]
    },
    {
      "cell_type": "markdown",
      "metadata": {
        "run_control": {
          "frozen": false,
          "read_only": false
        },
        "id": "j-BDrNseOdCR",
        "colab_type": "text"
      },
      "source": [
        "## Propagation of  uncertainties rules\n",
        "\n",
        "below are the basic rules for propagation of uncertainties - use [this as reference](https://github.com/fedhere/DSPS/blob/master/resources/Managing%20Errors%20and%20Uncertainty.pdf)"
      ]
    },
    {
      "cell_type": "markdown",
      "metadata": {
        "id": "iCrFipBzOzqp",
        "colab_type": "text"
      },
      "source": [
        "\n",
        "\n",
        "\n",
        "$$\n",
        "\\begin{eqnarray}\n",
        "z = x  \\pm y  ~| & ~  &dz = \\sqrt{dx^2 + dy^2} \n",
        "\\\\\n",
        "z = x * y  ~| & ~& dz = |xy|  \\sqrt{\\left(\\frac{dx}{x}\\right)^2 + \n",
        "                                \\left(\\frac{dy}{y}\\right)^2} \\\\\n",
        "z = x / y  ~| & ~& dz = \\left|\\frac{x}{y}\\right| \\sqrt{\\left(\\frac{dx}{x}\\right)^2 + \n",
        "                                                   \\left(\\frac{dy}{y}\\right)^2} \\\\\n",
        "z = x^n ~| & ~& dz = |n| ~ x^{n-1}  dx \\\\\n",
        "z = \\mathrm{c}x ~| & ~& dz = |\\mathrm{c}| ~dx \\\\\n",
        "z = f(x, y) ~| & ~& dz = \\sqrt{\\left(\\frac{\\partial f}{\\partial x}\\right)^2 dx^2 +\\left(\\frac{\\partial f}{\\partial y}\\right)^2 dy^2} \\\\\n",
        "\\end{eqnarray}\n",
        "$$\n"
      ]
    },
    {
      "cell_type": "markdown",
      "metadata": {
        "run_control": {
          "frozen": false,
          "read_only": false
        },
        "id": "WcF0zlWCOdCX",
        "colab_type": "text"
      },
      "source": [
        "# let's assume a Newtonian framework: \n",
        "the velocity of a body in orbit depends only on the gravitational field of the mass that attracts it, and we can assume that mass is concentrated in the center of mass of (the center for simplicity) the system\n",
        "\n",
        "with G the gravitational constant, $r$ the radius, and $m(r)$ the mass contained within that radius we have the orbital velocity $v$:\n"
      ]
    },
    {
      "cell_type": "markdown",
      "metadata": {
        "id": "ZON0DKl5Qm2S",
        "colab_type": "text"
      },
      "source": [
        "\n",
        "$v = \\sqrt{\\frac{G \\cdot m(r)}{r}}$\n"
      ]
    },
    {
      "cell_type": "markdown",
      "metadata": {
        "id": "lVfy9lJ21xMT",
        "colab_type": "text"
      },
      "source": [
        "Derive this $v\\propto\\frac{1}{\\sqrt{r}}$ from Newron's law $F~=~\\frac{GMm}{r^2}$. Write each formula and describe each step. You can use latex (you really just need to know ```\\frac{}``` and ```^```) and this reference\n",
        "https://www.physicsclassroom.com/calcpad/circgrav"
      ]
    },
    {
      "cell_type": "markdown",
      "metadata": {
        "id": "HEB7hQojuAQt",
        "colab_type": "text"
      },
      "source": [
        "$F$ = $\\frac{GMm}{r^2}$ Newton's law\n",
        "\n",
        "$F$ = $\\frac{Mv^2}{r}$  Centripetal force\n",
        "\n",
        "$\\frac{GMm}{r^2}$ = $\\frac{mv^2}{r}$ Set equal to one another\n",
        "\n",
        "${v^2}$ = $\\frac{GMmr}{Mr^2}$ Solve for ${v}$ \n",
        "\n",
        "${v^2}$ = $\\frac{Gm}{r}$\n",
        "\n",
        "${v}$ = $\\sqrt{\\frac{Gm}{r}}$\n",
        "\n",
        "Therefore, $v\\propto\\frac{1}{\\sqrt{r}}$"
      ]
    },
    {
      "cell_type": "markdown",
      "metadata": {
        "run_control": {
          "frozen": false,
          "read_only": false
        },
        "id": "KQAEJtWuOdCb",
        "colab_type": "text"
      },
      "source": [
        "## M31 rotational curve"
      ]
    },
    {
      "cell_type": "markdown",
      "metadata": {
        "ExecuteTime": {
          "end_time": "2019-08-02T01:34:15.029084Z",
          "start_time": "2019-08-02T01:34:15.026604Z"
        },
        "run_control": {
          "frozen": false,
          "read_only": false
        },
        "id": "BTaXzFYeOdCc",
        "colab_type": "text"
      },
      "source": [
        "### data ingestion\n",
        "( I store the original paper as a link on another computer now I have to find it again :-( - sorry I will updat the reference )\n",
        "\n",
        "Get the data from the github repository https://github.com/fedhere/DSPS/tree/master/HW4 : there are 2 files: mw.csv and m31.csv. Start with M31, the Andromeda galaxy, Vera Rubin's original target."
      ]
    },
    {
      "cell_type": "markdown",
      "metadata": {
        "id": "_iFrkUYEV1SS",
        "colab_type": "text"
      },
      "source": [
        "Note that the data contains 2 types of uncertainties: one significantly smaller than the other. The ```dv``` uncertainty is the propagation of the uncertainty in the location of the HII line. The uncertainty called ```err``` if the full error budget:  including _all_ sources of uncertainty and not just the uncertainty in measuring the location of the line. Retain both, you will test your hypothesis with each one to see if it matters which uncertainty you choose"
      ]
    },
    {
      "cell_type": "code",
      "metadata": {
        "id": "PFYBlhUjt8_e",
        "colab_type": "code",
        "colab": {}
      },
      "source": [
        "# your code here\n",
        "m31 = pd.read_csv('https://raw.githubusercontent.com/fedhere/DSPS/master/HW4/m31.csv', header = 1)"
      ],
      "execution_count": 0,
      "outputs": []
    },
    {
      "cell_type": "code",
      "metadata": {
        "id": "luL5UrsNQ1M1",
        "colab_type": "code",
        "outputId": "31b15470-2334-4ddb-fab0-d3e113af1d92",
        "colab": {
          "base_uri": "https://localhost:8080/",
          "height": 204
        }
      },
      "source": [
        "m31.head()"
      ],
      "execution_count": 5,
      "outputs": [
        {
          "output_type": "execute_result",
          "data": {
            "text/html": [
              "<div>\n",
              "<style scoped>\n",
              "    .dataframe tbody tr th:only-of-type {\n",
              "        vertical-align: middle;\n",
              "    }\n",
              "\n",
              "    .dataframe tbody tr th {\n",
              "        vertical-align: top;\n",
              "    }\n",
              "\n",
              "    .dataframe thead th {\n",
              "        text-align: right;\n",
              "    }\n",
              "</style>\n",
              "<table border=\"1\" class=\"dataframe\">\n",
              "  <thead>\n",
              "    <tr style=\"text-align: right;\">\n",
              "      <th></th>\n",
              "      <th>#R(kpc</th>\n",
              "      <th>V(km/s)</th>\n",
              "      <th>St.dev.</th>\n",
              "      <th>St.error</th>\n",
              "    </tr>\n",
              "  </thead>\n",
              "  <tbody>\n",
              "    <tr>\n",
              "      <th>0</th>\n",
              "      <td>0.100</td>\n",
              "      <td>183.939</td>\n",
              "      <td>0.000</td>\n",
              "      <td>0.000</td>\n",
              "    </tr>\n",
              "    <tr>\n",
              "      <th>1</th>\n",
              "      <td>0.120</td>\n",
              "      <td>190.710</td>\n",
              "      <td>10.265</td>\n",
              "      <td>12.191</td>\n",
              "    </tr>\n",
              "    <tr>\n",
              "      <th>2</th>\n",
              "      <td>0.144</td>\n",
              "      <td>204.141</td>\n",
              "      <td>22.634</td>\n",
              "      <td>21.808</td>\n",
              "    </tr>\n",
              "    <tr>\n",
              "      <th>3</th>\n",
              "      <td>0.173</td>\n",
              "      <td>207.601</td>\n",
              "      <td>4.573</td>\n",
              "      <td>4.200</td>\n",
              "    </tr>\n",
              "    <tr>\n",
              "      <th>4</th>\n",
              "      <td>0.207</td>\n",
              "      <td>210.188</td>\n",
              "      <td>3.943</td>\n",
              "      <td>3.258</td>\n",
              "    </tr>\n",
              "  </tbody>\n",
              "</table>\n",
              "</div>"
            ],
            "text/plain": [
              "   #R(kpc  V(km/s)  St.dev.  St.error\n",
              "0   0.100  183.939    0.000     0.000\n",
              "1   0.120  190.710   10.265    12.191\n",
              "2   0.144  204.141   22.634    21.808\n",
              "3   0.173  207.601    4.573     4.200\n",
              "4   0.207  210.188    3.943     3.258"
            ]
          },
          "metadata": {
            "tags": []
          },
          "execution_count": 5
        }
      ]
    },
    {
      "cell_type": "code",
      "metadata": {
        "id": "CioQ8XtyLtXu",
        "colab_type": "code",
        "colab": {}
      },
      "source": [
        "m31 = m31.rename(columns = {'#R(kpc': 'r',\n",
        "                            'V(km/s)': 'v',\n",
        "                            'St.dev.': 'dv',\n",
        "                            'St.error': 'err'})\n"
      ],
      "execution_count": 0,
      "outputs": []
    },
    {
      "cell_type": "code",
      "metadata": {
        "id": "YReUDV9sLipU",
        "colab_type": "code",
        "colab": {
          "base_uri": "https://localhost:8080/",
          "height": 204
        },
        "outputId": "94508363-9827-4811-b640-8668fa098658"
      },
      "source": [
        "m31.head()"
      ],
      "execution_count": 11,
      "outputs": [
        {
          "output_type": "execute_result",
          "data": {
            "text/html": [
              "<div>\n",
              "<style scoped>\n",
              "    .dataframe tbody tr th:only-of-type {\n",
              "        vertical-align: middle;\n",
              "    }\n",
              "\n",
              "    .dataframe tbody tr th {\n",
              "        vertical-align: top;\n",
              "    }\n",
              "\n",
              "    .dataframe thead th {\n",
              "        text-align: right;\n",
              "    }\n",
              "</style>\n",
              "<table border=\"1\" class=\"dataframe\">\n",
              "  <thead>\n",
              "    <tr style=\"text-align: right;\">\n",
              "      <th></th>\n",
              "      <th>r</th>\n",
              "      <th>v</th>\n",
              "      <th>dv</th>\n",
              "      <th>err</th>\n",
              "    </tr>\n",
              "  </thead>\n",
              "  <tbody>\n",
              "    <tr>\n",
              "      <th>0</th>\n",
              "      <td>0.100</td>\n",
              "      <td>183.939</td>\n",
              "      <td>0.000</td>\n",
              "      <td>0.000</td>\n",
              "    </tr>\n",
              "    <tr>\n",
              "      <th>1</th>\n",
              "      <td>0.120</td>\n",
              "      <td>190.710</td>\n",
              "      <td>10.265</td>\n",
              "      <td>12.191</td>\n",
              "    </tr>\n",
              "    <tr>\n",
              "      <th>2</th>\n",
              "      <td>0.144</td>\n",
              "      <td>204.141</td>\n",
              "      <td>22.634</td>\n",
              "      <td>21.808</td>\n",
              "    </tr>\n",
              "    <tr>\n",
              "      <th>3</th>\n",
              "      <td>0.173</td>\n",
              "      <td>207.601</td>\n",
              "      <td>4.573</td>\n",
              "      <td>4.200</td>\n",
              "    </tr>\n",
              "    <tr>\n",
              "      <th>4</th>\n",
              "      <td>0.207</td>\n",
              "      <td>210.188</td>\n",
              "      <td>3.943</td>\n",
              "      <td>3.258</td>\n",
              "    </tr>\n",
              "  </tbody>\n",
              "</table>\n",
              "</div>"
            ],
            "text/plain": [
              "       r        v      dv     err\n",
              "0  0.100  183.939   0.000   0.000\n",
              "1  0.120  190.710  10.265  12.191\n",
              "2  0.144  204.141  22.634  21.808\n",
              "3  0.173  207.601   4.573   4.200\n",
              "4  0.207  210.188   3.943   3.258"
            ]
          },
          "metadata": {
            "tags": []
          },
          "execution_count": 11
        }
      ]
    },
    {
      "cell_type": "code",
      "metadata": {
        "ExecuteTime": {
          "end_time": "2019-08-02T01:35:26.395158Z",
          "start_time": "2019-08-02T01:35:26.373338Z"
        },
        "run_control": {
          "frozen": false,
          "read_only": false
        },
        "id": "QsNRokb1OdCh",
        "colab_type": "code",
        "outputId": "bc35ad35-b4bb-428e-84cf-b213c07e9f17",
        "colab": {
          "base_uri": "https://localhost:8080/",
          "height": 297
        }
      },
      "source": [
        "m31.describe()"
      ],
      "execution_count": 12,
      "outputs": [
        {
          "output_type": "execute_result",
          "data": {
            "text/html": [
              "<div>\n",
              "<style scoped>\n",
              "    .dataframe tbody tr th:only-of-type {\n",
              "        vertical-align: middle;\n",
              "    }\n",
              "\n",
              "    .dataframe tbody tr th {\n",
              "        vertical-align: top;\n",
              "    }\n",
              "\n",
              "    .dataframe thead th {\n",
              "        text-align: right;\n",
              "    }\n",
              "</style>\n",
              "<table border=\"1\" class=\"dataframe\">\n",
              "  <thead>\n",
              "    <tr style=\"text-align: right;\">\n",
              "      <th></th>\n",
              "      <th>r</th>\n",
              "      <th>v</th>\n",
              "      <th>dv</th>\n",
              "      <th>err</th>\n",
              "    </tr>\n",
              "  </thead>\n",
              "  <tbody>\n",
              "    <tr>\n",
              "      <th>count</th>\n",
              "      <td>55.000000</td>\n",
              "      <td>55.000000</td>\n",
              "      <td>55.000000</td>\n",
              "      <td>55.000000</td>\n",
              "    </tr>\n",
              "    <tr>\n",
              "      <th>mean</th>\n",
              "      <td>205.853182</td>\n",
              "      <td>226.079255</td>\n",
              "      <td>55.034818</td>\n",
              "      <td>16.165855</td>\n",
              "    </tr>\n",
              "    <tr>\n",
              "      <th>std</th>\n",
              "      <td>415.523904</td>\n",
              "      <td>42.799892</td>\n",
              "      <td>49.254792</td>\n",
              "      <td>14.876951</td>\n",
              "    </tr>\n",
              "    <tr>\n",
              "      <th>min</th>\n",
              "      <td>0.100000</td>\n",
              "      <td>121.974000</td>\n",
              "      <td>0.000000</td>\n",
              "      <td>0.000000</td>\n",
              "    </tr>\n",
              "    <tr>\n",
              "      <th>25%</th>\n",
              "      <td>1.177000</td>\n",
              "      <td>208.894500</td>\n",
              "      <td>11.945500</td>\n",
              "      <td>3.224000</td>\n",
              "    </tr>\n",
              "    <tr>\n",
              "      <th>50%</th>\n",
              "      <td>13.737000</td>\n",
              "      <td>229.124000</td>\n",
              "      <td>30.697000</td>\n",
              "      <td>12.065000</td>\n",
              "    </tr>\n",
              "    <tr>\n",
              "      <th>75%</th>\n",
              "      <td>161.675000</td>\n",
              "      <td>244.102500</td>\n",
              "      <td>99.980000</td>\n",
              "      <td>23.641000</td>\n",
              "    </tr>\n",
              "    <tr>\n",
              "      <th>max</th>\n",
              "      <td>1887.071000</td>\n",
              "      <td>414.942000</td>\n",
              "      <td>147.835000</td>\n",
              "      <td>54.110000</td>\n",
              "    </tr>\n",
              "  </tbody>\n",
              "</table>\n",
              "</div>"
            ],
            "text/plain": [
              "                 r           v          dv        err\n",
              "count    55.000000   55.000000   55.000000  55.000000\n",
              "mean    205.853182  226.079255   55.034818  16.165855\n",
              "std     415.523904   42.799892   49.254792  14.876951\n",
              "min       0.100000  121.974000    0.000000   0.000000\n",
              "25%       1.177000  208.894500   11.945500   3.224000\n",
              "50%      13.737000  229.124000   30.697000  12.065000\n",
              "75%     161.675000  244.102500   99.980000  23.641000\n",
              "max    1887.071000  414.942000  147.835000  54.110000"
            ]
          },
          "metadata": {
            "tags": []
          },
          "execution_count": 12
        }
      ]
    },
    {
      "cell_type": "markdown",
      "metadata": {
        "run_control": {
          "frozen": false,
          "read_only": false
        },
        "id": "Vv0Ut6vOOdCk",
        "colab_type": "text"
      },
      "source": [
        "from https://en.wikipedia.org/wiki/Andromeda_Galaxy get the extent of the luminous component of M31 (Andromeda). The distance of the Galaxy multiplied by the angular size will give you this information from basic trigonometry (make sure you convert the units properly, using astropy). Make sure you include the uncertainties! uncertainties in the distance will give you the uncertainty in the size\n",
        "   \n",
        " "
      ]
    },
    {
      "cell_type": "code",
      "metadata": {
        "id": "kvIFr6D778ri",
        "colab_type": "code",
        "colab": {}
      },
      "source": [
        "apparentSizeM31 = 3.167 #deg\n",
        "distanceM31 = 778 #kpc\n",
        "distanceUncertainty = 33 #kpc\n"
      ],
      "execution_count": 0,
      "outputs": []
    },
    {
      "cell_type": "code",
      "metadata": {
        "ExecuteTime": {
          "end_time": "2019-08-02T01:35:41.413407Z",
          "start_time": "2019-08-02T01:35:41.408764Z"
        },
        "run_control": {
          "frozen": false,
          "read_only": false
        },
        "id": "tzGNh98hOdCl",
        "colab_type": "code",
        "outputId": "db8d5775-2847-4e53-ad7e-1d3ea3561545",
        "colab": {
          "base_uri": "https://localhost:8080/",
          "height": 34
        }
      },
      "source": [
        "# note : by PEP8 standards the import should be at the top, I leave it here for hyou to see that I am using astropy.units now\n",
        "from astropy import units as u\n",
        "m31angS = apparentSizeM31 * u.degree\n",
        "print(\"Angular Size of the visible component of Andromeda: {:.2f}\".format(m31angS.to(u.rad)  ))"
      ],
      "execution_count": 14,
      "outputs": [
        {
          "output_type": "stream",
          "text": [
            "Angular Size of the visible component of Andromeda: 0.06 rad\n"
          ],
          "name": "stdout"
        }
      ]
    },
    {
      "cell_type": "markdown",
      "metadata": {
        "id": "cOw0Y4KNWTOZ",
        "colab_type": "text"
      },
      "source": [
        "Please make sure you print a sensible number of decimal digits! you have a  number of significant digits set by the number of digit in the info you get from wikipedia"
      ]
    },
    {
      "cell_type": "markdown",
      "metadata": {
        "id": "hF2wXZ988QgS",
        "colab_type": "text"
      },
      "source": [
        "The distance, from Wikipedia, will have an uncertainty. Convert both to kiloparsecs Kpc"
      ]
    },
    {
      "cell_type": "code",
      "metadata": {
        "ExecuteTime": {
          "end_time": "2019-08-02T01:35:42.257553Z",
          "start_time": "2019-08-02T01:35:42.254539Z"
        },
        "run_control": {
          "frozen": false,
          "read_only": false
        },
        "id": "7-nEP6KrOdCo",
        "colab_type": "code",
        "colab": {}
      },
      "source": [
        "# your code here\n",
        "m31dist = distanceM31 * u.kiloparsec\n",
        "m31distUncert = distanceUncertainty * u.kiloparsec\n",
        "\n",
        "#find size\n",
        "m31size = (m31angS.to(u.rad) * m31dist)/ u.rad\n",
        "m31sizeUncert = (m31angS.to(u.rad) * m31distUncert)/ u.rad"
      ],
      "execution_count": 0,
      "outputs": []
    },
    {
      "cell_type": "code",
      "metadata": {
        "ExecuteTime": {
          "end_time": "2019-08-02T01:35:42.815232Z",
          "start_time": "2019-08-02T01:35:42.810316Z"
        },
        "run_control": {
          "frozen": false,
          "read_only": false
        },
        "id": "0y_V9AuFOdCv",
        "colab_type": "code",
        "outputId": "59f66ec2-e47b-4249-c14f-6752e157579e",
        "colab": {
          "base_uri": "https://localhost:8080/",
          "height": 51
        }
      },
      "source": [
        "# your code here\n",
        "print('Physical size of the visible component of Andromeda: {:.1f}'.format(m31size), '+/- {:.1f}'.format(m31sizeUncert))\n",
        "print('Distance of the visible component of Andromeda: {:.0f}'.format(m31dist), '+/- {:.0f}'.format(m31distUncert))"
      ],
      "execution_count": 45,
      "outputs": [
        {
          "output_type": "stream",
          "text": [
            "Physical size of the visible component of Andromeda: 43.0 kpc +/- 1.8 kpc\n",
            "Distance of the visible component of Andromeda: 778 kpc +/- 33 kpc\n"
          ],
          "name": "stdout"
        }
      ]
    },
    {
      "cell_type": "markdown",
      "metadata": {
        "id": "_pTXgdTL8jv6",
        "colab_type": "text"
      },
      "source": [
        "Print the distance like I printed the angular size. \n",
        "\n",
        "To get the physical size of the visible component of andtomeda you can use simple trigonometry: $y = r * sin(\\alpha) ~ \\sim ~ r \\alpha $ for small angles \n",
        "\n",
        "\n",
        "Print the physical size of the Andromeda galaxy (remember decimal digits, proper formatting etc etc). \n"
      ]
    },
    {
      "cell_type": "markdown",
      "metadata": {
        "run_control": {
          "frozen": false,
          "read_only": false
        },
        "id": "97o52hRhOdCy",
        "colab_type": "text"
      },
      "source": [
        "### find the first measurement  in your data table that includes all the luminous mass. \n",
        "\n",
        "What is the smallest radius in your data where the luminous mass is completely included and what is the veolcity at that radius?\n",
        "You can do it by broadcasting (see homework 3)"
      ]
    },
    {
      "cell_type": "markdown",
      "metadata": {
        "run_control": {
          "frozen": false,
          "read_only": false
        },
        "id": "TVWiU84XOdDA",
        "colab_type": "text"
      },
      "source": [
        "We expect the velocity to decrease as $\\frac{1}{\\sqrt{r}}$ if all mass is included: the velocity at a radius twice as far as the radius that includes all the mass should be a factor 2 slower, three times as far a factor 3 slower. "
      ]
    },
    {
      "cell_type": "markdown",
      "metadata": {
        "id": "b096Ax33SiXl",
        "colab_type": "text"
      },
      "source": [
        "write a function that \n",
        "\n",
        "1. finds the smallest radius in the dataset that is at least N times the radius of the visible galaxy, \n",
        "\n",
        "2. takes as arguments:\n",
        "    - the data and \n",
        "    - N \n",
        "    - the size of the luminous component of the galaxy\n",
        " \n",
        "2. Returns the value of the radius and its uncertainty and the velocity and its uncertainty"
      ]
    },
    {
      "cell_type": "code",
      "metadata": {
        "ExecuteTime": {
          "end_time": "2019-08-02T02:07:26.053511Z",
          "start_time": "2019-08-02T02:07:26.046677Z"
        },
        "run_control": {
          "frozen": false,
          "read_only": false
        },
        "id": "-_O34Bb7OdC2",
        "colab_type": "code",
        "colab": {
          "base_uri": "https://localhost:8080/",
          "height": 34
        },
        "outputId": "06921b9f-5068-4ed2-906f-554d29129698"
      },
      "source": [
        "def getradii(gal, gsize, n):\n",
        "  #  Finds the smallest radius in the given data where the luminous mass is completely included.\n",
        "  #  It also finds the velocity at that radius\n",
        "   \n",
        "  #  Parameters: \n",
        "  #  gal (object): the galaxy's data \n",
        "  #  gsize (object): the size of the luminous component of the galaxy\n",
        "  #  n (int): number\n",
        "  \n",
        "  #  Returns: \n",
        "  #  radius (float): smallest radius \n",
        "  #  radiusUncert (object): uncertainty of the radius\n",
        "  #  velocity(float): the velocity at radiusSmall\n",
        "  #  velocityUncert (object): uncertainty of the velocity\n",
        "  #  stderror (pandas.core.series.Series): error bar location\n",
        "  \n",
        "  radius, velocity, velocityUncert, stderror = gal[gal['r'] >  n * gsize].iloc[0] #which data to keep\n",
        " \n",
        "  #using the uncertainty rules above\n",
        "  radiusUncert = abs(-2) * pow(velocity, -3) * velocityUncert\n",
        "  \n",
        "  return radius, radiusUncert, velocity, velocityUncert, stderror\n",
        "  \n",
        "getradii(m31, m31size, 3)"
      ],
      "execution_count": 73,
      "outputs": [
        {
          "output_type": "execute_result",
          "data": {
            "text/plain": [
              "(146.977, 2.9230234193659687e-05, 177.521, 81.762, 16.662)"
            ]
          },
          "metadata": {
            "tags": []
          },
          "execution_count": 73
        }
      ]
    },
    {
      "cell_type": "markdown",
      "metadata": {
        "ExecuteTime": {
          "end_time": "2019-08-01T18:13:58.231637Z",
          "start_time": "2019-08-01T18:13:58.229447Z"
        },
        "run_control": {
          "frozen": false,
          "read_only": false
        },
        "id": "ogu_iquzOdC5",
        "colab_type": "text"
      },
      "source": [
        "### data visualization"
      ]
    },
    {
      "cell_type": "markdown",
      "metadata": {
        "id": "kJ6MujVJUyel",
        "colab_type": "text"
      },
      "source": [
        "make a plot that shows\n",
        "\n",
        "1. the rotational curve of the galaxy (as a line)\n",
        "\n",
        "2. each velocity as an errorbar with error equal to err in the same color as the line in 1\n",
        "\n",
        "3. each velocity as an errorbar with error equal to dv in  the same color but a different line thickness\n",
        "\n",
        "\n",
        "4. the datapoint corresponding to N=1, 2, 3 each in a different color. \n",
        "\n",
        "5. add a legend that indicates the meaning of each color (```pl.legend()```)\n",
        "\n",
        "6. add a text that indicates the velocity and its uncertainty (dv and err) just below the largest errorbar (```pl.text()```)\n",
        "\n",
        "7. limit the x axis to the \"relevant\" portion of the data"
      ]
    },
    {
      "cell_type": "code",
      "metadata": {
        "ExecuteTime": {
          "end_time": "2019-08-02T03:01:27.556063Z",
          "start_time": "2019-08-02T03:01:27.302184Z"
        },
        "run_control": {
          "frozen": false,
          "read_only": false
        },
        "id": "7IMXYY8BOdC6",
        "colab_type": "code",
        "outputId": "214df571-54af-4817-d2df-ede23db4419b",
        "colab": {
          "base_uri": "https://localhost:8080/",
          "height": 295
        }
      },
      "source": [
        "def plotGal(gal, rds):\n",
        "  #  Plots the rotational curve of the galaxy and the error bars\n",
        "  \n",
        "  #  Parameters: \n",
        "  #  gal (object): the galaxy's data \n",
        "  #  rds (object): given radius \n",
        "  \n",
        "  #  Returns: \n",
        "  #  None\n",
        "  \n",
        "  plt.errorbar(gal['r'], gal['v'], xerr=0, yerr=gal['err'], c='C0', linewidth=2.5, label=None)\n",
        "  plt.errorbar(gal['r'], gal['v'], xerr=0, yerr=gal['dv'], c='C0', linewidth=1.5, label='velocity')\n",
        "  \n",
        "  colors = ['C1', 'C2', 'C3']\n",
        "  for n in range(1, 4):\n",
        "    radius, radiusUncert, velocity, velocityUncert, stderror = getradii(gal, rds, n)\n",
        "    plt.errorbar(radius, velocity, yerr = velocityUncert, linewidth=2, c=colors[n-1], label=(str(n)+' x radius'))\n",
        "    plt.errorbar(radius, velocity, yerr = stderror, linewidth=2.5, c='k')\n",
        "    plt.text(radius - 10, velocity - velocityUncert - 25, '%.1f' % velocity)\n",
        "    plt.text(radius - 20, velocity - velocityUncert - 50, '(%.1f %.1f)' % (velocityUncert, stderror))\n",
        "    \n",
        "    plt.title('Plot of Radius vs Velocity for M31')\n",
        "    plt.xlabel('Radius (kpc)')\n",
        "    plt.ylabel('Velocity (km/s)')\n",
        "    \n",
        "    \n",
        "  plt.legend()\n",
        "  \n",
        "  plt.xlim(0, 200)\n",
        "  plt.ylim(0, 500)\n",
        "  \n",
        "  \n",
        "m31Radius = m31size\n",
        "plotGal(m31, m31Radius)\n",
        "  "
      ],
      "execution_count": 74,
      "outputs": [
        {
          "output_type": "display_data",
          "data": {
            "image/png": "[encoded data removed]",
            "text/plain": [
              "<Figure size 432x288 with 1 Axes>"
            ]
          },
          "metadata": {
            "tags": []
          }
        }
      ]
    },
    {
      "cell_type": "markdown",
      "metadata": {
        "id": "94W21Y0GC_0o",
        "colab_type": "text"
      },
      "source": [
        "**Figure 1:** This shows the velocity at given radii for M31. Note how the velocity does not decrease as  $v\\propto 1/\\sqrt{r}$."
      ]
    },
    {
      "cell_type": "markdown",
      "metadata": {
        "id": "bIbv3YrhTo0X",
        "colab_type": "text"
      },
      "source": [
        "Write a function that for a given dataset and a given luminous radius and a given N \n",
        "  \n",
        "  1) uses the function above to find the radius at least as large as needed and the velocity at that radius, \n",
        "  \n",
        "  2) states the expected drop in rotational velocities according to Newton's law $v\\propto 1/\\sqrt{r}$\n",
        "  \n",
        "  3) calculates the ratio of radii and the ratio of velocities at N radii from the center N=1 and N=N (input, e.g. 2, 3 etc) with uncertainties, \n",
        "  \n",
        "  4) and stated whether that ratio is consistent within the uncertainties with Newton's law $v \\propto 1/\\sqrt{r}$\n",
        "  \n",
        "Your function should print \n",
        "\n",
        "     - the expected ratio based on the radii, \n",
        "     - the calculated ratio using ```dv```, and its uncertainty, - \n",
        "     - the 3-$\\sigma$ upper and lower limits of the calculated ratio\n",
        "     - whether the expected ratio is within the $3-\\sigma$ of the calculated ratio, \n",
        "  5) and the same using ```err```  instead of ```dv```"
      ]
    },
    {
      "cell_type": "code",
      "metadata": {
        "ExecuteTime": {
          "end_time": "2019-08-02T02:22:18.485172Z",
          "start_time": "2019-08-02T02:22:18.477807Z"
        },
        "run_control": {
          "frozen": false,
          "read_only": false
        },
        "id": "1hhTw8N4OdDB",
        "colab_type": "code",
        "colab": {
          "base_uri": "https://localhost:8080/",
          "height": 714
        },
        "outputId": "dc631c9a-2f54-4ecd-ceb7-81dc2e2b5714"
      },
      "source": [
        "import scipy.constants as sp\n",
        "\n",
        "\n",
        "def vratios(gal, rds, n, err='velocityUncert'):\n",
        "  #  Uses the function getradii(gal, gsize, n) to find the radius needed and the velocity at that radius\n",
        "  #  It also states the expected drop in rotational velocities according to Newton's Law\n",
        "  #  It then calculates the ratio of the radii and the ratio of the velocities at N radii from the center, along with its uncertainties\n",
        "  #  It then states whether the ratio is consistent with the uncertainties with Newton's Law\n",
        "  \n",
        "  #  Parameters: \n",
        "  #  gal (object): the galaxy's data \n",
        "  #  rds (object): given radius \n",
        "  #  rd (int): given number\n",
        "  #  err\n",
        "  \n",
        "  #  Returns: \n",
        "  #  None\n",
        "  \n",
        "  initialRadius, initialVelocity = gal.iloc[0][:2]\n",
        "  radius, radiusUncert, velocity, velocityUncert, stderror = getradii(gal, rds, n)\n",
        "  if err == 'stderror':\n",
        "    velocityUncert = stderror\n",
        "  \n",
        "  rRatio = radius / initialRadius\n",
        "  expectedVelocity = initialVelocity/(rRatio)**0.5\n",
        "  expectedRatio = initialVelocity / expectedVelocity\n",
        "  \n",
        "  upperLimit = velocity + 2*velocityUncert\n",
        "  lowerLimit = velocity - 2*velocityUncert\n",
        "  \n",
        "  upperRatio =  initialVelocity / max(lowerLimit, 4)\n",
        "  lowerRatio =  initialVelocity / upperLimit\n",
        "  \n",
        "  #print('Initial: %.1f \\t Final: %.1f ' % (initialRadius, initialVelocity))\n",
        "  print(\"The expected velocity based on the radius is %.1f\" % expectedVelocity)\n",
        "  print(\"The actual velocity is %.1f \\u00B1 %.1f\" % (velocity, 2*velocityUncert))\n",
        "  print(\"The expected expected ratio based on the radius is %.1f\" % expectedRatio)  \n",
        "  print('The 2-\\u03C3 lower and upper limits for the calculated ratio are (%.1f, %.1f)' % (lowerRatio, upperRatio))\n",
        "  message = \"IS NOT\"\n",
        "  if (lowerRatio < expectedRatio < upperRatio):\n",
        "    message = \"IS\"\n",
        "  print(\"The expected ratio\", message, \"within 2-\\u03C3 of the calculated ratio\")\n",
        "  \n",
        "  \n",
        "print(\"\\033[1mUsing the Standard Deviation\\033[0m\\n\")\n",
        "for n in range(1, 4):\n",
        "  vratios(m31, m31size, n)\n",
        "  print()\n",
        "  \n",
        "print(\"---------------------------------------------------------------------------------------------------\")\n",
        "print(\"\\033[1mUsing the Standard Error\\033[0m\\n\")\n",
        "for n in range(1, 4):\n",
        "  vratios(m31, m31size, n, 'stderror')\n",
        "  print()"
      ],
      "execution_count": 77,
      "outputs": [
        {
          "output_type": "stream",
          "text": [
            "\u001b[1mUsing the Standard Deviation\u001b[0m\n",
            "\n",
            "The expected velocity based on the radius is 8.3\n",
            "The actual velocity is 237.1 ± 218.8\n",
            "The expected expected ratio based on the radius is 22.2\n",
            "The 2-σ lower and upper limits for the calculated ratio are (0.4, 10.0)\n",
            "The expected ratio IS NOT within 2-σ of the calculated ratio\n",
            "\n",
            "The expected velocity based on the radius is 5.8\n",
            "The actual velocity is 213.0 ± 264.9\n",
            "The expected expected ratio based on the radius is 31.9\n",
            "The 2-σ lower and upper limits for the calculated ratio are (0.4, 46.0)\n",
            "The expected ratio IS within 2-σ of the calculated ratio\n",
            "\n",
            "The expected velocity based on the radius is 4.8\n",
            "The actual velocity is 177.5 ± 163.5\n",
            "The expected expected ratio based on the radius is 38.3\n",
            "The 2-σ lower and upper limits for the calculated ratio are (0.5, 13.1)\n",
            "The expected ratio IS NOT within 2-σ of the calculated ratio\n",
            "\n",
            "---------------------------------------------------------------------------------------------------\n",
            "\u001b[1mUsing the Standard Error\u001b[0m\n",
            "\n",
            "The expected velocity based on the radius is 8.3\n",
            "The actual velocity is 237.1 ± 47.8\n",
            "The expected expected ratio based on the radius is 22.2\n",
            "The 2-σ lower and upper limits for the calculated ratio are (0.6, 1.0)\n",
            "The expected ratio IS NOT within 2-σ of the calculated ratio\n",
            "\n",
            "The expected velocity based on the radius is 5.8\n",
            "The actual velocity is 213.0 ± 58.6\n",
            "The expected expected ratio based on the radius is 31.9\n",
            "The 2-σ lower and upper limits for the calculated ratio are (0.7, 1.2)\n",
            "The expected ratio IS NOT within 2-σ of the calculated ratio\n",
            "\n",
            "The expected velocity based on the radius is 4.8\n",
            "The actual velocity is 177.5 ± 33.3\n",
            "The expected expected ratio based on the radius is 38.3\n",
            "The 2-σ lower and upper limits for the calculated ratio are (0.9, 1.3)\n",
            "The expected ratio IS NOT within 2-σ of the calculated ratio\n",
            "\n"
          ],
          "name": "stdout"
        }
      ]
    },
    {
      "cell_type": "markdown",
      "metadata": {
        "ExecuteTime": {
          "end_time": "2019-08-02T00:36:41.637045Z",
          "start_time": "2019-08-02T00:36:41.634825Z"
        },
        "run_control": {
          "frozen": false,
          "read_only": false
        },
        "id": "6me5k4c1OdDY",
        "colab_type": "text"
      },
      "source": [
        "### Discuss!"
      ]
    },
    {
      "cell_type": "markdown",
      "metadata": {
        "id": "A0UEyBK0QWy9",
        "colab_type": "text"
      },
      "source": [
        "The points tested were not within 2σ of the calculated ratio. This helps to prove that velocity does NOT scale as $1/\\sqrt{r}$ as it should according to Newton's Law. This means that there must be mass that we cannot detect and is therefore not being accounted for."
      ]
    },
    {
      "cell_type": "markdown",
      "metadata": {
        "run_control": {
          "frozen": false,
          "read_only": false
        },
        "id": "QIHRn8UlOdDZ",
        "colab_type": "text"
      },
      "source": [
        "## do the same for the Milky Way. If your functions were create properly you should be able to reuse them seamlessly"
      ]
    },
    {
      "cell_type": "code",
      "metadata": {
        "id": "GBdQHf3yMspP",
        "colab_type": "code",
        "colab": {
          "base_uri": "https://localhost:8080/",
          "height": 204
        },
        "outputId": "293bc96c-ee40-4e68-a14b-384152e79c41"
      },
      "source": [
        "mw = (pd.read_csv('https://raw.githubusercontent.com/fedhere/DSPS/master/HW4/mw.csv', header = 1))\n",
        "mw.head()"
      ],
      "execution_count": 87,
      "outputs": [
        {
          "output_type": "execute_result",
          "data": {
            "text/html": [
              "<div>\n",
              "<style scoped>\n",
              "    .dataframe tbody tr th:only-of-type {\n",
              "        vertical-align: middle;\n",
              "    }\n",
              "\n",
              "    .dataframe tbody tr th {\n",
              "        vertical-align: top;\n",
              "    }\n",
              "\n",
              "    .dataframe thead th {\n",
              "        text-align: right;\n",
              "    }\n",
              "</style>\n",
              "<table border=\"1\" class=\"dataframe\">\n",
              "  <thead>\n",
              "    <tr style=\"text-align: right;\">\n",
              "      <th></th>\n",
              "      <th>R(kpc)</th>\n",
              "      <th>V(km/s)</th>\n",
              "      <th>St.dev.</th>\n",
              "      <th>St.error</th>\n",
              "    </tr>\n",
              "  </thead>\n",
              "  <tbody>\n",
              "    <tr>\n",
              "      <th>0</th>\n",
              "      <td>0.010</td>\n",
              "      <td>119.061</td>\n",
              "      <td>41.832</td>\n",
              "      <td>32.714</td>\n",
              "    </tr>\n",
              "    <tr>\n",
              "      <th>1</th>\n",
              "      <td>0.012</td>\n",
              "      <td>115.268</td>\n",
              "      <td>35.199</td>\n",
              "      <td>17.100</td>\n",
              "    </tr>\n",
              "    <tr>\n",
              "      <th>2</th>\n",
              "      <td>0.014</td>\n",
              "      <td>117.392</td>\n",
              "      <td>35.152</td>\n",
              "      <td>14.429</td>\n",
              "    </tr>\n",
              "    <tr>\n",
              "      <th>3</th>\n",
              "      <td>0.017</td>\n",
              "      <td>118.475</td>\n",
              "      <td>35.252</td>\n",
              "      <td>14.870</td>\n",
              "    </tr>\n",
              "    <tr>\n",
              "      <th>4</th>\n",
              "      <td>0.021</td>\n",
              "      <td>110.386</td>\n",
              "      <td>33.817</td>\n",
              "      <td>14.427</td>\n",
              "    </tr>\n",
              "  </tbody>\n",
              "</table>\n",
              "</div>"
            ],
            "text/plain": [
              "   R(kpc)  V(km/s)  St.dev.  St.error\n",
              "0   0.010  119.061   41.832    32.714\n",
              "1   0.012  115.268   35.199    17.100\n",
              "2   0.014  117.392   35.152    14.429\n",
              "3   0.017  118.475   35.252    14.870\n",
              "4   0.021  110.386   33.817    14.427"
            ]
          },
          "metadata": {
            "tags": []
          },
          "execution_count": 87
        }
      ]
    },
    {
      "cell_type": "code",
      "metadata": {
        "id": "XrT63FXfNElP",
        "colab_type": "code",
        "colab": {}
      },
      "source": [
        "mw = mw.rename(columns = {'R(kpc)': 'r',\n",
        "                            'V(km/s)': 'v',\n",
        "                            'St.dev.': 'dv',\n",
        "                            'St.error': 'err'})\n"
      ],
      "execution_count": 0,
      "outputs": []
    },
    {
      "cell_type": "code",
      "metadata": {
        "id": "0nve-xGYNNvJ",
        "colab_type": "code",
        "colab": {
          "base_uri": "https://localhost:8080/",
          "height": 204
        },
        "outputId": "d2cf0d0a-20cd-4e12-bce4-f8cbe4caebd6"
      },
      "source": [
        "mw.head()"
      ],
      "execution_count": 96,
      "outputs": [
        {
          "output_type": "execute_result",
          "data": {
            "text/html": [
              "<div>\n",
              "<style scoped>\n",
              "    .dataframe tbody tr th:only-of-type {\n",
              "        vertical-align: middle;\n",
              "    }\n",
              "\n",
              "    .dataframe tbody tr th {\n",
              "        vertical-align: top;\n",
              "    }\n",
              "\n",
              "    .dataframe thead th {\n",
              "        text-align: right;\n",
              "    }\n",
              "</style>\n",
              "<table border=\"1\" class=\"dataframe\">\n",
              "  <thead>\n",
              "    <tr style=\"text-align: right;\">\n",
              "      <th></th>\n",
              "      <th>r</th>\n",
              "      <th>v</th>\n",
              "      <th>dv</th>\n",
              "      <th>err</th>\n",
              "    </tr>\n",
              "  </thead>\n",
              "  <tbody>\n",
              "    <tr>\n",
              "      <th>0</th>\n",
              "      <td>0.010</td>\n",
              "      <td>119.061</td>\n",
              "      <td>41.832</td>\n",
              "      <td>32.714</td>\n",
              "    </tr>\n",
              "    <tr>\n",
              "      <th>1</th>\n",
              "      <td>0.012</td>\n",
              "      <td>115.268</td>\n",
              "      <td>35.199</td>\n",
              "      <td>17.100</td>\n",
              "    </tr>\n",
              "    <tr>\n",
              "      <th>2</th>\n",
              "      <td>0.014</td>\n",
              "      <td>117.392</td>\n",
              "      <td>35.152</td>\n",
              "      <td>14.429</td>\n",
              "    </tr>\n",
              "    <tr>\n",
              "      <th>3</th>\n",
              "      <td>0.017</td>\n",
              "      <td>118.475</td>\n",
              "      <td>35.252</td>\n",
              "      <td>14.870</td>\n",
              "    </tr>\n",
              "    <tr>\n",
              "      <th>4</th>\n",
              "      <td>0.021</td>\n",
              "      <td>110.386</td>\n",
              "      <td>33.817</td>\n",
              "      <td>14.427</td>\n",
              "    </tr>\n",
              "  </tbody>\n",
              "</table>\n",
              "</div>"
            ],
            "text/plain": [
              "       r        v      dv     err\n",
              "0  0.010  119.061  41.832  32.714\n",
              "1  0.012  115.268  35.199  17.100\n",
              "2  0.014  117.392  35.152  14.429\n",
              "3  0.017  118.475  35.252  14.870\n",
              "4  0.021  110.386  33.817  14.427"
            ]
          },
          "metadata": {
            "tags": []
          },
          "execution_count": 96
        }
      ]
    },
    {
      "cell_type": "code",
      "metadata": {
        "id": "a6GimTU5NTwP",
        "colab_type": "code",
        "colab": {
          "base_uri": "https://localhost:8080/",
          "height": 297
        },
        "outputId": "d160e575-3939-4bf5-a839-ee306e686173"
      },
      "source": [
        "mw.describe()"
      ],
      "execution_count": 97,
      "outputs": [
        {
          "output_type": "execute_result",
          "data": {
            "text/html": [
              "<div>\n",
              "<style scoped>\n",
              "    .dataframe tbody tr th:only-of-type {\n",
              "        vertical-align: middle;\n",
              "    }\n",
              "\n",
              "    .dataframe tbody tr th {\n",
              "        vertical-align: top;\n",
              "    }\n",
              "\n",
              "    .dataframe thead th {\n",
              "        text-align: right;\n",
              "    }\n",
              "</style>\n",
              "<table border=\"1\" class=\"dataframe\">\n",
              "  <thead>\n",
              "    <tr style=\"text-align: right;\">\n",
              "      <th></th>\n",
              "      <th>r</th>\n",
              "      <th>v</th>\n",
              "      <th>dv</th>\n",
              "      <th>err</th>\n",
              "    </tr>\n",
              "  </thead>\n",
              "  <tbody>\n",
              "    <tr>\n",
              "      <th>count</th>\n",
              "      <td>64.000000</td>\n",
              "      <td>64.000000</td>\n",
              "      <td>64.000000</td>\n",
              "      <td>64.000000</td>\n",
              "    </tr>\n",
              "    <tr>\n",
              "      <th>mean</th>\n",
              "      <td>142.281500</td>\n",
              "      <td>187.101219</td>\n",
              "      <td>48.249062</td>\n",
              "      <td>19.003297</td>\n",
              "    </tr>\n",
              "    <tr>\n",
              "      <th>std</th>\n",
              "      <td>348.144773</td>\n",
              "      <td>52.161901</td>\n",
              "      <td>41.255286</td>\n",
              "      <td>23.513466</td>\n",
              "    </tr>\n",
              "    <tr>\n",
              "      <th>min</th>\n",
              "      <td>0.010000</td>\n",
              "      <td>93.042000</td>\n",
              "      <td>3.370000</td>\n",
              "      <td>0.868000</td>\n",
              "    </tr>\n",
              "    <tr>\n",
              "      <th>25%</th>\n",
              "      <td>0.177250</td>\n",
              "      <td>138.676250</td>\n",
              "      <td>12.585500</td>\n",
              "      <td>2.709750</td>\n",
              "    </tr>\n",
              "    <tr>\n",
              "      <th>50%</th>\n",
              "      <td>3.133500</td>\n",
              "      <td>204.576000</td>\n",
              "      <td>35.288500</td>\n",
              "      <td>13.923000</td>\n",
              "    </tr>\n",
              "    <tr>\n",
              "      <th>75%</th>\n",
              "      <td>55.298250</td>\n",
              "      <td>235.920500</td>\n",
              "      <td>68.412750</td>\n",
              "      <td>24.791250</td>\n",
              "    </tr>\n",
              "    <tr>\n",
              "      <th>max</th>\n",
              "      <td>1682.532000</td>\n",
              "      <td>255.300000</td>\n",
              "      <td>165.096000</td>\n",
              "      <td>110.484000</td>\n",
              "    </tr>\n",
              "  </tbody>\n",
              "</table>\n",
              "</div>"
            ],
            "text/plain": [
              "                 r           v          dv         err\n",
              "count    64.000000   64.000000   64.000000   64.000000\n",
              "mean    142.281500  187.101219   48.249062   19.003297\n",
              "std     348.144773   52.161901   41.255286   23.513466\n",
              "min       0.010000   93.042000    3.370000    0.868000\n",
              "25%       0.177250  138.676250   12.585500    2.709750\n",
              "50%       3.133500  204.576000   35.288500   13.923000\n",
              "75%      55.298250  235.920500   68.412750   24.791250\n",
              "max    1682.532000  255.300000  165.096000  110.484000"
            ]
          },
          "metadata": {
            "tags": []
          },
          "execution_count": 97
        }
      ]
    },
    {
      "cell_type": "code",
      "metadata": {
        "id": "NVp9cJzv-Dic",
        "colab_type": "code",
        "colab": {
          "base_uri": "https://localhost:8080/",
          "height": 34
        },
        "outputId": "c38a3d5b-8cfc-43b9-fee4-74cae3ff6068"
      },
      "source": [
        "mwsize = 53.5 * u.kiloparsec\n",
        "mwUncert = 12.5 * u.kiloparsec\n",
        "print('Physical size of the visible component of Andromeda: {:.1f}'.format(mwsize), '+/- {:.1f}'.format(mwUncert))"
      ],
      "execution_count": 98,
      "outputs": [
        {
          "output_type": "stream",
          "text": [
            "Physical size of the visible component of Andromeda: 53.5 kpc +/- 12.5 kpc\n"
          ],
          "name": "stdout"
        }
      ]
    },
    {
      "cell_type": "code",
      "metadata": {
        "id": "GEvxqNnTMImF",
        "colab_type": "code",
        "colab": {
          "base_uri": "https://localhost:8080/",
          "height": 34
        },
        "outputId": "20999907-cdb9-42b8-86e9-b6dba58806fc"
      },
      "source": [
        "getradii(mw, m31size, 3)"
      ],
      "execution_count": 99,
      "outputs": [
        {
          "output_type": "execute_result",
          "data": {
            "text/plain": [
              "(131.047, 8.293625880064763e-05, 128.756, 88.515, 39.433)"
            ]
          },
          "metadata": {
            "tags": []
          },
          "execution_count": 99
        }
      ]
    },
    {
      "cell_type": "code",
      "metadata": {
        "id": "iLEmtjOsNiNb",
        "colab_type": "code",
        "colab": {
          "base_uri": "https://localhost:8080/",
          "height": 302
        },
        "outputId": "c5384eb6-843e-4b8b-9ca7-00f0cab1e2f3"
      },
      "source": [
        "mwRadius = mwsize\n",
        "plotGal(mw, mwRadius)\n",
        "plt.title('Plot of Radius vs Velocity for Milky Way');"
      ],
      "execution_count": 103,
      "outputs": [
        {
          "output_type": "display_data",
          "data": {
            "image/png": "[encoded data removed]",
            "text/plain": [
              "<Figure size 432x288 with 1 Axes>"
            ]
          },
          "metadata": {
            "tags": []
          }
        }
      ]
    },
    {
      "cell_type": "markdown",
      "metadata": {
        "id": "1ov3_6GDPvLn",
        "colab_type": "text"
      },
      "source": [
        ""
      ]
    },
    {
      "cell_type": "code",
      "metadata": {
        "id": "SvgAVuk1N6PJ",
        "colab_type": "code",
        "colab": {
          "base_uri": "https://localhost:8080/",
          "height": 714
        },
        "outputId": "222c1375-cf9c-418c-c747-fdcf5dd2c3fd"
      },
      "source": [
        "print(\"\\033[1mUsing the Standard Deviation\\033[0m\\n\")\n",
        "for n in range(1, 4):\n",
        "  vratios(mw, mw, n)\n",
        "  print()\n",
        "  \n",
        "print(\"---------------------------------------------------------------------------------------------------\")\n",
        "print(\"\\033[1mUsing the Standard Error\\033[0m\\n\")\n",
        "for n in range(1, 4):\n",
        "  vratios(mw, mw, n, 'stderror')\n",
        "  print()"
      ],
      "execution_count": 101,
      "outputs": [
        {
          "output_type": "stream",
          "text": [
            "\u001b[1mUsing the Standard Deviation\u001b[0m\n",
            "\n",
            "The expected velocity based on the radius is nan\n",
            "The actual velocity is nan ± nan\n",
            "The expected expected ratio based on the radius is nan\n",
            "The 2-σ lower and upper limits for the calculated ratio are (nan, nan)\n",
            "The expected ratio IS NOT within 2-σ of the calculated ratio\n",
            "\n",
            "The expected velocity based on the radius is nan\n",
            "The actual velocity is nan ± nan\n",
            "The expected expected ratio based on the radius is nan\n",
            "The 2-σ lower and upper limits for the calculated ratio are (nan, nan)\n",
            "The expected ratio IS NOT within 2-σ of the calculated ratio\n",
            "\n",
            "The expected velocity based on the radius is nan\n",
            "The actual velocity is nan ± nan\n",
            "The expected expected ratio based on the radius is nan\n",
            "The 2-σ lower and upper limits for the calculated ratio are (nan, nan)\n",
            "The expected ratio IS NOT within 2-σ of the calculated ratio\n",
            "\n",
            "---------------------------------------------------------------------------------------------------\n",
            "\u001b[1mUsing the Standard Error\u001b[0m\n",
            "\n",
            "The expected velocity based on the radius is nan\n",
            "The actual velocity is nan ± nan\n",
            "The expected expected ratio based on the radius is nan\n",
            "The 2-σ lower and upper limits for the calculated ratio are (nan, nan)\n",
            "The expected ratio IS NOT within 2-σ of the calculated ratio\n",
            "\n",
            "The expected velocity based on the radius is nan\n",
            "The actual velocity is nan ± nan\n",
            "The expected expected ratio based on the radius is nan\n",
            "The 2-σ lower and upper limits for the calculated ratio are (nan, nan)\n",
            "The expected ratio IS NOT within 2-σ of the calculated ratio\n",
            "\n",
            "The expected velocity based on the radius is nan\n",
            "The actual velocity is nan ± nan\n",
            "The expected expected ratio based on the radius is nan\n",
            "The 2-σ lower and upper limits for the calculated ratio are (nan, nan)\n",
            "The expected ratio IS NOT within 2-σ of the calculated ratio\n",
            "\n"
          ],
          "name": "stdout"
        }
      ]
    },
    {
      "cell_type": "code",
      "metadata": {
        "id": "nRY3NioSPsH5",
        "colab_type": "code",
        "colab": {}
      },
      "source": [
        ""
      ],
      "execution_count": 0,
      "outputs": []
    }
  ]
}