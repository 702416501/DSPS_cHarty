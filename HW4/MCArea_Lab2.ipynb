{
  "nbformat": 4,
  "nbformat_minor": 0,
  "metadata": {
    "colab": {
      "name": "PHYS467_MCArea_Lab2.ipynb",
      "provenance": [],
      "collapsed_sections": [],
      "include_colab_link": true
    },
    "kernelspec": {
      "name": "python3",
      "display_name": "Python 3"
    }
  },
  "cells": [
    {
      "cell_type": "markdown",
      "metadata": {
        "id": "view-in-github",
        "colab_type": "text"
      },
      "source": [
        "<a href=\"https://colab.research.google.com/github/cath19/DSPS_cHarty/blob/master/HW4/MCArea_Lab2.ipynb\" target=\"_parent\"><img src=\"https://colab.research.google.com/assets/colab-badge.svg\" alt=\"Open In Colab\"/></a>"
      ]
    },
    {
      "cell_type": "code",
      "metadata": {
        "id": "1bIVxhiy-7wS",
        "colab_type": "code",
        "colab": {
          "base_uri": "https://localhost:8080/",
          "height": 85
        },
        "outputId": "2bd80f59-bdd4-4894-9a32-19f93128f675"
      },
      "source": [
        "import numpy as np\n",
        "import matplotlib.pyplot as plt\n",
        "%pylab inline\n"
      ],
      "execution_count": 1,
      "outputs": [
        {
          "output_type": "stream",
          "text": [
            "Populating the interactive namespace from numpy and matplotlib\n"
          ],
          "name": "stdout"
        },
        {
          "output_type": "stream",
          "text": [
            "/usr/local/lib/python3.6/dist-packages/IPython/core/magics/pylab.py:161: UserWarning: pylab import has clobbered these variables: ['plt']\n",
            "`%matplotlib` prevents importing * from pylab and numpy\n",
            "  \"\\n`%matplotlib` prevents importing * from pylab and numpy\"\n"
          ],
          "name": "stderr"
        }
      ]
    },
    {
      "cell_type": "code",
      "metadata": {
        "id": "N630ZuE8_Rt2",
        "colab_type": "code",
        "colab": {
          "base_uri": "https://localhost:8080/",
          "height": 340
        },
        "outputId": "e7b1bbc3-53de-434b-96a9-69abed6b88b7"
      },
      "source": [
        "def square(side):\n",
        "  ax = plt.figure(figsize = (5,5)).add_subplot(1,1,1)\n",
        "  \n",
        "  plt.scatter(-side,side)\n",
        "  plt.scatter(-side,side)\n",
        "  plt.scatter(side,-side)\n",
        "  plt.scatter(side,side)\n",
        "  \n",
        "  plt.plot([-side,-side],[-side,side])\n",
        "  plt.plot([side,-side],[side,side])\n",
        "  plt.plot([side,side],[-side,side])\n",
        "  plt.plot([side,-side],[-side,-side])\n",
        "  \n",
        "  return ax\n",
        " "
      ],
      "execution_count": 29,
      "outputs": [
        {
          "output_type": "execute_result",
          "data": {
            "text/plain": [
              "<matplotlib.axes._subplots.AxesSubplot at 0x7fee91d91e10>"
            ]
          },
          "metadata": {
            "tags": []
          },
          "execution_count": 29
        },
        {
          "output_type": "display_data",
          "data": {
            "image/png": "[encoded data removed]",
            "text/plain": [
              "<Figure size 360x360 with 1 Axes>"
            ]
          },
          "metadata": {
            "tags": []
          }
        }
      ]
    },
    {
      "cell_type": "code",
      "metadata": {
        "id": "DJ7PH2wAChgm",
        "colab_type": "code",
        "colab": {
          "base_uri": "https://localhost:8080/",
          "height": 51
        },
        "outputId": "85f9abe8-9dd9-4356-c5c0-6894442838e0"
      },
      "source": [
        "#call the terminal\n",
        "!pip install astropy"
      ],
      "execution_count": 20,
      "outputs": [
        {
          "output_type": "stream",
          "text": [
            "Requirement already satisfied: astropy in /usr/local/lib/python3.6/dist-packages (3.0.5)\n",
            "Requirement already satisfied: numpy>=1.10.0 in /usr/local/lib/python3.6/dist-packages (from astropy) (1.16.5)\n"
          ],
          "name": "stdout"
        }
      ]
    },
    {
      "cell_type": "code",
      "metadata": {
        "id": "q2AcjevV_gVc",
        "colab_type": "code",
        "colab": {
          "base_uri": "https://localhost:8080/",
          "height": 269
        },
        "outputId": "764ff6a4-48c5-46f6-bdd4-4692eba7fcc7"
      },
      "source": [
        "from astropy import units as u\n",
        "\n",
        "def circle(radius,ax):\n",
        "  angle = np.arange(0.0,360.0,0.1)\n",
        "  angle *= u.degree\n",
        "  x = radius * np.cos(angle.to(u.rad))\n",
        "  y = radius * np.sin(angle.to(u.rad))\n",
        "  #print('x: ', x)\n",
        "  #print('y: ', y)\n",
        "  \n",
        "  ax.plot(x,y)\n",
        "\n",
        "  \n",
        "ax = plt.figure().add_subplot(1,1,1)  \n"
      ],
      "execution_count": 37,
      "outputs": [
        {
          "output_type": "display_data",
          "data": {
            "image/png": "[encoded data removed]",
            "text/plain": [
              "<Figure size 432x288 with 1 Axes>"
            ]
          },
          "metadata": {
            "tags": []
          }
        }
      ]
    },
    {
      "cell_type": "code",
      "metadata": {
        "id": "l1Y5dpUhCSDL",
        "colab_type": "code",
        "colab": {
          "base_uri": "https://localhost:8080/",
          "height": 357
        },
        "outputId": "87a019e0-db6b-4e0a-d3dc-55578f993389"
      },
      "source": [
        "axis = square(1)\n",
        "circle(1,axis)\n",
        "\n",
        "np.random.seed(300)\n",
        "num_x = 2 * np.random.rand(10000) - 1\n",
        "num_y = 2 * np.random.rand(10000) - 1\n",
        "\n",
        "axis.scatter(num_x,num_y)\n",
        "\n",
        "\n",
        "r = np.sqrt((num_x**2) + (num_y**2))\n",
        "r_in = r[r < 1]  #Broadcasting: How many points are in the circle\n",
        "\n",
        "print(len(r_in))\n",
        "print((4*len(r_in))/10000)"
      ],
      "execution_count": 45,
      "outputs": [
        {
          "output_type": "stream",
          "text": [
            "7840\n",
            "3.136\n"
          ],
          "name": "stdout"
        },
        {
          "output_type": "display_data",
          "data": {
            "image/png": "[encoded data removed]",
            "text/plain": [
              "<Figure size 360x360 with 1 Axes>"
            ]
          },
          "metadata": {
            "tags": []
          }
        }
      ]
    },
    {
      "cell_type": "markdown",
      "metadata": {
        "id": "MpcoFM9H98Q7",
        "colab_type": "text"
      },
      "source": [
        "The higher the random number amount, the closer to pi the ending result is going to be. "
      ]
    }
  ]
}